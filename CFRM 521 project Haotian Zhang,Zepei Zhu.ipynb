{
 "cells": [
  {
   "cell_type": "markdown",
   "id": "fb1f11a4",
   "metadata": {},
   "source": [
    "<h1>\n",
    "<center>Final Project: Default of Credit Card Clients</center>\n",
    "</h1>\n",
    "\n",
    "<h1>\n",
    "<center>Haotian Zhang, Zepei Zhu</center>\n",
    "</h1>\n",
    "\n",
    "<h1>\n",
    "<center>CFRM 521, Spring 2021</center>\n",
    "</h1>"
   ]
  },
  {
   "cell_type": "markdown",
   "id": "7393b984",
   "metadata": {},
   "source": [
    "<h2>Data Glimpse</h2>"
   ]
  },
  {
   "cell_type": "code",
   "execution_count": 2,
   "id": "50a4be85",
   "metadata": {
    "ExecuteTime": {
     "end_time": "2021-05-26T14:48:39.886499Z",
     "start_time": "2021-05-26T14:48:36.535422Z"
    }
   },
   "outputs": [],
   "source": [
    "#Load data\n",
    "import pandas as pd\n",
    "import numpy as np\n",
    "\n",
    "filename = 'default of credit card clients.xls'\n",
    "data = pd.read_excel(filename,skiprows=1)"
   ]
  },
  {
   "cell_type": "code",
   "execution_count": 3,
   "id": "335414e4",
   "metadata": {
    "ExecuteTime": {
     "end_time": "2021-05-26T14:48:42.266334Z",
     "start_time": "2021-05-26T14:48:42.214377Z"
    }
   },
   "outputs": [
    {
     "data": {
      "text/html": [
       "<div>\n",
       "<style scoped>\n",
       "    .dataframe tbody tr th:only-of-type {\n",
       "        vertical-align: middle;\n",
       "    }\n",
       "\n",
       "    .dataframe tbody tr th {\n",
       "        vertical-align: top;\n",
       "    }\n",
       "\n",
       "    .dataframe thead th {\n",
       "        text-align: right;\n",
       "    }\n",
       "</style>\n",
       "<table border=\"1\" class=\"dataframe\">\n",
       "  <thead>\n",
       "    <tr style=\"text-align: right;\">\n",
       "      <th></th>\n",
       "      <th>ID</th>\n",
       "      <th>LIMIT_BAL</th>\n",
       "      <th>SEX</th>\n",
       "      <th>EDUCATION</th>\n",
       "      <th>MARRIAGE</th>\n",
       "      <th>AGE</th>\n",
       "      <th>PAY_0</th>\n",
       "      <th>PAY_2</th>\n",
       "      <th>PAY_3</th>\n",
       "      <th>PAY_4</th>\n",
       "      <th>...</th>\n",
       "      <th>BILL_AMT4</th>\n",
       "      <th>BILL_AMT5</th>\n",
       "      <th>BILL_AMT6</th>\n",
       "      <th>PAY_AMT1</th>\n",
       "      <th>PAY_AMT2</th>\n",
       "      <th>PAY_AMT3</th>\n",
       "      <th>PAY_AMT4</th>\n",
       "      <th>PAY_AMT5</th>\n",
       "      <th>PAY_AMT6</th>\n",
       "      <th>default payment next month</th>\n",
       "    </tr>\n",
       "  </thead>\n",
       "  <tbody>\n",
       "    <tr>\n",
       "      <th>0</th>\n",
       "      <td>1</td>\n",
       "      <td>20000</td>\n",
       "      <td>2</td>\n",
       "      <td>2</td>\n",
       "      <td>1</td>\n",
       "      <td>24</td>\n",
       "      <td>2</td>\n",
       "      <td>2</td>\n",
       "      <td>-1</td>\n",
       "      <td>-1</td>\n",
       "      <td>...</td>\n",
       "      <td>0</td>\n",
       "      <td>0</td>\n",
       "      <td>0</td>\n",
       "      <td>0</td>\n",
       "      <td>689</td>\n",
       "      <td>0</td>\n",
       "      <td>0</td>\n",
       "      <td>0</td>\n",
       "      <td>0</td>\n",
       "      <td>1</td>\n",
       "    </tr>\n",
       "    <tr>\n",
       "      <th>1</th>\n",
       "      <td>2</td>\n",
       "      <td>120000</td>\n",
       "      <td>2</td>\n",
       "      <td>2</td>\n",
       "      <td>2</td>\n",
       "      <td>26</td>\n",
       "      <td>-1</td>\n",
       "      <td>2</td>\n",
       "      <td>0</td>\n",
       "      <td>0</td>\n",
       "      <td>...</td>\n",
       "      <td>3272</td>\n",
       "      <td>3455</td>\n",
       "      <td>3261</td>\n",
       "      <td>0</td>\n",
       "      <td>1000</td>\n",
       "      <td>1000</td>\n",
       "      <td>1000</td>\n",
       "      <td>0</td>\n",
       "      <td>2000</td>\n",
       "      <td>1</td>\n",
       "    </tr>\n",
       "    <tr>\n",
       "      <th>2</th>\n",
       "      <td>3</td>\n",
       "      <td>90000</td>\n",
       "      <td>2</td>\n",
       "      <td>2</td>\n",
       "      <td>2</td>\n",
       "      <td>34</td>\n",
       "      <td>0</td>\n",
       "      <td>0</td>\n",
       "      <td>0</td>\n",
       "      <td>0</td>\n",
       "      <td>...</td>\n",
       "      <td>14331</td>\n",
       "      <td>14948</td>\n",
       "      <td>15549</td>\n",
       "      <td>1518</td>\n",
       "      <td>1500</td>\n",
       "      <td>1000</td>\n",
       "      <td>1000</td>\n",
       "      <td>1000</td>\n",
       "      <td>5000</td>\n",
       "      <td>0</td>\n",
       "    </tr>\n",
       "    <tr>\n",
       "      <th>3</th>\n",
       "      <td>4</td>\n",
       "      <td>50000</td>\n",
       "      <td>2</td>\n",
       "      <td>2</td>\n",
       "      <td>1</td>\n",
       "      <td>37</td>\n",
       "      <td>0</td>\n",
       "      <td>0</td>\n",
       "      <td>0</td>\n",
       "      <td>0</td>\n",
       "      <td>...</td>\n",
       "      <td>28314</td>\n",
       "      <td>28959</td>\n",
       "      <td>29547</td>\n",
       "      <td>2000</td>\n",
       "      <td>2019</td>\n",
       "      <td>1200</td>\n",
       "      <td>1100</td>\n",
       "      <td>1069</td>\n",
       "      <td>1000</td>\n",
       "      <td>0</td>\n",
       "    </tr>\n",
       "    <tr>\n",
       "      <th>4</th>\n",
       "      <td>5</td>\n",
       "      <td>50000</td>\n",
       "      <td>1</td>\n",
       "      <td>2</td>\n",
       "      <td>1</td>\n",
       "      <td>57</td>\n",
       "      <td>-1</td>\n",
       "      <td>0</td>\n",
       "      <td>-1</td>\n",
       "      <td>0</td>\n",
       "      <td>...</td>\n",
       "      <td>20940</td>\n",
       "      <td>19146</td>\n",
       "      <td>19131</td>\n",
       "      <td>2000</td>\n",
       "      <td>36681</td>\n",
       "      <td>10000</td>\n",
       "      <td>9000</td>\n",
       "      <td>689</td>\n",
       "      <td>679</td>\n",
       "      <td>0</td>\n",
       "    </tr>\n",
       "  </tbody>\n",
       "</table>\n",
       "<p>5 rows × 25 columns</p>\n",
       "</div>"
      ],
      "text/plain": [
       "   ID  LIMIT_BAL  SEX  EDUCATION  MARRIAGE  AGE  PAY_0  PAY_2  PAY_3  PAY_4  \\\n",
       "0   1      20000    2          2         1   24      2      2     -1     -1   \n",
       "1   2     120000    2          2         2   26     -1      2      0      0   \n",
       "2   3      90000    2          2         2   34      0      0      0      0   \n",
       "3   4      50000    2          2         1   37      0      0      0      0   \n",
       "4   5      50000    1          2         1   57     -1      0     -1      0   \n",
       "\n",
       "   ...  BILL_AMT4  BILL_AMT5  BILL_AMT6  PAY_AMT1  PAY_AMT2  PAY_AMT3  \\\n",
       "0  ...          0          0          0         0       689         0   \n",
       "1  ...       3272       3455       3261         0      1000      1000   \n",
       "2  ...      14331      14948      15549      1518      1500      1000   \n",
       "3  ...      28314      28959      29547      2000      2019      1200   \n",
       "4  ...      20940      19146      19131      2000     36681     10000   \n",
       "\n",
       "   PAY_AMT4  PAY_AMT5  PAY_AMT6  default payment next month  \n",
       "0         0         0         0                           1  \n",
       "1      1000         0      2000                           1  \n",
       "2      1000      1000      5000                           0  \n",
       "3      1100      1069      1000                           0  \n",
       "4      9000       689       679                           0  \n",
       "\n",
       "[5 rows x 25 columns]"
      ]
     },
     "execution_count": 3,
     "metadata": {},
     "output_type": "execute_result"
    }
   ],
   "source": [
    "data.head()"
   ]
  },
  {
   "cell_type": "code",
   "execution_count": 4,
   "id": "853e8518",
   "metadata": {
    "ExecuteTime": {
     "end_time": "2021-05-26T14:48:44.186164Z",
     "start_time": "2021-05-26T14:48:44.164179Z"
    }
   },
   "outputs": [
    {
     "name": "stdout",
     "output_type": "stream",
     "text": [
      "<class 'pandas.core.frame.DataFrame'>\n",
      "RangeIndex: 30000 entries, 0 to 29999\n",
      "Data columns (total 25 columns):\n",
      " #   Column                      Non-Null Count  Dtype\n",
      "---  ------                      --------------  -----\n",
      " 0   ID                          30000 non-null  int64\n",
      " 1   LIMIT_BAL                   30000 non-null  int64\n",
      " 2   SEX                         30000 non-null  int64\n",
      " 3   EDUCATION                   30000 non-null  int64\n",
      " 4   MARRIAGE                    30000 non-null  int64\n",
      " 5   AGE                         30000 non-null  int64\n",
      " 6   PAY_0                       30000 non-null  int64\n",
      " 7   PAY_2                       30000 non-null  int64\n",
      " 8   PAY_3                       30000 non-null  int64\n",
      " 9   PAY_4                       30000 non-null  int64\n",
      " 10  PAY_5                       30000 non-null  int64\n",
      " 11  PAY_6                       30000 non-null  int64\n",
      " 12  BILL_AMT1                   30000 non-null  int64\n",
      " 13  BILL_AMT2                   30000 non-null  int64\n",
      " 14  BILL_AMT3                   30000 non-null  int64\n",
      " 15  BILL_AMT4                   30000 non-null  int64\n",
      " 16  BILL_AMT5                   30000 non-null  int64\n",
      " 17  BILL_AMT6                   30000 non-null  int64\n",
      " 18  PAY_AMT1                    30000 non-null  int64\n",
      " 19  PAY_AMT2                    30000 non-null  int64\n",
      " 20  PAY_AMT3                    30000 non-null  int64\n",
      " 21  PAY_AMT4                    30000 non-null  int64\n",
      " 22  PAY_AMT5                    30000 non-null  int64\n",
      " 23  PAY_AMT6                    30000 non-null  int64\n",
      " 24  default payment next month  30000 non-null  int64\n",
      "dtypes: int64(25)\n",
      "memory usage: 5.7 MB\n"
     ]
    }
   ],
   "source": [
    "data.info()"
   ]
  },
  {
   "cell_type": "markdown",
   "id": "a3996081",
   "metadata": {},
   "source": [
    "<h2>Project Blueprint</h2>\n",
    "\n",
    "This dataset records the information of 30,000 (observations) Taiwan credit card clients. The project is to try to establish a predictive method that allows the creditor to make conscious decisions in rendering credits to credit card applicants, and to minimize the risk of default. The dataset is from Department of Information Management, Chung Hua University, Taiwan, and Department of Civil Engineering, Tamkang University, Taiwan. \n",
    "\n",
    "<h2>DATA SNAPSHOT</h2>\n",
    "\n",
    "There are 30,000 observations and 24 features in this dataset. Some labels are very self-explanatory, like GENDER and MARITAL STATUS etc, whereas others may not necessarily be the case. We will provide detailed information of the obscured features.\n",
    "\n",
    "PAY_0 - PAY_6 renders monthly payment record. So PAY_0 is the record of September 2005, PAY_1 is for August 2005,...,PAY_6 is for April 2005. This is a multi-label catagorical label:The measurement scale for the repayment status is: -1 = pay duly; 1 = payment delay for one month; 2 = payment delay for two months; . . .; 8 = payment delay for eight months; 9 = payment delay for nine months and above. \n",
    "\n",
    "BILL_AMT1 - BILL_AMT6 indicates the amount of bill statement (NT dollar). X12 = amount of bill statement in September, 2005; X13 = amount of bill statement in August, 2005; . . .; X17 = amount of bill statement in April, 2005.\n",
    "\n",
    "PAY_AMT1 - PAY_AMT6 signifies the amount of previous payment (NT dollar). X18 = amount paid in September, 2005; X19 = amount paid in August, 2005; . . .;X23 = amount paid in April, 2005. "
   ]
  },
  {
   "cell_type": "code",
   "execution_count": 5,
   "id": "43fb9806",
   "metadata": {
    "ExecuteTime": {
     "end_time": "2021-05-24T07:27:10.463679Z",
     "start_time": "2021-05-24T07:27:10.434681Z"
    }
   },
   "outputs": [
    {
     "data": {
      "text/plain": [
       "0    0.7788\n",
       "1    0.2212\n",
       "Name: default payment next month, dtype: float64"
      ]
     },
     "execution_count": 5,
     "metadata": {},
     "output_type": "execute_result"
    }
   ],
   "source": [
    "data['default payment next month'].value_counts()/len(data['default payment next month'])"
   ]
  },
  {
   "cell_type": "markdown",
   "id": "42924e54",
   "metadata": {},
   "source": [
    "<h2>Word of Caution</h2>\n",
    "\n",
    "1. No missing values in datasets, therefore no imputation needed.\n",
    "\n",
    "2. This is a skewed dataset (as indicated above), most clients (77.88%) do not default on their credit card payments. Stratified sampling is employed to ensure the proportion of default/undefalut clients are the same in training and test set. F1 score and AUC, in addition to accuracy, are also considered in this project to account for the skewedness.\n",
    "\n",
    "3. ID does not carry meaningful information. SEX, EDUCATION, MARRIAGE,PAY_0 to PAY_6 are categorical attributes, and the rest  are numerical attributes.\n",
    "\n",
    "\n",
    "\n",
    "<h2>Preprocessing</h2>"
   ]
  },
  {
   "cell_type": "code",
   "execution_count": 2,
   "id": "4abc720a",
   "metadata": {
    "ExecuteTime": {
     "end_time": "2021-05-26T14:48:53.746494Z",
     "start_time": "2021-05-26T14:48:51.675374Z"
    }
   },
   "outputs": [],
   "source": [
    "#create training set, validation set and test set (stratified sampling)\n",
    "from sklearn.model_selection import StratifiedShuffleSplit\n",
    "\n",
    "split = StratifiedShuffleSplit(n_splits = 1,test_size = 0.2,random_state = 42)\n",
    "for train_valid_index, test_index in split.split(data, data['default payment next month']):\n",
    "    train_valid_set = data.iloc[train_valid_index]\n",
    "    test_set = data.iloc[test_index]\n",
    "\n",
    "for train_index, valid_index in split.split(train_valid_set,train_valid_set['default payment next month']):\n",
    "    train_set = train_valid_set.iloc[train_index]\n",
    "    valid_set = train_valid_set.iloc[valid_index]\n",
    "\n",
    "X_train = train_set.drop('default payment next month',axis=1)\n",
    "y_train = train_set['default payment next month'].copy()\n",
    "\n",
    "X_valid = valid_set.drop('default payment next month',axis=1)\n",
    "y_valid = valid_set['default payment next month'].copy()\n",
    "\n",
    "X_test = test_set.drop('default payment next month',axis=1)\n",
    "y_test = test_set['default payment next month'].copy()"
   ]
  },
  {
   "cell_type": "code",
   "execution_count": 3,
   "id": "fe27f7d9",
   "metadata": {
    "ExecuteTime": {
     "end_time": "2021-05-26T14:48:57.032474Z",
     "start_time": "2021-05-26T14:48:56.963334Z"
    }
   },
   "outputs": [],
   "source": [
    "# Preprocessing data\n",
    "from sklearn.pipeline import Pipeline, FeatureUnion\n",
    "from sklearn.preprocessing import OneHotEncoder, StandardScaler\n",
    "from sklearn.base import BaseEstimator, TransformerMixin\n",
    "\n",
    "class DataFrameSelector(BaseEstimator, TransformerMixin):\n",
    "    def __init__(self, attribute_names):\n",
    "        self.attribute_names = attribute_names\n",
    "    def fit(self, X, y=None):\n",
    "        return self\n",
    "    def transform(self, X):\n",
    "        return X[self.attribute_names]\n",
    "\n",
    "attribute = list(X_train)\n",
    "attribute.remove('ID')\n",
    "attribute.remove('AGE')\n",
    "cat_attribute = attribute[1:10]\n",
    "num_attribute = list(X_train)\n",
    "num_attribute.remove('ID')\n",
    "for item in cat_attribute:\n",
    "    num_attribute.remove(item)\n",
    "\n",
    "num_pipeline = Pipeline([('Select_numeric',DataFrameSelector(num_attribute)),\n",
    "                        ('Standard_Scale',StandardScaler())])\n",
    "\n",
    "cat_pipeline = Pipeline([('Select_cat',DataFrameSelector(cat_attribute)),\n",
    "                        ('cat_enconder',OneHotEncoder(sparse=False))])\n",
    "\n",
    "final_pipeline = FeatureUnion(transformer_list=[('num_pipeline',num_pipeline),\n",
    "                                               ('cat_pipeline',cat_pipeline)])\n",
    "\n",
    "X_train_scale = final_pipeline.fit_transform(X_train)\n",
    "X_valid_scale = final_pipeline.transform(X_valid)\n",
    "X_test_scale = final_pipeline.transform(X_test)"
   ]
  },
  {
   "cell_type": "markdown",
   "id": "92afd57f",
   "metadata": {},
   "source": [
    "<h2>Metric Used</h2>\n",
    "\n",
    "**1. Accuracy**\n",
    "\n",
    "**2. F1 Score**\n",
    "\n",
    "The F1 score can be interpreted as a weighted average of the precision and recall, where an F1 score reaches its best value at 1 and worst score at 0.\n",
    "\n",
    "The formula for the F1 score is: F1 = 2 * (precision * recall) / (precision + recall)\n",
    "\n",
    "**3. AUC**\n",
    "\n",
    "Area Under the Receiver Operating Characteristic Curve (ROC AUC)"
   ]
  },
  {
   "cell_type": "markdown",
   "id": "53eed3fb",
   "metadata": {},
   "source": [
    "<h2>Method Overview</h2>\n",
    "\n",
    "**Accuracy**\n",
    "\n",
    "Logistic: 0.8189$\\newline$\n",
    "Linear SVM: 0.8187$\\newline$\n",
    "SGD: 0.8137$\\newline$\n",
    "SVM with RBF: 0.82$\\newline$\n",
    "Random Forest: 0.8156$\\newline$\n",
    "Hard voting classifier: 0.8160$\\newline$\n",
    "Soft voting classifier: 0.8177$\\newline$\n",
    "Adaboost: 0.8185$\\newline$\n",
    "Gradient Boosting: 0.8164$\\newline$\n",
    "ANN: 0.8160\n",
    "\n",
    "**F1 Score**\n",
    "\n",
    "Logistic Regression: 0.4739$\\newline$\n",
    "Linear SVM: 0.4720$\\newline$\n",
    "SGD: 0.4186$\\newline$\n",
    "SVM with RBF: 0.4605$\\newline$\n",
    "Random Forest: 0.4303$\\newline$\n",
    "Hard voting classifier: 0.4045$\\newline$\n",
    "Soft voting classifier: 0.4351$\\newline$\n",
    "Adaboost: 0.4580$\\newline$\n",
    "Gradient Boosting: 0.4505\n",
    "\n",
    "**AUC**\n",
    "\n",
    "Logistic: 0.7717$\\newline$\n",
    "SGD: 0.7645$\\newline$\n",
    "SVM with RBF: 0.72$\\newline$\n",
    "Random Forest: 0.7599$\\newline$\n",
    "ANN: 0.7740$\\newline$"
   ]
  },
  {
   "cell_type": "markdown",
   "id": "7761fc86",
   "metadata": {},
   "source": [
    "<h2>Logistic Regression</h2>"
   ]
  },
  {
   "cell_type": "code",
   "execution_count": 7,
   "id": "38bfcd41",
   "metadata": {
    "ExecuteTime": {
     "end_time": "2021-05-24T14:17:09.204410Z",
     "start_time": "2021-05-24T14:17:04.766879Z"
    }
   },
   "outputs": [
    {
     "data": {
      "text/plain": [
       "0.8179166666666666"
      ]
     },
     "execution_count": 7,
     "metadata": {},
     "output_type": "execute_result"
    }
   ],
   "source": [
    "from sklearn.metrics import accuracy_score\n",
    "from sklearn.linear_model import LogisticRegression\n",
    "\n",
    "logic_reg = LogisticRegression(C=np.inf,random_state=42,solver='lbfgs',max_iter=2000)\n",
    "logic_reg.fit(X_train_scale,y_train)\n",
    "logic_reg_pred = logic_reg.predict(X_valid_scale)\n",
    "accuracy_score(y_valid,logic_reg_pred)"
   ]
  },
  {
   "cell_type": "markdown",
   "id": "7187201e",
   "metadata": {},
   "source": [
    "With the default setting, the validation accuracy is around 82%. Let's tune for the best hyperparameters and try again."
   ]
  },
  {
   "cell_type": "code",
   "execution_count": 8,
   "id": "586e121a",
   "metadata": {
    "ExecuteTime": {
     "end_time": "2021-05-24T15:23:53.252342Z",
     "start_time": "2021-05-24T15:23:21.993316Z"
    }
   },
   "outputs": [
    {
     "name": "stdout",
     "output_type": "stream",
     "text": [
      "Fitting 3 folds for each of 25 candidates, totalling 75 fits\n"
     ]
    },
    {
     "data": {
      "text/plain": [
       "RandomizedSearchCV(cv=3,\n",
       "                   estimator=LogisticRegression(max_iter=20000,\n",
       "                                                random_state=42),\n",
       "                   n_iter=25, n_jobs=-1,\n",
       "                   param_distributions={'C': <scipy.stats._distn_infrastructure.rv_frozen object at 0x7fdab4537f70>},\n",
       "                   random_state=42, scoring='f1', verbose=1)"
      ]
     },
     "execution_count": 8,
     "metadata": {},
     "output_type": "execute_result"
    }
   ],
   "source": [
    "#search for hyperparameter C\n",
    "from sklearn.model_selection import RandomizedSearchCV\n",
    "from scipy.stats import randint\n",
    "from scipy.stats import uniform\n",
    "\n",
    "param_distribus = {'C':uniform(0.001,3)}\n",
    "logic_reg = LogisticRegression(random_state=42,solver='lbfgs',max_iter=20000)\n",
    "logistic_rnSearch = RandomizedSearchCV(logic_reg, param_distributions= param_distribus,\n",
    "                                      n_iter=25,cv=3,scoring='f1',random_state=42,verbose=1,n_jobs=-1)\n",
    "\n",
    "logistic_rnSearch.fit(X_train_scale,y_train)"
   ]
  },
  {
   "cell_type": "code",
   "execution_count": 9,
   "id": "ba5ffef5",
   "metadata": {
    "ExecuteTime": {
     "end_time": "2021-05-24T15:24:31.034995Z",
     "start_time": "2021-05-24T15:24:31.017006Z"
    }
   },
   "outputs": [
    {
     "data": {
      "text/plain": [
       "{'C': 0.8746874205941257}"
      ]
     },
     "execution_count": 9,
     "metadata": {},
     "output_type": "execute_result"
    }
   ],
   "source": [
    "logistic_rnSearch.best_params_"
   ]
  },
  {
   "cell_type": "code",
   "execution_count": 10,
   "id": "4a3abafd",
   "metadata": {
    "ExecuteTime": {
     "end_time": "2021-05-24T15:24:36.663935Z",
     "start_time": "2021-05-24T15:24:36.648931Z"
    }
   },
   "outputs": [
    {
     "data": {
      "text/plain": [
       "0.4738627091699567"
      ]
     },
     "execution_count": 10,
     "metadata": {},
     "output_type": "execute_result"
    }
   ],
   "source": [
    "logistic_rnSearch.best_score_"
   ]
  },
  {
   "cell_type": "code",
   "execution_count": 11,
   "id": "3b4ef3f9",
   "metadata": {},
   "outputs": [
    {
     "data": {
      "text/plain": [
       "0.8189583333333333"
      ]
     },
     "execution_count": 11,
     "metadata": {},
     "output_type": "execute_result"
    }
   ],
   "source": [
    "y1 = logistic_rnSearch.best_estimator_.predict(X_valid_scale)\n",
    "accuracy_score(y_valid,y1)"
   ]
  },
  {
   "cell_type": "markdown",
   "id": "bdc63f8d",
   "metadata": {},
   "source": [
    "Slight improvement is seen! Let's check for overfitting."
   ]
  },
  {
   "cell_type": "code",
   "execution_count": 12,
   "id": "894f94c1",
   "metadata": {
    "ExecuteTime": {
     "end_time": "2021-05-24T15:24:39.848940Z",
     "start_time": "2021-05-24T15:24:39.832950Z"
    }
   },
   "outputs": [],
   "source": [
    "# function to check for overfitting\n",
    "from sklearn.metrics import f1_score\n",
    "import matplotlib.pyplot as plt\n",
    "\n",
    "def plot_learning_curves(model, X_train, y_train, X_valid, y_valid):\n",
    "    train_errors, val_errors = [],[]\n",
    "    for m in range(100, len(X_train),100):\n",
    "        model.fit(X_train[:m], y_train[:m])\n",
    "        y_train_predict = model.predict(X_train[:m])\n",
    "        y_val_predict = model.predict(X_valid)\n",
    "        train_errors.append(f1_score(y_train[:m], y_train_predict))\n",
    "        val_errors.append(f1_score(y_valid, y_val_predict))\n",
    "            \n",
    "    plt.plot(np.sqrt(train_errors), \"r-+\", linewidth=2, label=\"train\")\n",
    "    plt.plot(np.sqrt(val_errors), \"b-\", linewidth=3, label=\"val\")\n",
    "    plt.legend(loc=\"upper right\", fontsize=14)   \n",
    "    plt.xlabel(\"Training set size(hundreds)\", fontsize=14) \n",
    "    plt.ylabel(\"F1 Score\", fontsize=14)\n"
   ]
  },
  {
   "cell_type": "code",
   "execution_count": 13,
   "id": "df854fa1",
   "metadata": {
    "ExecuteTime": {
     "end_time": "2021-05-24T15:26:17.780704Z",
     "start_time": "2021-05-24T15:24:41.544918Z"
    }
   },
   "outputs": [
    {
     "data": {
      "image/png": "[encoded data removed]",
      "text/plain": [
       "<Figure size 432x288 with 1 Axes>"
      ]
     },
     "metadata": {
      "needs_background": "light"
     },
     "output_type": "display_data"
    }
   ],
   "source": [
    "# check if Logistic Regression is overfitting \n",
    "plot_learning_curves(logistic_rnSearch.best_estimator_,X_train_scale,y_train,X_valid_scale,y_valid)\n",
    "plt.show()"
   ]
  },
  {
   "cell_type": "markdown",
   "id": "47780f38",
   "metadata": {},
   "source": [
    "Logistic regression is slightly overfitting."
   ]
  },
  {
   "cell_type": "markdown",
   "id": "db20fb1b",
   "metadata": {
    "ExecuteTime": {
     "end_time": "2021-05-20T04:45:22.346488Z",
     "start_time": "2021-05-20T04:45:22.339241Z"
    }
   },
   "source": [
    "<h2>Linear SVM Classifier</h2>"
   ]
  },
  {
   "cell_type": "code",
   "execution_count": 14,
   "id": "091f35b1",
   "metadata": {
    "ExecuteTime": {
     "end_time": "2021-05-24T15:46:40.236901Z",
     "start_time": "2021-05-24T15:45:44.916046Z"
    }
   },
   "outputs": [
    {
     "name": "stderr",
     "output_type": "stream",
     "text": [
      "/Users/haotian/opt/miniconda3/envs/hello-tf/lib/python3.8/site-packages/sklearn/svm/_base.py:985: ConvergenceWarning: Liblinear failed to converge, increase the number of iterations.\n",
      "  warnings.warn(\"Liblinear failed to converge, increase \"\n"
     ]
    },
    {
     "data": {
      "text/plain": [
       "0.8185416666666666"
      ]
     },
     "execution_count": 14,
     "metadata": {},
     "output_type": "execute_result"
    }
   ],
   "source": [
    "from sklearn.svm import LinearSVC\n",
    "\n",
    "linear_svm_clf = LinearSVC(random_state=42,max_iter=20000)\n",
    "linear_svm_clf.fit(X_train_scale,y_train)\n",
    "linear_svm_clf_pred = linear_svm_clf.predict(X_valid_scale)\n",
    "accuracy_score(y_valid,linear_svm_clf_pred)"
   ]
  },
  {
   "cell_type": "code",
   "execution_count": 15,
   "id": "efa60f80",
   "metadata": {
    "ExecuteTime": {
     "end_time": "2021-05-24T15:45:12.430932Z",
     "start_time": "2021-05-24T15:27:28.912005Z"
    }
   },
   "outputs": [
    {
     "name": "stdout",
     "output_type": "stream",
     "text": [
      "Fitting 3 folds for each of 25 candidates, totalling 75 fits\n"
     ]
    },
    {
     "name": "stderr",
     "output_type": "stream",
     "text": [
      "/Users/haotian/opt/miniconda3/envs/hello-tf/lib/python3.8/site-packages/sklearn/svm/_base.py:985: ConvergenceWarning: Liblinear failed to converge, increase the number of iterations.\n",
      "  warnings.warn(\"Liblinear failed to converge, increase \"\n"
     ]
    },
    {
     "data": {
      "text/plain": [
       "RandomizedSearchCV(cv=3, estimator=LinearSVC(max_iter=20000, random_state=42),\n",
       "                   n_iter=25, n_jobs=-1,\n",
       "                   param_distributions={'C': <scipy.stats._distn_infrastructure.rv_frozen object at 0x7fda98392d90>},\n",
       "                   random_state=42, scoring='f1', verbose=1)"
      ]
     },
     "execution_count": 15,
     "metadata": {},
     "output_type": "execute_result"
    }
   ],
   "source": [
    "#search for hyperparameter C\n",
    "param_distribus = {'C':uniform(0.1,10)}\n",
    "linear_svm_clf = LinearSVC(random_state=42,max_iter=20000)\n",
    "\n",
    "linearSVM_rnSearch = RandomizedSearchCV(linear_svm_clf, param_distributions= param_distribus,\n",
    "                                      n_iter=25,cv=3,scoring='f1',random_state=42,verbose=1,n_jobs=-1)\n",
    "\n",
    "linearSVM_rnSearch.fit(X_train_scale,y_train)"
   ]
  },
  {
   "cell_type": "code",
   "execution_count": 16,
   "id": "43a4a047",
   "metadata": {
    "ExecuteTime": {
     "end_time": "2021-05-24T15:48:50.746710Z",
     "start_time": "2021-05-24T15:48:50.730715Z"
    }
   },
   "outputs": [
    {
     "data": {
      "text/plain": [
       "{'C': 0.6808361216819946}"
      ]
     },
     "execution_count": 16,
     "metadata": {},
     "output_type": "execute_result"
    }
   ],
   "source": [
    "linearSVM_rnSearch.best_params_"
   ]
  },
  {
   "cell_type": "code",
   "execution_count": 17,
   "id": "52020043",
   "metadata": {
    "ExecuteTime": {
     "end_time": "2021-05-24T15:48:53.504127Z",
     "start_time": "2021-05-24T15:48:53.488121Z"
    }
   },
   "outputs": [
    {
     "data": {
      "text/plain": [
       "0.4720855512647724"
      ]
     },
     "execution_count": 17,
     "metadata": {},
     "output_type": "execute_result"
    }
   ],
   "source": [
    "linearSVM_rnSearch.best_score_"
   ]
  },
  {
   "cell_type": "code",
   "execution_count": 18,
   "id": "9b67ba14",
   "metadata": {},
   "outputs": [
    {
     "data": {
      "text/plain": [
       "0.81875"
      ]
     },
     "execution_count": 18,
     "metadata": {},
     "output_type": "execute_result"
    }
   ],
   "source": [
    "y1 = linearSVM_rnSearch.best_estimator_.predict(X_valid_scale)\n",
    "accuracy_score(y_valid,y1)"
   ]
  },
  {
   "cell_type": "markdown",
   "id": "397ed935",
   "metadata": {},
   "source": [
    "LinearSVM performs just about the same as logistics."
   ]
  },
  {
   "cell_type": "markdown",
   "id": "441ebe5a",
   "metadata": {},
   "source": [
    "<h2>Stochastic Gradient Descent</h2>"
   ]
  },
  {
   "cell_type": "code",
   "execution_count": 19,
   "id": "142f6350",
   "metadata": {
    "ExecuteTime": {
     "end_time": "2021-05-24T08:05:48.617002Z",
     "start_time": "2021-05-24T08:05:48.271119Z"
    }
   },
   "outputs": [
    {
     "data": {
      "text/plain": [
       "0.8141666666666667"
      ]
     },
     "execution_count": 19,
     "metadata": {},
     "output_type": "execute_result"
    }
   ],
   "source": [
    "from sklearn.linear_model import SGDClassifier\n",
    "\n",
    "SGD_clf = SGDClassifier(random_state=42)\n",
    "SGD_clf.fit(X_train_scale,y_train)\n",
    "SGD_clf_pred = SGD_clf.predict(X_valid_scale)\n",
    "accuracy_score(y_valid,SGD_clf_pred)"
   ]
  },
  {
   "cell_type": "code",
   "execution_count": 20,
   "id": "f9cbed91",
   "metadata": {
    "ExecuteTime": {
     "end_time": "2021-05-24T15:51:49.356067Z",
     "start_time": "2021-05-24T15:51:47.160112Z"
    }
   },
   "outputs": [
    {
     "name": "stdout",
     "output_type": "stream",
     "text": [
      "Fitting 5 folds for each of 25 candidates, totalling 125 fits\n"
     ]
    },
    {
     "data": {
      "text/plain": [
       "RandomizedSearchCV(cv=5,\n",
       "                   estimator=SGDClassifier(random_state=42, warm_start=True),\n",
       "                   n_iter=25, n_jobs=-1,\n",
       "                   param_distributions={'alpha': <scipy.stats._distn_infrastructure.rv_frozen object at 0x7fda983bcd60>},\n",
       "                   random_state=42, scoring='f1', verbose=2)"
      ]
     },
     "execution_count": 20,
     "metadata": {},
     "output_type": "execute_result"
    }
   ],
   "source": [
    "# random search for hyperparameter alpha\n",
    "param_distribus = {'alpha':uniform(0.0001,2)}\n",
    "\n",
    "SGD_clf = SGDClassifier(random_state=42,warm_start=True)\n",
    "\n",
    "sgd_rnSearch = RandomizedSearchCV(SGD_clf, param_distributions= param_distribus,\n",
    "                                  n_iter=25,cv=5,scoring='f1',random_state=42,\n",
    "                                  verbose=2,n_jobs=-1)\n",
    "\n",
    "sgd_rnSearch.fit(X_train_scale,y_train)"
   ]
  },
  {
   "cell_type": "code",
   "execution_count": 21,
   "id": "546a8124",
   "metadata": {
    "ExecuteTime": {
     "end_time": "2021-05-24T15:51:52.334992Z",
     "start_time": "2021-05-24T15:51:52.320000Z"
    }
   },
   "outputs": [
    {
     "data": {
      "text/plain": [
       "{'alpha': 0.041268988591604897}"
      ]
     },
     "execution_count": 21,
     "metadata": {},
     "output_type": "execute_result"
    }
   ],
   "source": [
    "sgd_rnSearch.best_params_"
   ]
  },
  {
   "cell_type": "code",
   "execution_count": 22,
   "id": "a538ac12",
   "metadata": {
    "ExecuteTime": {
     "end_time": "2021-05-24T15:51:53.938229Z",
     "start_time": "2021-05-24T15:51:53.928240Z"
    }
   },
   "outputs": [
    {
     "data": {
      "text/plain": [
       "0.41860142674024037"
      ]
     },
     "execution_count": 22,
     "metadata": {},
     "output_type": "execute_result"
    }
   ],
   "source": [
    "sgd_rnSearch.best_score_"
   ]
  },
  {
   "cell_type": "code",
   "execution_count": 23,
   "id": "beed299e",
   "metadata": {},
   "outputs": [
    {
     "data": {
      "text/plain": [
       "0.81375"
      ]
     },
     "execution_count": 23,
     "metadata": {},
     "output_type": "execute_result"
    }
   ],
   "source": [
    "y1 = sgd_rnSearch.best_estimator_.predict(X_valid_scale)\n",
    "accuracy_score(y_valid,y1)"
   ]
  },
  {
   "cell_type": "code",
   "execution_count": 24,
   "id": "45bea3aa",
   "metadata": {
    "ExecuteTime": {
     "end_time": "2021-05-24T15:52:05.222177Z",
     "start_time": "2021-05-24T15:51:58.160103Z"
    }
   },
   "outputs": [
    {
     "data": {
      "image/png": "[encoded data removed]",
      "text/plain": [
       "<Figure size 432x288 with 1 Axes>"
      ]
     },
     "metadata": {
      "needs_background": "light"
     },
     "output_type": "display_data"
    }
   ],
   "source": [
    "# check if SGD Classifier is overfitting \n",
    "plot_learning_curves(sgd_rnSearch.best_estimator_,X_train_scale,y_train,X_valid_scale,y_valid)\n",
    "plt.show()"
   ]
  },
  {
   "cell_type": "markdown",
   "id": "0264b543",
   "metadata": {},
   "source": [
    "SGD is not overfitting, but out-of-sample accuracy dropped from the previous two models."
   ]
  },
  {
   "cell_type": "markdown",
   "id": "ba30ef6b",
   "metadata": {},
   "source": [
    "<h2>SVM with Gaussian RBF kernel</h2>"
   ]
  },
  {
   "cell_type": "code",
   "execution_count": 25,
   "id": "c06b744f",
   "metadata": {
    "ExecuteTime": {
     "end_time": "2021-05-24T08:08:24.153627Z",
     "start_time": "2021-05-24T08:07:23.142605Z"
    }
   },
   "outputs": [
    {
     "data": {
      "text/plain": [
       "0.8175"
      ]
     },
     "execution_count": 25,
     "metadata": {},
     "output_type": "execute_result"
    }
   ],
   "source": [
    "from sklearn.svm import SVC\n",
    "\n",
    "svc_rbf = SVC(kernel='rbf',random_state=42)\n",
    "svc_rbf.fit(X_train_scale,y_train)\n",
    "svc_rbf_pred = svc_rbf.predict(X_valid_scale)\n",
    "accuracy_score(y_valid,svc_rbf_pred)"
   ]
  },
  {
   "cell_type": "code",
   "execution_count": 26,
   "id": "9aab0307",
   "metadata": {
    "ExecuteTime": {
     "end_time": "2021-05-24T16:41:38.591601Z",
     "start_time": "2021-05-24T16:23:05.645774Z"
    }
   },
   "outputs": [
    {
     "name": "stdout",
     "output_type": "stream",
     "text": [
      "Fitting 5 folds for each of 25 candidates, totalling 125 fits\n"
     ]
    },
    {
     "data": {
      "text/plain": [
       "RandomizedSearchCV(cv=5, estimator=SVC(random_state=42), n_iter=25, n_jobs=-1,\n",
       "                   param_distributions={'C': <scipy.stats._distn_infrastructure.rv_frozen object at 0x7fda96f7c970>,\n",
       "                                        'gamma': <scipy.stats._distn_infrastructure.rv_frozen object at 0x7fda99162fa0>},\n",
       "                   random_state=42, scoring='f1', verbose=2)"
      ]
     },
     "execution_count": 26,
     "metadata": {},
     "output_type": "execute_result"
    }
   ],
   "source": [
    "#search for good hyperparameter\n",
    "from scipy.stats import reciprocal\n",
    "\n",
    "param_distribus = {\"gamma\": reciprocal(0.001, 0.1), \"C\": uniform(0.001, 3)}\n",
    "\n",
    "svc_rbf = SVC(kernel='rbf',random_state=42)\n",
    "\n",
    "svc_rbf_rnSearch = RandomizedSearchCV(svc_rbf, param_distributions= param_distribus,\n",
    "                                  n_iter=25,cv=5,scoring='f1',random_state=42,\n",
    "                                  verbose=2,n_jobs=-1)\n",
    "\n",
    "svc_rbf_rnSearch.fit(X_train_scale,y_train)"
   ]
  },
  {
   "cell_type": "code",
   "execution_count": 27,
   "id": "4eb4de46",
   "metadata": {
    "ExecuteTime": {
     "end_time": "2021-05-24T16:41:38.607224Z",
     "start_time": "2021-05-24T16:41:38.591601Z"
    }
   },
   "outputs": [
    {
     "data": {
      "text/plain": [
       "{'C': 2.897896099223678, 'gamma': 0.04138040112561014}"
      ]
     },
     "execution_count": 27,
     "metadata": {},
     "output_type": "execute_result"
    }
   ],
   "source": [
    "svc_rbf_rnSearch.best_params_"
   ]
  },
  {
   "cell_type": "code",
   "execution_count": 28,
   "id": "17d4835c",
   "metadata": {
    "ExecuteTime": {
     "end_time": "2021-05-24T16:41:38.621865Z",
     "start_time": "2021-05-24T16:41:38.609272Z"
    }
   },
   "outputs": [
    {
     "data": {
      "text/plain": [
       "0.4605452319247642"
      ]
     },
     "execution_count": 28,
     "metadata": {},
     "output_type": "execute_result"
    }
   ],
   "source": [
    "svc_rbf_rnSearch.best_score_"
   ]
  },
  {
   "cell_type": "code",
   "execution_count": 30,
   "id": "3dec26d5",
   "metadata": {},
   "outputs": [
    {
     "data": {
      "text/plain": [
       "0.82"
      ]
     },
     "execution_count": 30,
     "metadata": {},
     "output_type": "execute_result"
    }
   ],
   "source": [
    "y1 = svc_rbf_rnSearch.best_estimator_.predict(X_valid_scale)\n",
    "accuracy_score(y_valid,y1)"
   ]
  },
  {
   "cell_type": "code",
   "execution_count": 31,
   "id": "bcbf5b63",
   "metadata": {
    "ExecuteTime": {
     "end_time": "2021-05-24T17:56:24.324841Z",
     "start_time": "2021-05-24T16:41:38.621865Z"
    }
   },
   "outputs": [
    {
     "data": {
      "image/png": "[encoded data removed]",
      "text/plain": [
       "<Figure size 432x288 with 1 Axes>"
      ]
     },
     "metadata": {
      "needs_background": "light"
     },
     "output_type": "display_data"
    }
   ],
   "source": [
    "# check if SVC Gaussian RBF kernel is overfitting \n",
    "plot_learning_curves(svc_rbf_rnSearch.best_estimator_,X_train_scale,y_train,X_valid_scale,y_valid)\n",
    "plt.show()"
   ]
  },
  {
   "cell_type": "markdown",
   "id": "81991f16",
   "metadata": {},
   "source": [
    "SVM with RBF has by far the best performance, but the graph signifies a significant overfitting."
   ]
  },
  {
   "cell_type": "markdown",
   "id": "1d0ad96d",
   "metadata": {},
   "source": [
    "<h2>Random Forest</h2>"
   ]
  },
  {
   "cell_type": "code",
   "execution_count": 32,
   "id": "b277aec0",
   "metadata": {
    "ExecuteTime": {
     "end_time": "2021-05-24T09:34:45.429525Z",
     "start_time": "2021-05-24T09:34:43.860300Z"
    }
   },
   "outputs": [
    {
     "data": {
      "text/plain": [
       "0.8168229166666666"
      ]
     },
     "execution_count": 32,
     "metadata": {},
     "output_type": "execute_result"
    }
   ],
   "source": [
    "from sklearn.ensemble import RandomForestClassifier\n",
    "\n",
    "forest = RandomForestClassifier(n_estimators=100, bootstrap= True,oob_score=True,\n",
    "                                random_state=42, n_jobs=-1)\n",
    "forest.fit(X_train_scale,y_train)\n",
    "forest.oob_score_"
   ]
  },
  {
   "cell_type": "code",
   "execution_count": 33,
   "id": "97186b38",
   "metadata": {
    "ExecuteTime": {
     "end_time": "2021-05-25T04:19:38.000142Z",
     "start_time": "2021-05-25T04:17:22.894491Z"
    }
   },
   "outputs": [
    {
     "name": "stdout",
     "output_type": "stream",
     "text": [
      "Fitting 3 folds for each of 25 candidates, totalling 75 fits\n",
      "[CV] END .....max_depth=3, max_features=56, n_estimators=142; total time=   2.4s\n",
      "[CV] END .....max_depth=3, max_features=56, n_estimators=142; total time=   2.4s\n",
      "[CV] END .....max_depth=3, max_features=56, n_estimators=142; total time=   2.3s\n",
      "[CV] END ......max_depth=3, max_features=76, n_estimators=70; total time=   1.5s\n",
      "[CV] END ......max_depth=3, max_features=76, n_estimators=70; total time=   1.5s\n",
      "[CV] END ......max_depth=3, max_features=76, n_estimators=70; total time=   1.5s\n",
      "[CV] END .....max_depth=3, max_features=87, n_estimators=124; total time=   3.0s\n",
      "[CV] END .....max_depth=3, max_features=87, n_estimators=124; total time=   3.1s\n",
      "[CV] END .....max_depth=3, max_features=87, n_estimators=124; total time=   3.0s\n",
      "[CV] END .....max_depth=3, max_features=28, n_estimators=180; total time=   1.7s\n",
      "[CV] END .....max_depth=3, max_features=28, n_estimators=180; total time=   1.7s\n",
      "[CV] END .....max_depth=3, max_features=28, n_estimators=180; total time=   1.7s\n",
      "[CV] END ......max_depth=2, max_features=57, n_estimators=51; total time=   0.6s\n",
      "[CV] END ......max_depth=2, max_features=57, n_estimators=51; total time=   0.6s\n",
      "[CV] END ......max_depth=2, max_features=57, n_estimators=51; total time=   0.6s\n",
      "[CV] END .....max_depth=2, max_features=42, n_estimators=179; total time=   1.7s\n",
      "[CV] END .....max_depth=2, max_features=42, n_estimators=179; total time=   1.7s\n",
      "[CV] END .....max_depth=2, max_features=42, n_estimators=179; total time=   1.7s\n",
      "[CV] END .....max_depth=1, max_features=37, n_estimators=107; total time=   0.5s\n",
      "[CV] END .....max_depth=1, max_features=37, n_estimators=107; total time=   0.5s\n",
      "[CV] END .....max_depth=1, max_features=37, n_estimators=107; total time=   0.6s\n",
      "[CV] END .....max_depth=2, max_features=53, n_estimators=108; total time=   1.2s\n",
      "[CV] END .....max_depth=2, max_features=53, n_estimators=108; total time=   1.2s\n",
      "[CV] END .....max_depth=2, max_features=53, n_estimators=108; total time=   1.2s\n",
      "[CV] END ......max_depth=3, max_features=46, n_estimators=64; total time=   0.9s\n",
      "[CV] END ......max_depth=3, max_features=46, n_estimators=64; total time=   0.9s\n",
      "[CV] END ......max_depth=3, max_features=46, n_estimators=64; total time=   0.9s\n",
      "[CV] END .....max_depth=2, max_features=66, n_estimators=100; total time=   1.4s\n",
      "[CV] END .....max_depth=2, max_features=66, n_estimators=100; total time=   1.4s\n",
      "[CV] END .....max_depth=2, max_features=66, n_estimators=100; total time=   1.4s\n",
      "[CV] END .....max_depth=3, max_features=68, n_estimators=180; total time=   3.5s\n",
      "[CV] END .....max_depth=3, max_features=68, n_estimators=180; total time=   3.6s\n",
      "[CV] END .....max_depth=3, max_features=68, n_estimators=180; total time=   3.6s\n",
      "[CV] END .....max_depth=1, max_features=55, n_estimators=184; total time=   1.2s\n",
      "[CV] END .....max_depth=1, max_features=55, n_estimators=184; total time=   1.2s\n",
      "[CV] END .....max_depth=1, max_features=55, n_estimators=184; total time=   1.2s\n",
      "[CV] END ......max_depth=1, max_features=77, n_estimators=67; total time=   0.6s\n",
      "[CV] END ......max_depth=1, max_features=77, n_estimators=67; total time=   0.6s\n",
      "[CV] END ......max_depth=1, max_features=77, n_estimators=67; total time=   0.6s\n",
      "[CV] END ......max_depth=1, max_features=64, n_estimators=63; total time=   0.5s\n",
      "[CV] END ......max_depth=1, max_features=64, n_estimators=63; total time=   0.5s\n",
      "[CV] END ......max_depth=1, max_features=64, n_estimators=63; total time=   0.5s\n",
      "[CV] END .....max_depth=2, max_features=13, n_estimators=139; total time=   0.6s\n",
      "[CV] END .....max_depth=2, max_features=13, n_estimators=139; total time=   0.6s\n",
      "[CV] END .....max_depth=2, max_features=13, n_estimators=139; total time=   0.6s\n",
      "[CV] END ......max_depth=1, max_features=6, n_estimators=133; total time=   0.3s\n",
      "[CV] END ......max_depth=1, max_features=6, n_estimators=133; total time=   0.3s\n",
      "[CV] END ......max_depth=1, max_features=6, n_estimators=133; total time=   0.3s\n",
      "[CV] END ......max_depth=3, max_features=64, n_estimators=57; total time=   1.1s\n",
      "[CV] END ......max_depth=3, max_features=64, n_estimators=57; total time=   1.1s\n",
      "[CV] END ......max_depth=3, max_features=64, n_estimators=57; total time=   1.1s\n",
      "[CV] END .....max_depth=3, max_features=39, n_estimators=130; total time=   1.6s\n",
      "[CV] END .....max_depth=3, max_features=39, n_estimators=130; total time=   1.6s\n",
      "[CV] END .....max_depth=3, max_features=39, n_estimators=130; total time=   1.6s\n",
      "[CV] END .......max_depth=2, max_features=8, n_estimators=51; total time=   0.2s\n",
      "[CV] END .......max_depth=2, max_features=8, n_estimators=51; total time=   0.2s\n",
      "[CV] END .......max_depth=2, max_features=8, n_estimators=51; total time=   0.2s\n",
      "[CV] END .....max_depth=2, max_features=10, n_estimators=103; total time=   0.4s\n",
      "[CV] END .....max_depth=2, max_features=10, n_estimators=103; total time=   0.4s\n",
      "[CV] END .....max_depth=2, max_features=10, n_estimators=103; total time=   0.4s\n",
      "[CV] END ......max_depth=2, max_features=8, n_estimators=103; total time=   0.3s\n",
      "[CV] END ......max_depth=2, max_features=8, n_estimators=103; total time=   0.4s\n",
      "[CV] END ......max_depth=2, max_features=8, n_estimators=103; total time=   0.4s\n",
      "[CV] END .....max_depth=1, max_features=67, n_estimators=195; total time=   1.5s\n",
      "[CV] END .....max_depth=1, max_features=67, n_estimators=195; total time=   1.5s\n",
      "[CV] END .....max_depth=1, max_features=67, n_estimators=195; total time=   1.5s\n",
      "[CV] END ......max_depth=2, max_features=48, n_estimators=63; total time=   0.7s\n",
      "[CV] END ......max_depth=2, max_features=48, n_estimators=63; total time=   0.7s\n",
      "[CV] END ......max_depth=2, max_features=48, n_estimators=63; total time=   0.7s\n",
      "[CV] END ......max_depth=3, max_features=52, n_estimators=64; total time=   1.0s\n",
      "[CV] END ......max_depth=3, max_features=52, n_estimators=64; total time=   1.0s\n",
      "[CV] END ......max_depth=3, max_features=52, n_estimators=64; total time=   1.0s\n",
      "[CV] END ......max_depth=2, max_features=66, n_estimators=89; total time=   1.2s\n",
      "[CV] END ......max_depth=2, max_features=66, n_estimators=89; total time=   1.2s\n",
      "[CV] END ......max_depth=2, max_features=66, n_estimators=89; total time=   1.2s\n"
     ]
    },
    {
     "data": {
      "text/plain": [
       "RandomizedSearchCV(cv=3, estimator=RandomForestClassifier(random_state=42),\n",
       "                   n_iter=25,\n",
       "                   param_distributions={'max_depth': <scipy.stats._distn_infrastructure.rv_frozen object at 0x7fda87016910>,\n",
       "                                        'max_features': <scipy.stats._distn_infrastructure.rv_frozen object at 0x7fda870036a0>,\n",
       "                                        'n_estimators': <scipy.stats._distn_infrastructure.rv_frozen object at 0x7fda87003130>},\n",
       "                   random_state=42, scoring='f1', verbose=2)"
      ]
     },
     "execution_count": 33,
     "metadata": {},
     "output_type": "execute_result"
    }
   ],
   "source": [
    "#search for good hyperparameter \n",
    "param_distribus = {'n_estimators':randint(50,200),'max_depth':randint(1,4),'max_features':randint(5,90)}\n",
    "\n",
    "forest = RandomForestClassifier(bootstrap=True,random_state=42)\n",
    "\n",
    "forest_rnSearch = RandomizedSearchCV(forest, param_distributions= param_distribus,\n",
    "                                     n_iter=25,cv=3,scoring='f1',random_state=42,\n",
    "                                     verbose=2)\n",
    "\n",
    "forest_rnSearch.fit(X_train_scale,y_train)"
   ]
  },
  {
   "cell_type": "code",
   "execution_count": 34,
   "id": "0cc445f7",
   "metadata": {
    "ExecuteTime": {
     "end_time": "2021-05-25T04:34:18.376865Z",
     "start_time": "2021-05-25T04:34:18.368869Z"
    }
   },
   "outputs": [
    {
     "data": {
      "text/plain": [
       "{'max_depth': 3, 'max_features': 39, 'n_estimators': 130}"
      ]
     },
     "execution_count": 34,
     "metadata": {},
     "output_type": "execute_result"
    }
   ],
   "source": [
    "forest_rnSearch.best_params_"
   ]
  },
  {
   "cell_type": "code",
   "execution_count": 35,
   "id": "8cb015a6",
   "metadata": {
    "ExecuteTime": {
     "end_time": "2021-05-25T04:34:19.586042Z",
     "start_time": "2021-05-25T04:34:19.569051Z"
    }
   },
   "outputs": [
    {
     "data": {
      "text/plain": [
       "0.43036838822524426"
      ]
     },
     "execution_count": 35,
     "metadata": {},
     "output_type": "execute_result"
    }
   ],
   "source": [
    "forest_rnSearch.best_score_"
   ]
  },
  {
   "cell_type": "code",
   "execution_count": 36,
   "id": "1a0e32d3",
   "metadata": {},
   "outputs": [
    {
     "data": {
      "text/plain": [
       "0.815625"
      ]
     },
     "execution_count": 36,
     "metadata": {},
     "output_type": "execute_result"
    }
   ],
   "source": [
    "y1 = forest_rnSearch.best_estimator_.predict(X_valid_scale)\n",
    "accuracy_score(y_valid,y1)"
   ]
  },
  {
   "cell_type": "code",
   "execution_count": 37,
   "id": "4cba3835",
   "metadata": {
    "ExecuteTime": {
     "end_time": "2021-05-25T04:40:19.136310Z",
     "start_time": "2021-05-25T04:34:21.313087Z"
    },
    "scrolled": true
   },
   "outputs": [
    {
     "data": {
      "image/png": "[encoded data removed]",
      "text/plain": [
       "<Figure size 432x288 with 1 Axes>"
      ]
     },
     "metadata": {
      "needs_background": "light"
     },
     "output_type": "display_data"
    }
   ],
   "source": [
    "# check if Random Forest is overfitting \n",
    "plot_learning_curves(forest_rnSearch.best_estimator_,X_train_scale,y_train,X_valid_scale,y_valid)\n",
    "plt.show()"
   ]
  },
  {
   "cell_type": "markdown",
   "id": "c9acf925",
   "metadata": {},
   "source": [
    "With a similar performance, Random Forest is slight overfitting."
   ]
  },
  {
   "cell_type": "markdown",
   "id": "ea178e39",
   "metadata": {},
   "source": [
    "<h2>ROC curve and ROC AUC: Logistic, SGD, RF, SVM RBF</h2>"
   ]
  },
  {
   "cell_type": "code",
   "execution_count": 38,
   "id": "6c719d7c",
   "metadata": {
    "ExecuteTime": {
     "end_time": "2021-05-24T10:40:03.666176Z",
     "start_time": "2021-05-24T10:37:42.375887Z"
    }
   },
   "outputs": [
    {
     "data": {
      "image/png": "[encoded data removed]",
      "text/plain": [
       "<Figure size 576x432 with 1 Axes>"
      ]
     },
     "metadata": {
      "needs_background": "light"
     },
     "output_type": "display_data"
    }
   ],
   "source": [
    "#compare Logistic Regression, SGD Classifier, Random Forest and SVC Gaussian RBF kernel\n",
    "from sklearn.metrics import roc_curve, roc_auc_score\n",
    "from sklearn.model_selection import cross_val_predict, cross_val_score\n",
    "import matplotlib.pyplot as plt\n",
    "import matplotlib as mpl\n",
    "\n",
    "#plot function \n",
    "def plot_roc_curve(fpr, tpr, label=None):\n",
    "    plt.plot(fpr, tpr, linewidth=2, label=label)\n",
    "    plt.plot([0, 1], [0, 1], 'k--')\n",
    "    plt.axis([0, 1, 0, 1])\n",
    "    plt.xlabel('False Positive Rate', fontsize=16)\n",
    "    plt.ylabel('True Positive Rate', fontsize=16)\n",
    "\n",
    "forest = forest_rnSearch.best_estimator_\n",
    "forest.set_params(oob_score = True, warm_start = False).fit(X_train_scale,y_train)\n",
    "y_scores_forest = forest.oob_decision_function_[:,1]\n",
    "fpr_forest , tpr_forest ,thresholds_forest = roc_curve(y_train,y_scores_forest)\n",
    "\n",
    "y_scores_SGDclf = cross_val_predict(sgd_rnSearch.best_estimator_,X_train_scale,y_train,\n",
    "                                    cv=5,method=\"decision_function\")\n",
    "y_scores_SVCrbf = cross_val_predict(svc_rbf_rnSearch.best_estimator_,X_train_scale,y_train,\n",
    "                                    cv=5,method=\"decision_function\")\n",
    "y_scores_logic = cross_val_predict(logistic_rnSearch.best_estimator_,X_train_scale,y_train,\n",
    "                                   cv=5,method='predict_proba')\n",
    "\n",
    "fpr_sgd, tpr_sgd, thresholds_sgd = roc_curve(y_train,y_scores_SGDclf)\n",
    "fpr_rbf, tpr_rbf, thresholds_rbf = roc_curve(y_train,y_scores_SVCrbf)\n",
    "fpr_logic, tpr_logic, thresholds_logic = roc_curve(y_train,y_scores_logic[:,1])\n",
    "\n",
    "plt.figure(figsize=(8, 6))\n",
    "plt.plot(fpr_sgd, tpr_sgd, \"b:\", linewidth=2, label=\"SGD\")\n",
    "plt.plot(fpr_logic,tpr_logic,'r:',linewidth=2,label='Logistic Regression')\n",
    "plt.plot(fpr_forest,tpr_forest,'g:',linewidth=2,label='Random Forest')\n",
    "plot_roc_curve(fpr_rbf,tpr_rbf,'SVC Gaussian RBF')\n",
    "plt.legend(loc=\"lower right\", fontsize=16)\n",
    "plt.show()"
   ]
  },
  {
   "cell_type": "code",
   "execution_count": 39,
   "id": "3e8423a8",
   "metadata": {
    "ExecuteTime": {
     "end_time": "2021-05-25T15:45:53.351386Z",
     "start_time": "2021-05-25T15:45:53.319403Z"
    }
   },
   "outputs": [
    {
     "name": "stdout",
     "output_type": "stream",
     "text": [
      "Area under curve:\n",
      " SGD Classifier:0.764501\n",
      " SVC Guassian RBF:0.720016\n",
      " Logistic Regression:0.771757\n",
      " Random Forest:0.759963\n"
     ]
    }
   ],
   "source": [
    "auc_SGDclf = roc_auc_score(y_train,y_scores_SGDclf)\n",
    "auc_SVCrbf = roc_auc_score(y_train,y_scores_SVCrbf)\n",
    "auc_logistic = roc_auc_score(y_train,y_scores_logic[:,1])\n",
    "auc_forest = roc_auc_score(y_train,y_scores_forest)\n",
    "print('Area under curve:\\n SGD Classifier:%f\\n SVC Guassian RBF:%f\\n Logistic Regression:%f\\n Random Forest:%f'%(\n",
    "auc_SGDclf,auc_SVCrbf,auc_logistic,auc_forest))"
   ]
  },
  {
   "cell_type": "markdown",
   "id": "fff42e5b",
   "metadata": {
    "ExecuteTime": {
     "end_time": "2021-05-20T07:02:13.842978Z",
     "start_time": "2021-05-20T07:02:13.823876Z"
    }
   },
   "source": [
    "<h2>Hard/Soft Voting Classifier</h2>"
   ]
  },
  {
   "cell_type": "code",
   "execution_count": 40,
   "id": "204095bf",
   "metadata": {
    "ExecuteTime": {
     "end_time": "2021-05-25T05:42:43.969815Z",
     "start_time": "2021-05-25T05:41:43.253195Z"
    }
   },
   "outputs": [
    {
     "data": {
      "text/plain": [
       "0.8160416666666667"
      ]
     },
     "execution_count": 40,
     "metadata": {},
     "output_type": "execute_result"
    }
   ],
   "source": [
    "#hard voting classifier\n",
    "from sklearn.ensemble import VotingClassifier\n",
    "\n",
    "voting_clf_hard = VotingClassifier(estimators=[('logistic',logistic_rnSearch.best_estimator_),\n",
    "                                               ('SGD',sgd_rnSearch.best_estimator_),\n",
    "                                               ('SVC_RBF',svc_rbf_rnSearch.best_estimator_),\n",
    "                                               ('Forest',forest_rnSearch.best_estimator_)],voting='hard')\n",
    "voting_clf_hard.fit(X_train_scale,y_train)\n",
    "voting_clf_hard_valid_pred = voting_clf_hard.predict(X_valid_scale)\n",
    "accuracy_score(y_valid,voting_clf_hard_valid_pred)"
   ]
  },
  {
   "cell_type": "code",
   "execution_count": 41,
   "id": "3dd971be",
   "metadata": {
    "ExecuteTime": {
     "end_time": "2021-05-25T05:46:30.955632Z",
     "start_time": "2021-05-25T05:46:30.938627Z"
    }
   },
   "outputs": [
    {
     "data": {
      "text/plain": [
       "0.40458530006743093"
      ]
     },
     "execution_count": 41,
     "metadata": {},
     "output_type": "execute_result"
    }
   ],
   "source": [
    "f1_score(y_valid,voting_clf_hard_valid_pred)"
   ]
  },
  {
   "cell_type": "code",
   "execution_count": 42,
   "id": "b42852a3",
   "metadata": {
    "ExecuteTime": {
     "end_time": "2021-05-25T07:11:12.323770Z",
     "start_time": "2021-05-25T05:47:49.291210Z"
    }
   },
   "outputs": [
    {
     "data": {
      "image/png": "[encoded data removed]",
      "text/plain": [
       "<Figure size 432x288 with 1 Axes>"
      ]
     },
     "metadata": {
      "needs_background": "light"
     },
     "output_type": "display_data"
    }
   ],
   "source": [
    "# check if hard voting classifier is overfitting \n",
    "plot_learning_curves(voting_clf_hard,X_train_scale,y_train,X_valid_scale,y_valid)\n",
    "plt.show()"
   ]
  },
  {
   "cell_type": "code",
   "execution_count": 43,
   "id": "01c8f679",
   "metadata": {
    "ExecuteTime": {
     "end_time": "2021-05-25T07:33:42.461694Z",
     "start_time": "2021-05-25T07:29:43.732160Z"
    }
   },
   "outputs": [
    {
     "data": {
      "text/plain": [
       "0.8177083333333334"
      ]
     },
     "execution_count": 43,
     "metadata": {},
     "output_type": "execute_result"
    }
   ],
   "source": [
    "#soft voting classifier\n",
    "voting_clf_soft = VotingClassifier(estimators=[('logistic',logistic_rnSearch.best_estimator_),\n",
    "                                               ('SVC_RBF',svc_rbf_rnSearch.best_estimator_.set_params(probability=True)),\n",
    "                                               ('Forest',forest_rnSearch.best_estimator_)], voting='soft')\n",
    "voting_clf_soft.fit(X_train_scale,y_train)\n",
    "voting_clf_soft_valid_pred = voting_clf_soft.predict(X_valid_scale)\n",
    "accuracy_score(y_valid,voting_clf_soft_valid_pred)"
   ]
  },
  {
   "cell_type": "code",
   "execution_count": 44,
   "id": "650db4d7",
   "metadata": {
    "ExecuteTime": {
     "end_time": "2021-05-25T08:01:08.379972Z",
     "start_time": "2021-05-25T08:01:08.357987Z"
    }
   },
   "outputs": [
    {
     "data": {
      "text/plain": [
       "0.43511943189154295"
      ]
     },
     "execution_count": 44,
     "metadata": {},
     "output_type": "execute_result"
    }
   ],
   "source": [
    "f1_score(y_valid,voting_clf_soft_valid_pred)"
   ]
  },
  {
   "cell_type": "code",
   "execution_count": 45,
   "id": "acc13373",
   "metadata": {
    "ExecuteTime": {
     "end_time": "2021-05-25T12:13:06.015995Z",
     "start_time": "2021-05-25T08:02:19.781591Z"
    }
   },
   "outputs": [
    {
     "data": {
      "image/png": "[encoded data removed]",
      "text/plain": [
       "<Figure size 432x288 with 1 Axes>"
      ]
     },
     "metadata": {
      "needs_background": "light"
     },
     "output_type": "display_data"
    }
   ],
   "source": [
    "# check if soft voting classifier is overfitting \n",
    "plot_learning_curves(voting_clf_soft,X_train_scale,y_train,X_valid_scale,y_valid)\n",
    "plt.show()\n"
   ]
  },
  {
   "cell_type": "markdown",
   "id": "4c5f68ed",
   "metadata": {},
   "source": [
    "Again, slight overfitting is observed in both voting classifers."
   ]
  },
  {
   "cell_type": "markdown",
   "id": "717e6e0f",
   "metadata": {},
   "source": [
    "<h2>Adaboost</h2>"
   ]
  },
  {
   "cell_type": "code",
   "execution_count": 46,
   "id": "ad060be2",
   "metadata": {
    "ExecuteTime": {
     "end_time": "2021-05-25T12:13:36.450174Z",
     "start_time": "2021-05-25T12:13:33.499174Z"
    }
   },
   "outputs": [
    {
     "data": {
      "text/plain": [
       "0.8120833333333334"
      ]
     },
     "execution_count": 46,
     "metadata": {},
     "output_type": "execute_result"
    }
   ],
   "source": [
    "from sklearn.ensemble import AdaBoostClassifier\n",
    "from sklearn.tree import DecisionTreeClassifier\n",
    "\n",
    "ada = AdaBoostClassifier(DecisionTreeClassifier(max_depth=1), n_estimators=50,\n",
    "                         algorithm=\"SAMME.R\", learning_rate=0.5, random_state=42)\n",
    "ada.fit(X_train_scale, y_train)\n",
    "ada_pred = ada.predict(X_valid_scale)\n",
    "accuracy_score(y_valid,ada_pred)"
   ]
  },
  {
   "cell_type": "code",
   "execution_count": 47,
   "id": "8611658f",
   "metadata": {
    "ExecuteTime": {
     "end_time": "2021-05-25T12:24:19.814873Z",
     "start_time": "2021-05-25T12:14:29.061063Z"
    }
   },
   "outputs": [
    {
     "name": "stdout",
     "output_type": "stream",
     "text": [
      "Fitting 5 folds for each of 25 candidates, totalling 125 fits\n",
      "[CV] END .learning_rate=0.3745401188473625, n_estimators=142; total time=   3.1s\n",
      "[CV] END .learning_rate=0.3745401188473625, n_estimators=142; total time=   3.0s\n",
      "[CV] END .learning_rate=0.3745401188473625, n_estimators=142; total time=   3.0s\n",
      "[CV] END .learning_rate=0.3745401188473625, n_estimators=142; total time=   3.0s\n",
      "[CV] END .learning_rate=0.3745401188473625, n_estimators=142; total time=   3.0s\n",
      "[CV] END .learning_rate=0.1834347898661638, n_estimators=121; total time=   2.6s\n",
      "[CV] END .learning_rate=0.1834347898661638, n_estimators=121; total time=   2.6s\n",
      "[CV] END .learning_rate=0.1834347898661638, n_estimators=121; total time=   2.6s\n",
      "[CV] END .learning_rate=0.1834347898661638, n_estimators=121; total time=   2.6s\n",
      "[CV] END .learning_rate=0.1834347898661638, n_estimators=121; total time=   2.6s\n",
      "[CV] END .learning_rate=0.5986584841970366, n_estimators=152; total time=   3.2s\n",
      "[CV] END .learning_rate=0.5986584841970366, n_estimators=152; total time=   3.2s\n",
      "[CV] END .learning_rate=0.5986584841970366, n_estimators=152; total time=   3.2s\n",
      "[CV] END .learning_rate=0.5986584841970366, n_estimators=152; total time=   3.2s\n",
      "[CV] END .learning_rate=0.5986584841970366, n_estimators=152; total time=   3.3s\n",
      "[CV] END learning_rate=0.44583275285359114, n_estimators=124; total time=   2.7s\n",
      "[CV] END learning_rate=0.44583275285359114, n_estimators=124; total time=   2.6s\n",
      "[CV] END learning_rate=0.44583275285359114, n_estimators=124; total time=   2.7s\n",
      "[CV] END learning_rate=0.44583275285359114, n_estimators=124; total time=   2.7s\n",
      "[CV] END learning_rate=0.44583275285359114, n_estimators=124; total time=   2.7s\n",
      "[CV] END learning_rate=0.45924889196586716, n_estimators=166; total time=   3.6s\n",
      "[CV] END learning_rate=0.45924889196586716, n_estimators=166; total time=   3.6s\n",
      "[CV] END learning_rate=0.45924889196586716, n_estimators=166; total time=   3.5s\n",
      "[CV] END learning_rate=0.45924889196586716, n_estimators=166; total time=   3.5s\n",
      "[CV] END learning_rate=0.45924889196586716, n_estimators=166; total time=   3.5s\n",
      "[CV] END .learning_rate=0.6011150117432088, n_estimators=180; total time=   3.8s\n",
      "[CV] END .learning_rate=0.6011150117432088, n_estimators=180; total time=   3.8s\n",
      "[CV] END .learning_rate=0.6011150117432088, n_estimators=180; total time=   3.8s\n",
      "[CV] END .learning_rate=0.6011150117432088, n_estimators=180; total time=   3.8s\n",
      "[CV] END .learning_rate=0.6011150117432088, n_estimators=180; total time=   3.8s\n",
      "[CV] END learning_rate=0.020584494295802447, n_estimators=51; total time=   1.1s\n",
      "[CV] END learning_rate=0.020584494295802447, n_estimators=51; total time=   1.1s\n",
      "[CV] END learning_rate=0.020584494295802447, n_estimators=51; total time=   1.1s\n",
      "[CV] END learning_rate=0.020584494295802447, n_estimators=51; total time=   1.1s\n",
      "[CV] END learning_rate=0.020584494295802447, n_estimators=51; total time=   1.1s\n",
      "[CV] END ..learning_rate=0.7219987722668247, n_estimators=87; total time=   1.9s\n",
      "[CV] END ..learning_rate=0.7219987722668247, n_estimators=87; total time=   1.9s\n",
      "[CV] END ..learning_rate=0.7219987722668247, n_estimators=87; total time=   1.9s\n",
      "[CV] END ..learning_rate=0.7219987722668247, n_estimators=87; total time=   1.9s\n",
      "[CV] END ..learning_rate=0.7219987722668247, n_estimators=87; total time=   1.9s\n",
      "[CV] END learning_rate=0.0007787658410143283, n_estimators=70; total time=   1.5s\n",
      "[CV] END learning_rate=0.0007787658410143283, n_estimators=70; total time=   1.5s\n",
      "[CV] END learning_rate=0.0007787658410143283, n_estimators=70; total time=   1.5s\n",
      "[CV] END learning_rate=0.0007787658410143283, n_estimators=70; total time=   1.5s\n",
      "[CV] END learning_rate=0.0007787658410143283, n_estimators=70; total time=   1.6s\n",
      "[CV] END .learning_rate=0.6174815096277165, n_estimators=107; total time=   2.3s\n",
      "[CV] END .learning_rate=0.6174815096277165, n_estimators=107; total time=   2.3s\n",
      "[CV] END .learning_rate=0.6174815096277165, n_estimators=107; total time=   2.3s\n",
      "[CV] END .learning_rate=0.6174815096277165, n_estimators=107; total time=   2.3s\n",
      "[CV] END .learning_rate=0.6174815096277165, n_estimators=107; total time=   2.3s\n",
      "[CV] END .learning_rate=0.5247564316322378, n_estimators=138; total time=   2.9s\n",
      "[CV] END .learning_rate=0.5247564316322378, n_estimators=138; total time=   2.9s\n",
      "[CV] END .learning_rate=0.5247564316322378, n_estimators=138; total time=   2.9s\n",
      "[CV] END .learning_rate=0.5247564316322378, n_estimators=138; total time=   2.9s\n",
      "[CV] END .learning_rate=0.5247564316322378, n_estimators=138; total time=   3.0s\n",
      "[CV] END .learning_rate=0.2912291401980419, n_estimators=108; total time=   2.3s\n",
      "[CV] END .learning_rate=0.2912291401980419, n_estimators=108; total time=   2.3s\n",
      "[CV] END .learning_rate=0.2912291401980419, n_estimators=108; total time=   2.3s\n",
      "[CV] END .learning_rate=0.2912291401980419, n_estimators=108; total time=   2.4s\n",
      "[CV] END .learning_rate=0.2912291401980419, n_estimators=108; total time=   2.4s\n",
      "[CV] END ..learning_rate=0.3998609717152555, n_estimators=64; total time=   1.4s\n",
      "[CV] END ..learning_rate=0.3998609717152555, n_estimators=64; total time=   1.4s\n",
      "[CV] END ..learning_rate=0.3998609717152555, n_estimators=64; total time=   1.4s\n",
      "[CV] END ..learning_rate=0.3998609717152555, n_estimators=64; total time=   1.4s\n",
      "[CV] END ..learning_rate=0.3998609717152555, n_estimators=64; total time=   1.4s\n",
      "[CV] END learning_rate=0.45606998421703593, n_estimators=100; total time=   2.1s\n",
      "[CV] END learning_rate=0.45606998421703593, n_estimators=100; total time=   2.2s\n",
      "[CV] END learning_rate=0.45606998421703593, n_estimators=100; total time=   2.1s\n",
      "[CV] END learning_rate=0.45606998421703593, n_estimators=100; total time=   2.2s\n",
      "[CV] END learning_rate=0.45606998421703593, n_estimators=100; total time=   2.2s\n",
      "[CV] END learning_rate=0.38246199126716274, n_estimators=113; total time=   2.4s\n",
      "[CV] END learning_rate=0.38246199126716274, n_estimators=113; total time=   2.4s\n",
      "[CV] END learning_rate=0.38246199126716274, n_estimators=113; total time=   2.4s\n",
      "[CV] END learning_rate=0.38246199126716274, n_estimators=113; total time=   2.6s\n",
      "[CV] END learning_rate=0.38246199126716274, n_estimators=113; total time=   2.4s\n",
      "[CV] END .learning_rate=0.4667628932479799, n_estimators=100; total time=   2.1s\n",
      "[CV] END .learning_rate=0.4667628932479799, n_estimators=100; total time=   2.1s\n",
      "[CV] END .learning_rate=0.4667628932479799, n_estimators=100; total time=   2.2s\n",
      "[CV] END .learning_rate=0.4667628932479799, n_estimators=100; total time=   2.1s\n",
      "[CV] END .learning_rate=0.4667628932479799, n_estimators=100; total time=   2.2s\n",
      "[CV] END .learning_rate=0.6803075385877797, n_estimators=122; total time=   2.7s\n",
      "[CV] END .learning_rate=0.6803075385877797, n_estimators=122; total time=   2.7s\n",
      "[CV] END .learning_rate=0.6803075385877797, n_estimators=122; total time=   2.6s\n",
      "[CV] END .learning_rate=0.6803075385877797, n_estimators=122; total time=   2.6s\n",
      "[CV] END .learning_rate=0.6803075385877797, n_estimators=122; total time=   2.7s\n",
      "[CV] END learning_rate=0.06505159298527952, n_estimators=181; total time=   3.9s\n",
      "[CV] END learning_rate=0.06505159298527952, n_estimators=181; total time=   3.9s\n",
      "[CV] END learning_rate=0.06505159298527952, n_estimators=181; total time=   3.8s\n",
      "[CV] END learning_rate=0.06505159298527952, n_estimators=181; total time=   3.8s\n",
      "[CV] END learning_rate=0.06505159298527952, n_estimators=181; total time=   3.8s\n",
      "[CV] END ..learning_rate=0.9422017556848528, n_estimators=63; total time=   1.4s\n",
      "[CV] END ..learning_rate=0.9422017556848528, n_estimators=63; total time=   1.4s\n",
      "[CV] END ..learning_rate=0.9422017556848528, n_estimators=63; total time=   1.4s\n",
      "[CV] END ..learning_rate=0.9422017556848528, n_estimators=63; total time=   1.3s\n",
      "[CV] END ..learning_rate=0.9422017556848528, n_estimators=63; total time=   1.4s\n",
      "[CV] END ..learning_rate=0.8083973481164611, n_estimators=58; total time=   1.3s\n",
      "[CV] END ..learning_rate=0.8083973481164611, n_estimators=58; total time=   1.3s\n",
      "[CV] END ..learning_rate=0.8083973481164611, n_estimators=58; total time=   1.2s\n",
      "[CV] END ..learning_rate=0.8083973481164611, n_estimators=58; total time=   1.2s\n",
      "[CV] END ..learning_rate=0.8083973481164611, n_estimators=58; total time=   1.3s\n",
      "[CV] END learning_rate=0.015966252220214194, n_estimators=179; total time=   3.8s\n"
     ]
    },
    {
     "name": "stdout",
     "output_type": "stream",
     "text": [
      "[CV] END learning_rate=0.015966252220214194, n_estimators=179; total time=   3.8s\n",
      "[CV] END learning_rate=0.015966252220214194, n_estimators=179; total time=   3.7s\n",
      "[CV] END learning_rate=0.015966252220214194, n_estimators=179; total time=   3.8s\n",
      "[CV] END learning_rate=0.015966252220214194, n_estimators=179; total time=   3.8s\n",
      "[CV] END .learning_rate=0.6842330265121569, n_estimators=160; total time=   3.4s\n",
      "[CV] END .learning_rate=0.6842330265121569, n_estimators=160; total time=   3.4s\n",
      "[CV] END .learning_rate=0.6842330265121569, n_estimators=160; total time=   3.3s\n",
      "[CV] END .learning_rate=0.6842330265121569, n_estimators=160; total time=   3.4s\n",
      "[CV] END .learning_rate=0.6842330265121569, n_estimators=160; total time=   3.3s\n",
      "[CV] END ..learning_rate=0.6832635188254582, n_estimators=57; total time=   1.2s\n",
      "[CV] END ..learning_rate=0.6832635188254582, n_estimators=57; total time=   1.2s\n",
      "[CV] END ..learning_rate=0.6832635188254582, n_estimators=57; total time=   1.2s\n",
      "[CV] END ..learning_rate=0.6832635188254582, n_estimators=57; total time=   1.2s\n",
      "[CV] END ..learning_rate=0.6832635188254582, n_estimators=57; total time=   1.2s\n",
      "[CV] END learning_rate=0.034388521115218396, n_estimators=130; total time=   2.7s\n",
      "[CV] END learning_rate=0.034388521115218396, n_estimators=130; total time=   2.7s\n",
      "[CV] END learning_rate=0.034388521115218396, n_estimators=130; total time=   2.7s\n",
      "[CV] END learning_rate=0.034388521115218396, n_estimators=130; total time=   2.7s\n",
      "[CV] END learning_rate=0.034388521115218396, n_estimators=130; total time=   2.7s\n",
      "[CV] END .learning_rate=0.2587799816000169, n_estimators=153; total time=   3.2s\n",
      "[CV] END .learning_rate=0.2587799816000169, n_estimators=153; total time=   3.2s\n",
      "[CV] END .learning_rate=0.2587799816000169, n_estimators=153; total time=   3.3s\n",
      "[CV] END .learning_rate=0.2587799816000169, n_estimators=153; total time=   3.2s\n",
      "[CV] END .learning_rate=0.2587799816000169, n_estimators=153; total time=   3.2s\n"
     ]
    },
    {
     "data": {
      "text/plain": [
       "RandomizedSearchCV(cv=5,\n",
       "                   estimator=AdaBoostClassifier(base_estimator=DecisionTreeClassifier(max_depth=1),\n",
       "                                                random_state=42),\n",
       "                   n_iter=25,\n",
       "                   param_distributions={'learning_rate': <scipy.stats._distn_infrastructure.rv_frozen object at 0x7fda99cf2a00>,\n",
       "                                        'n_estimators': <scipy.stats._distn_infrastructure.rv_frozen object at 0x7fda9915d3a0>},\n",
       "                   random_state=42, scoring='f1', verbose=2)"
      ]
     },
     "execution_count": 47,
     "metadata": {},
     "output_type": "execute_result"
    }
   ],
   "source": [
    "#search for good hyperparameter\n",
    "param_distribus = {'n_estimators':randint(50,200),'learning_rate':uniform(0,1)}\n",
    "\n",
    "ada = AdaBoostClassifier(DecisionTreeClassifier(max_depth=1),algorithm=\"SAMME.R\",random_state=42)\n",
    "\n",
    "ada_rnSearch = RandomizedSearchCV(ada, param_distributions = param_distribus,\n",
    "                                  n_iter=25, cv=5, scoring='f1', random_state=42, \n",
    "                                  verbose=2)\n",
    "ada_rnSearch.fit(X_train_scale,y_train)"
   ]
  },
  {
   "cell_type": "code",
   "execution_count": 48,
   "id": "9631093c",
   "metadata": {
    "ExecuteTime": {
     "end_time": "2021-05-25T12:24:36.983432Z",
     "start_time": "2021-05-25T12:24:36.967864Z"
    }
   },
   "outputs": [
    {
     "data": {
      "text/plain": [
       "{'learning_rate': 0.9422017556848528, 'n_estimators': 63}"
      ]
     },
     "execution_count": 48,
     "metadata": {},
     "output_type": "execute_result"
    }
   ],
   "source": [
    "ada_rnSearch.best_params_"
   ]
  },
  {
   "cell_type": "code",
   "execution_count": 49,
   "id": "efe8f68a",
   "metadata": {
    "ExecuteTime": {
     "end_time": "2021-05-25T12:24:43.981614Z",
     "start_time": "2021-05-25T12:24:43.968627Z"
    }
   },
   "outputs": [
    {
     "data": {
      "text/plain": [
       "0.45806806725468147"
      ]
     },
     "execution_count": 49,
     "metadata": {},
     "output_type": "execute_result"
    }
   ],
   "source": [
    "ada_rnSearch.best_score_"
   ]
  },
  {
   "cell_type": "code",
   "execution_count": 50,
   "id": "de1cb79b",
   "metadata": {},
   "outputs": [
    {
     "data": {
      "text/plain": [
       "0.8185416666666666"
      ]
     },
     "execution_count": 50,
     "metadata": {},
     "output_type": "execute_result"
    }
   ],
   "source": [
    "y1 = ada_rnSearch.best_estimator_.predict(X_valid_scale)\n",
    "accuracy_score(y_valid,y1)"
   ]
  },
  {
   "cell_type": "code",
   "execution_count": 51,
   "id": "865a5c7c",
   "metadata": {
    "ExecuteTime": {
     "end_time": "2021-05-25T12:31:57.835959Z",
     "start_time": "2021-05-25T12:26:07.847216Z"
    }
   },
   "outputs": [
    {
     "data": {
      "image/png": "[encoded data removed]",
      "text/plain": [
       "<Figure size 432x288 with 1 Axes>"
      ]
     },
     "metadata": {
      "needs_background": "light"
     },
     "output_type": "display_data"
    }
   ],
   "source": [
    "# check if Adaboost is overfitting \n",
    "plot_learning_curves(ada_rnSearch.best_estimator_,X_train_scale,y_train,X_valid_scale,y_valid)\n",
    "plt.show()"
   ]
  },
  {
   "cell_type": "markdown",
   "id": "0bda31cf",
   "metadata": {},
   "source": [
    "Adaboost is not overfitting as much and has a good performance."
   ]
  },
  {
   "cell_type": "markdown",
   "id": "f090b241",
   "metadata": {
    "ExecuteTime": {
     "end_time": "2021-05-20T08:13:18.105504Z",
     "start_time": "2021-05-20T08:13:18.095010Z"
    }
   },
   "source": [
    "<h2>Gradient Boosting</h2>"
   ]
  },
  {
   "cell_type": "code",
   "execution_count": 52,
   "id": "d82884c4",
   "metadata": {
    "ExecuteTime": {
     "end_time": "2021-05-25T12:32:48.425437Z",
     "start_time": "2021-05-25T12:32:21.494178Z"
    }
   },
   "outputs": [
    {
     "data": {
      "text/plain": [
       "0.813125"
      ]
     },
     "execution_count": 52,
     "metadata": {},
     "output_type": "execute_result"
    }
   ],
   "source": [
    "from sklearn.ensemble import GradientBoostingClassifier\n",
    "\n",
    "gradientBoost = GradientBoostingClassifier(max_depth=9,learning_rate=0.01,n_estimators=100,random_state=42)\n",
    "gradientBoost.fit(X_train_scale,y_train)\n",
    "gradientBoost_valid_pred = gradientBoost.predict(X_valid_scale)\n",
    "accuracy_score(y_valid,gradientBoost_valid_pred)"
   ]
  },
  {
   "cell_type": "code",
   "execution_count": 53,
   "id": "22fd91ab",
   "metadata": {
    "ExecuteTime": {
     "end_time": "2021-05-25T14:20:11.147478Z",
     "start_time": "2021-05-25T14:18:55.747564Z"
    }
   },
   "outputs": [
    {
     "name": "stdout",
     "output_type": "stream",
     "text": [
      "Fitting 5 folds for each of 25 candidates, totalling 125 fits\n",
      "[CV] END learning_rate=0.05618101782710437, max_depth=1, n_estimators=19; total time=   0.3s\n",
      "[CV] END learning_rate=0.05618101782710437, max_depth=1, n_estimators=19; total time=   0.3s\n",
      "[CV] END learning_rate=0.05618101782710437, max_depth=1, n_estimators=19; total time=   0.3s\n",
      "[CV] END learning_rate=0.05618101782710437, max_depth=1, n_estimators=19; total time=   0.3s\n",
      "[CV] END learning_rate=0.05618101782710437, max_depth=1, n_estimators=19; total time=   0.3s\n",
      "[CV] END learning_rate=0.10979909127171077, max_depth=1, n_estimators=9; total time=   0.2s\n",
      "[CV] END learning_rate=0.10979909127171077, max_depth=1, n_estimators=9; total time=   0.2s\n",
      "[CV] END learning_rate=0.10979909127171077, max_depth=1, n_estimators=9; total time=   0.2s\n",
      "[CV] END learning_rate=0.10979909127171077, max_depth=1, n_estimators=9; total time=   0.2s\n",
      "[CV] END learning_rate=0.10979909127171077, max_depth=1, n_estimators=9; total time=   0.2s\n",
      "[CV] END learning_rate=0.023402796066365476, max_depth=3, n_estimators=11; total time=   0.5s\n",
      "[CV] END learning_rate=0.023402796066365476, max_depth=3, n_estimators=11; total time=   0.5s\n",
      "[CV] END learning_rate=0.023402796066365476, max_depth=3, n_estimators=11; total time=   0.5s\n",
      "[CV] END learning_rate=0.023402796066365476, max_depth=3, n_estimators=11; total time=   0.5s\n",
      "[CV] END learning_rate=0.023402796066365476, max_depth=3, n_estimators=11; total time=   0.5s\n",
      "[CV] END learning_rate=0.008712541825229918, max_depth=1, n_estimators=8; total time=   0.1s\n",
      "[CV] END learning_rate=0.008712541825229918, max_depth=1, n_estimators=8; total time=   0.1s\n",
      "[CV] END learning_rate=0.008712541825229918, max_depth=1, n_estimators=8; total time=   0.1s\n",
      "[CV] END learning_rate=0.008712541825229918, max_depth=1, n_estimators=8; total time=   0.1s\n",
      "[CV] END learning_rate=0.008712541825229918, max_depth=1, n_estimators=8; total time=   0.1s\n",
      "[CV] END learning_rate=0.021430022688291115, max_depth=3, n_estimators=10; total time=   0.5s\n",
      "[CV] END learning_rate=0.021430022688291115, max_depth=3, n_estimators=10; total time=   0.5s\n",
      "[CV] END learning_rate=0.021430022688291115, max_depth=3, n_estimators=10; total time=   0.5s\n",
      "[CV] END learning_rate=0.021430022688291115, max_depth=3, n_estimators=10; total time=   0.5s\n",
      "[CV] END learning_rate=0.021430022688291115, max_depth=3, n_estimators=10; total time=   0.5s\n",
      "[CV] END learning_rate=0.008461736854065038, max_depth=2, n_estimators=10; total time=   0.3s\n",
      "[CV] END learning_rate=0.008461736854065038, max_depth=2, n_estimators=10; total time=   0.3s\n",
      "[CV] END learning_rate=0.008461736854065038, max_depth=2, n_estimators=10; total time=   0.3s\n",
      "[CV] END learning_rate=0.008461736854065038, max_depth=2, n_estimators=10; total time=   0.3s\n",
      "[CV] END learning_rate=0.008461736854065038, max_depth=2, n_estimators=10; total time=   0.3s\n",
      "[CV] END learning_rate=0.00011681487615214924, max_depth=1, n_estimators=5; total time=   0.1s\n",
      "[CV] END learning_rate=0.00011681487615214924, max_depth=1, n_estimators=5; total time=   0.1s\n",
      "[CV] END learning_rate=0.00011681487615214924, max_depth=1, n_estimators=5; total time=   0.1s\n",
      "[CV] END learning_rate=0.00011681487615214924, max_depth=1, n_estimators=5; total time=   0.1s\n",
      "[CV] END learning_rate=0.00011681487615214924, max_depth=1, n_estimators=5; total time=   0.1s\n",
      "[CV] END learning_rate=0.045636336443930656, max_depth=2, n_estimators=17; total time=   0.5s\n",
      "[CV] END learning_rate=0.045636336443930656, max_depth=2, n_estimators=17; total time=   0.5s\n",
      "[CV] END learning_rate=0.045636336443930656, max_depth=2, n_estimators=17; total time=   0.5s\n",
      "[CV] END learning_rate=0.045636336443930656, max_depth=2, n_estimators=17; total time=   0.5s\n",
      "[CV] END learning_rate=0.045636336443930656, max_depth=2, n_estimators=17; total time=   0.6s\n",
      "[CV] END learning_rate=0.06479175279631737, max_depth=1, n_estimators=15; total time=   0.3s\n",
      "[CV] END learning_rate=0.06479175279631737, max_depth=1, n_estimators=15; total time=   0.3s\n",
      "[CV] END learning_rate=0.06479175279631737, max_depth=1, n_estimators=15; total time=   0.3s\n",
      "[CV] END learning_rate=0.06479175279631737, max_depth=1, n_estimators=15; total time=   0.3s\n",
      "[CV] END learning_rate=0.06479175279631737, max_depth=1, n_estimators=15; total time=   0.3s\n",
      "[CV] END learning_rate=0.09177793420835692, max_depth=2, n_estimators=16; total time=   0.5s\n",
      "[CV] END learning_rate=0.09177793420835692, max_depth=2, n_estimators=16; total time=   0.5s\n",
      "[CV] END learning_rate=0.09177793420835692, max_depth=2, n_estimators=16; total time=   0.5s\n",
      "[CV] END learning_rate=0.09177793420835692, max_depth=2, n_estimators=16; total time=   0.5s\n",
      "[CV] END learning_rate=0.09177793420835692, max_depth=2, n_estimators=16; total time=   0.5s\n",
      "[CV] END learning_rate=0.14606332782621886, max_depth=3, n_estimators=18; total time=   0.8s\n",
      "[CV] END learning_rate=0.14606332782621886, max_depth=3, n_estimators=18; total time=   0.8s\n",
      "[CV] END learning_rate=0.14606332782621886, max_depth=3, n_estimators=18; total time=   0.8s\n",
      "[CV] END learning_rate=0.14606332782621886, max_depth=3, n_estimators=18; total time=   0.8s\n",
      "[CV] END learning_rate=0.14606332782621886, max_depth=3, n_estimators=18; total time=   0.8s\n",
      "[CV] END learning_rate=0.01359096517992312, max_depth=2, n_estimators=7; total time=   0.2s\n",
      "[CV] END learning_rate=0.01359096517992312, max_depth=2, n_estimators=7; total time=   0.2s\n",
      "[CV] END learning_rate=0.01359096517992312, max_depth=2, n_estimators=7; total time=   0.2s\n",
      "[CV] END learning_rate=0.01359096517992312, max_depth=2, n_estimators=7; total time=   0.2s\n",
      "[CV] END learning_rate=0.01359096517992312, max_depth=2, n_estimators=7; total time=   0.2s\n",
      "[CV] END learning_rate=0.057369298690074406, max_depth=1, n_estimators=7; total time=   0.1s\n",
      "[CV] END learning_rate=0.057369298690074406, max_depth=1, n_estimators=7; total time=   0.1s\n",
      "[CV] END learning_rate=0.057369298690074406, max_depth=1, n_estimators=7; total time=   0.1s\n",
      "[CV] END learning_rate=0.057369298690074406, max_depth=1, n_estimators=7; total time=   0.1s\n",
      "[CV] END learning_rate=0.057369298690074406, max_depth=1, n_estimators=7; total time=   0.1s\n",
      "[CV] END learning_rate=0.12899106101044808, max_depth=3, n_estimators=9; total time=   0.4s\n",
      "[CV] END learning_rate=0.12899106101044808, max_depth=3, n_estimators=9; total time=   0.4s\n",
      "[CV] END learning_rate=0.12899106101044808, max_depth=3, n_estimators=9; total time=   0.4s\n",
      "[CV] END learning_rate=0.12899106101044808, max_depth=3, n_estimators=9; total time=   0.5s\n",
      "[CV] END learning_rate=0.12899106101044808, max_depth=3, n_estimators=9; total time=   0.4s\n",
      "[CV] END learning_rate=0.06757488779543144, max_depth=2, n_estimators=8; total time=   0.3s\n",
      "[CV] END learning_rate=0.06757488779543144, max_depth=2, n_estimators=8; total time=   0.3s\n",
      "[CV] END learning_rate=0.06757488779543144, max_depth=2, n_estimators=8; total time=   0.3s\n",
      "[CV] END learning_rate=0.06757488779543144, max_depth=2, n_estimators=8; total time=   0.3s\n",
      "[CV] END learning_rate=0.06757488779543144, max_depth=2, n_estimators=8; total time=   0.3s\n",
      "[CV] END learning_rate=0.14133026335272791, max_depth=2, n_estimators=6; total time=   0.2s\n",
      "[CV] END learning_rate=0.14133026335272791, max_depth=2, n_estimators=6; total time=   0.2s\n",
      "[CV] END learning_rate=0.14133026335272791, max_depth=2, n_estimators=6; total time=   0.2s\n",
      "[CV] END learning_rate=0.14133026335272791, max_depth=2, n_estimators=6; total time=   0.2s\n",
      "[CV] END learning_rate=0.14133026335272791, max_depth=2, n_estimators=6; total time=   0.2s\n",
      "[CV] END learning_rate=0.05781247538098741, max_depth=2, n_estimators=9; total time=   0.3s\n",
      "[CV] END learning_rate=0.05781247538098741, max_depth=2, n_estimators=9; total time=   0.3s\n",
      "[CV] END learning_rate=0.05781247538098741, max_depth=2, n_estimators=9; total time=   0.3s\n",
      "[CV] END learning_rate=0.05781247538098741, max_depth=2, n_estimators=9; total time=   0.3s\n",
      "[CV] END learning_rate=0.05781247538098741, max_depth=2, n_estimators=9; total time=   0.3s\n",
      "[CV] END learning_rate=0.03463407384332235, max_depth=3, n_estimators=16; total time=   0.8s\n",
      "[CV] END learning_rate=0.03463407384332235, max_depth=3, n_estimators=16; total time=   0.7s\n",
      "[CV] END learning_rate=0.03463407384332235, max_depth=3, n_estimators=16; total time=   0.7s\n"
     ]
    },
    {
     "name": "stdout",
     "output_type": "stream",
     "text": [
      "[CV] END learning_rate=0.03463407384332235, max_depth=3, n_estimators=16; total time=   0.7s\n",
      "[CV] END learning_rate=0.03463407384332235, max_depth=3, n_estimators=16; total time=   0.7s\n",
      "[CV] END learning_rate=0.018305735226716822, max_depth=1, n_estimators=12; total time=   0.2s\n",
      "[CV] END learning_rate=0.018305735226716822, max_depth=1, n_estimators=12; total time=   0.2s\n",
      "[CV] END learning_rate=0.018305735226716822, max_depth=1, n_estimators=12; total time=   0.2s\n",
      "[CV] END learning_rate=0.018305735226716822, max_depth=1, n_estimators=12; total time=   0.2s\n",
      "[CV] END learning_rate=0.018305735226716822, max_depth=1, n_estimators=12; total time=   0.2s\n",
      "[CV] END learning_rate=0.005158278167282759, max_depth=2, n_estimators=5; total time=   0.2s\n",
      "[CV] END learning_rate=0.005158278167282759, max_depth=2, n_estimators=5; total time=   0.2s\n",
      "[CV] END learning_rate=0.005158278167282759, max_depth=2, n_estimators=5; total time=   0.2s\n",
      "[CV] END learning_rate=0.005158278167282759, max_depth=2, n_estimators=5; total time=   0.2s\n",
      "[CV] END learning_rate=0.005158278167282759, max_depth=2, n_estimators=5; total time=   0.2s\n",
      "[CV] END learning_rate=0.03881699724000254, max_depth=2, n_estimators=18; total time=   0.6s\n",
      "[CV] END learning_rate=0.03881699724000254, max_depth=2, n_estimators=18; total time=   0.6s\n",
      "[CV] END learning_rate=0.03881699724000254, max_depth=2, n_estimators=18; total time=   0.6s\n",
      "[CV] END learning_rate=0.03881699724000254, max_depth=2, n_estimators=18; total time=   0.6s\n",
      "[CV] END learning_rate=0.03881699724000254, max_depth=2, n_estimators=18; total time=   0.6s\n",
      "[CV] END learning_rate=0.07801020317667162, max_depth=2, n_estimators=8; total time=   0.3s\n",
      "[CV] END learning_rate=0.07801020317667162, max_depth=2, n_estimators=8; total time=   0.3s\n",
      "[CV] END learning_rate=0.07801020317667162, max_depth=2, n_estimators=8; total time=   0.3s\n",
      "[CV] END learning_rate=0.07801020317667162, max_depth=2, n_estimators=8; total time=   0.3s\n",
      "[CV] END learning_rate=0.07801020317667162, max_depth=2, n_estimators=8; total time=   0.3s\n",
      "[CV] END learning_rate=0.027728168328829055, max_depth=3, n_estimators=6; total time=   0.3s\n",
      "[CV] END learning_rate=0.027728168328829055, max_depth=3, n_estimators=6; total time=   0.3s\n",
      "[CV] END learning_rate=0.027728168328829055, max_depth=3, n_estimators=6; total time=   0.3s\n",
      "[CV] END learning_rate=0.027728168328829055, max_depth=3, n_estimators=6; total time=   0.3s\n",
      "[CV] END learning_rate=0.027728168328829055, max_depth=3, n_estimators=6; total time=   0.3s\n",
      "[CV] END learning_rate=0.11626992350416718, max_depth=2, n_estimators=14; total time=   0.4s\n",
      "[CV] END learning_rate=0.11626992350416718, max_depth=2, n_estimators=14; total time=   0.5s\n",
      "[CV] END learning_rate=0.11626992350416718, max_depth=2, n_estimators=14; total time=   0.5s\n",
      "[CV] END learning_rate=0.11626992350416718, max_depth=2, n_estimators=14; total time=   0.5s\n",
      "[CV] END learning_rate=0.11626992350416718, max_depth=2, n_estimators=14; total time=   0.4s\n",
      "[CV] END learning_rate=0.13422410256414732, max_depth=2, n_estimators=19; total time=   0.6s\n",
      "[CV] END learning_rate=0.13422410256414732, max_depth=2, n_estimators=19; total time=   0.6s\n",
      "[CV] END learning_rate=0.13422410256414732, max_depth=2, n_estimators=19; total time=   0.6s\n",
      "[CV] END learning_rate=0.13422410256414732, max_depth=2, n_estimators=19; total time=   0.6s\n",
      "[CV] END learning_rate=0.13422410256414732, max_depth=2, n_estimators=19; total time=   0.6s\n"
     ]
    },
    {
     "data": {
      "text/plain": [
       "RandomizedSearchCV(cv=5, estimator=GradientBoostingClassifier(random_state=42),\n",
       "                   n_iter=25,\n",
       "                   param_distributions={'learning_rate': <scipy.stats._distn_infrastructure.rv_frozen object at 0x7fda87003ee0>,\n",
       "                                        'max_depth': <scipy.stats._distn_infrastructure.rv_frozen object at 0x7fda99d0ec70>,\n",
       "                                        'n_estimators': <scipy.stats._distn_infrastructure.rv_frozen object at 0x7fda87016e50>},\n",
       "                   random_state=42, scoring='f1', verbose=2)"
      ]
     },
     "execution_count": 53,
     "metadata": {},
     "output_type": "execute_result"
    }
   ],
   "source": [
    "# search for good hyperparameter\n",
    "param_distribus = {'max_depth':randint(1,4),'n_estimators':randint(5,20),'learning_rate':uniform(0,0.15)}\n",
    "\n",
    "gradientBoost = GradientBoostingClassifier(random_state=42)\n",
    "\n",
    "gradientBoost_rnSearch = RandomizedSearchCV(gradientBoost, param_distributions = param_distribus,\n",
    "                                            n_iter=25, cv=5, scoring='f1', random_state=42, \n",
    "                                            verbose=2)\n",
    "\n",
    "gradientBoost_rnSearch.fit(X_train_scale,y_train)"
   ]
  },
  {
   "cell_type": "code",
   "execution_count": 54,
   "id": "ed3841e9",
   "metadata": {
    "ExecuteTime": {
     "end_time": "2021-05-25T14:21:20.258878Z",
     "start_time": "2021-05-25T14:21:20.250868Z"
    }
   },
   "outputs": [
    {
     "data": {
      "text/plain": [
       "{'learning_rate': 0.14606332782621886, 'max_depth': 3, 'n_estimators': 18}"
      ]
     },
     "execution_count": 54,
     "metadata": {},
     "output_type": "execute_result"
    }
   ],
   "source": [
    "gradientBoost_rnSearch.best_params_"
   ]
  },
  {
   "cell_type": "code",
   "execution_count": 55,
   "id": "987bc083",
   "metadata": {
    "ExecuteTime": {
     "end_time": "2021-05-25T14:21:22.557811Z",
     "start_time": "2021-05-25T14:21:22.554812Z"
    }
   },
   "outputs": [
    {
     "data": {
      "text/plain": [
       "0.45052734748926804"
      ]
     },
     "execution_count": 55,
     "metadata": {},
     "output_type": "execute_result"
    }
   ],
   "source": [
    "gradientBoost_rnSearch.best_score_"
   ]
  },
  {
   "cell_type": "code",
   "execution_count": 56,
   "id": "f65b5148",
   "metadata": {},
   "outputs": [
    {
     "data": {
      "text/plain": [
       "0.8164583333333333"
      ]
     },
     "execution_count": 56,
     "metadata": {},
     "output_type": "execute_result"
    }
   ],
   "source": [
    "y1 = gradientBoost_rnSearch.best_estimator_.predict(X_valid_scale)\n",
    "accuracy_score(y_valid,y1)"
   ]
  },
  {
   "cell_type": "code",
   "execution_count": 57,
   "id": "d91035eb",
   "metadata": {
    "ExecuteTime": {
     "end_time": "2021-05-25T14:23:58.644807Z",
     "start_time": "2021-05-25T14:21:28.625780Z"
    }
   },
   "outputs": [
    {
     "data": {
      "image/png": "[encoded data removed]",
      "text/plain": [
       "<Figure size 432x288 with 1 Axes>"
      ]
     },
     "metadata": {
      "needs_background": "light"
     },
     "output_type": "display_data"
    }
   ],
   "source": [
    "# check if Gradient Boosting is overfitting \n",
    "plot_learning_curves(gradientBoost_rnSearch.best_estimator_,X_train_scale,y_train,X_valid_scale,y_valid)\n",
    "plt.show()"
   ]
  },
  {
   "cell_type": "markdown",
   "id": "907b8a78",
   "metadata": {},
   "source": [
    "Gradient Boosting has similar performance to Adaboost, and similar degree of overfitting."
   ]
  },
  {
   "cell_type": "markdown",
   "id": "d3b0c317",
   "metadata": {},
   "source": [
    "<h2>Artificial Neuron Network</h2>"
   ]
  },
  {
   "cell_type": "code",
   "execution_count": 4,
   "id": "09145dea",
   "metadata": {
    "ExecuteTime": {
     "end_time": "2021-05-26T15:29:41.152688Z",
     "start_time": "2021-05-26T15:29:41.146709Z"
    }
   },
   "outputs": [],
   "source": [
    "import tensorflow as tf\n",
    "from tensorflow import keras\n",
    "\n",
    "def reset_session(seed=42):\n",
    "    tf.random.set_seed(seed)\n",
    "    np.random.seed(seed)\n",
    "    tf.keras.backend.clear_session()\n",
    "    \n",
    "def exponential_decay(lr0, s):\n",
    "    return lambda epoch: lr0 * 0.1**(epoch / s)\n"
   ]
  },
  {
   "cell_type": "code",
   "execution_count": 5,
   "id": "af640ac6",
   "metadata": {
    "ExecuteTime": {
     "end_time": "2021-05-26T15:29:42.722799Z",
     "start_time": "2021-05-26T15:29:42.674710Z"
    }
   },
   "outputs": [
    {
     "name": "stdout",
     "output_type": "stream",
     "text": [
      "Fitting 3 folds for each of 10 candidates, totalling 30 fits\n",
      "Epoch 1/30\n",
      "400/400 [==============================] - 7s 5ms/step - loss: 168.9898 - auc: 0.4838 - accuracy: 0.7695 - val_loss: 0.5287 - val_auc: 0.5000 - val_accuracy: 0.7788\n",
      "Epoch 2/30\n",
      "400/400 [==============================] - 1s 3ms/step - loss: 0.5298 - auc: 0.4944 - accuracy: 0.7784 - val_loss: 0.5286 - val_auc: 0.5000 - val_accuracy: 0.7788\n",
      "Epoch 3/30\n",
      "400/400 [==============================] - 1s 3ms/step - loss: 0.5206 - auc: 0.5006 - accuracy: 0.7855 - val_loss: 0.5286 - val_auc: 0.5000 - val_accuracy: 0.7788\n",
      "Epoch 4/30\n",
      "400/400 [==============================] - 1s 3ms/step - loss: 0.5282 - auc: 0.4861 - accuracy: 0.7797 - val_loss: 0.5315 - val_auc: 0.5000 - val_accuracy: 0.7788\n",
      "Epoch 5/30\n",
      "400/400 [==============================] - 1s 3ms/step - loss: 0.5254 - auc: 0.4833 - accuracy: 0.7823 - val_loss: 0.5288 - val_auc: 0.5000 - val_accuracy: 0.7788\n",
      "Epoch 6/30\n",
      "400/400 [==============================] - 1s 3ms/step - loss: 0.5251 - auc: 0.4977 - accuracy: 0.7818 - val_loss: 0.5289 - val_auc: 0.5000 - val_accuracy: 0.7788\n",
      "Epoch 7/30\n",
      "400/400 [==============================] - 1s 3ms/step - loss: 0.5187 - auc: 0.4942 - accuracy: 0.7867 - val_loss: 0.5293 - val_auc: 0.5000 - val_accuracy: 0.7788\n",
      "Epoch 8/30\n",
      "400/400 [==============================] - 1s 3ms/step - loss: 0.5321 - auc: 0.5004 - accuracy: 0.7760 - val_loss: 0.5299 - val_auc: 0.5000 - val_accuracy: 0.7788\n",
      "Epoch 9/30\n",
      "400/400 [==============================] - 1s 3ms/step - loss: 0.5348 - auc: 0.4863 - accuracy: 0.7745 - val_loss: 0.5288 - val_auc: 0.5000 - val_accuracy: 0.7788\n",
      "Epoch 10/30\n",
      "400/400 [==============================] - 1s 3ms/step - loss: 0.5358 - auc: 0.4917 - accuracy: 0.7734 - val_loss: 0.5285 - val_auc: 0.5000 - val_accuracy: 0.7788\n",
      "Epoch 11/30\n",
      "400/400 [==============================] - 1s 3ms/step - loss: 0.5273 - auc: 0.4857 - accuracy: 0.7800 - val_loss: 0.5286 - val_auc: 0.5000 - val_accuracy: 0.7788\n",
      "200/200 [==============================] - 0s 1ms/step - loss: 0.5320 - auc: 0.5000 - accuracy: 0.7761\n",
      "[CV] END learning_rate=0.0037633497709879315, n_hidden=45, n_neurons=83; total time=  20.2s\n",
      "Epoch 1/30\n",
      "400/400 [==============================] - 6s 4ms/step - loss: 38.4297 - auc: 0.4937 - accuracy: 0.7749 - val_loss: 0.5297 - val_auc: 0.5000 - val_accuracy: 0.7788\n",
      "Epoch 2/30\n",
      "400/400 [==============================] - 1s 3ms/step - loss: 0.5335 - auc: 0.4937 - accuracy: 0.7756 - val_loss: 0.5286 - val_auc: 0.5000 - val_accuracy: 0.7788\n",
      "Epoch 3/30\n",
      "400/400 [==============================] - 1s 3ms/step - loss: 0.5269 - auc: 0.4875 - accuracy: 0.7807 - val_loss: 0.5286 - val_auc: 0.5000 - val_accuracy: 0.7788\n",
      "Epoch 4/30\n",
      "400/400 [==============================] - 1s 3ms/step - loss: 0.5348 - auc: 0.5010 - accuracy: 0.7741 - val_loss: 0.5285 - val_auc: 0.5000 - val_accuracy: 0.7788\n",
      "Epoch 5/30\n",
      "400/400 [==============================] - 1s 3ms/step - loss: 0.5280 - auc: 0.4772 - accuracy: 0.7798 - val_loss: 0.5286 - val_auc: 0.5000 - val_accuracy: 0.7788\n",
      "Epoch 6/30\n",
      "400/400 [==============================] - 1s 3ms/step - loss: 0.5276 - auc: 0.4987 - accuracy: 0.7797 - val_loss: 0.5285 - val_auc: 0.5000 - val_accuracy: 0.7788\n",
      "Epoch 7/30\n",
      "400/400 [==============================] - 1s 3ms/step - loss: 0.5211 - auc: 0.5009 - accuracy: 0.7848 - val_loss: 0.5285 - val_auc: 0.5000 - val_accuracy: 0.7788\n",
      "Epoch 8/30\n",
      "400/400 [==============================] - 1s 4ms/step - loss: 0.5311 - auc: 0.5017 - accuracy: 0.7769 - val_loss: 0.5286 - val_auc: 0.5000 - val_accuracy: 0.7788\n",
      "Epoch 9/30\n",
      "400/400 [==============================] - 1s 4ms/step - loss: 0.5366 - auc: 0.4755 - accuracy: 0.7727 - val_loss: 0.5285 - val_auc: 0.5000 - val_accuracy: 0.7788\n",
      "Epoch 10/30\n",
      "400/400 [==============================] - 1s 4ms/step - loss: 0.5261 - auc: 0.4890 - accuracy: 0.7809 - val_loss: 0.5291 - val_auc: 0.5000 - val_accuracy: 0.7788\n",
      "Epoch 11/30\n",
      "400/400 [==============================] - 1s 4ms/step - loss: 0.5313 - auc: 0.4940 - accuracy: 0.7768 - val_loss: 0.5290 - val_auc: 0.5000 - val_accuracy: 0.7788\n",
      "Epoch 12/30\n",
      "400/400 [==============================] - 1s 4ms/step - loss: 0.5239 - auc: 0.5050 - accuracy: 0.7825 - val_loss: 0.5288 - val_auc: 0.5000 - val_accuracy: 0.7788\n",
      "200/200 [==============================] - 0s 1ms/step - loss: 0.5266 - auc: 0.5000 - accuracy: 0.7806\n",
      "[CV] END learning_rate=0.0037633497709879315, n_hidden=45, n_neurons=83; total time=  21.8s\n",
      "Epoch 1/30\n",
      "400/400 [==============================] - 6s 5ms/step - loss: 12.2854 - auc: 0.4981 - accuracy: 0.7670 - val_loss: 0.5285 - val_auc: 0.5000 - val_accuracy: 0.7788\n",
      "Epoch 2/30\n",
      "400/400 [==============================] - 1s 4ms/step - loss: 0.5271 - auc: 0.5024 - accuracy: 0.7805 - val_loss: 0.5285 - val_auc: 0.5000 - val_accuracy: 0.7788\n",
      "Epoch 3/30\n",
      "400/400 [==============================] - 2s 4ms/step - loss: 0.5326 - auc: 0.4958 - accuracy: 0.7761 - val_loss: 0.5287 - val_auc: 0.5000 - val_accuracy: 0.7788\n",
      "Epoch 4/30\n",
      "400/400 [==============================] - 2s 4ms/step - loss: 0.5354 - auc: 0.5042 - accuracy: 0.7736 - val_loss: 0.5314 - val_auc: 0.5000 - val_accuracy: 0.7788\n",
      "Epoch 5/30\n",
      "400/400 [==============================] - 2s 4ms/step - loss: 0.5316 - auc: 0.4843 - accuracy: 0.7772 - val_loss: 0.5285 - val_auc: 0.5000 - val_accuracy: 0.7788\n",
      "Epoch 6/30\n",
      "400/400 [==============================] - 2s 4ms/step - loss: 0.5353 - auc: 0.4901 - accuracy: 0.7738 - val_loss: 0.5302 - val_auc: 0.5000 - val_accuracy: 0.7788\n",
      "Epoch 7/30\n",
      "400/400 [==============================] - 1s 4ms/step - loss: 0.5279 - auc: 0.4801 - accuracy: 0.7800 - val_loss: 0.5285 - val_auc: 0.5000 - val_accuracy: 0.7788\n",
      "Epoch 8/30\n",
      "400/400 [==============================] - 1s 4ms/step - loss: 0.5371 - auc: 0.4824 - accuracy: 0.7722 - val_loss: 0.5290 - val_auc: 0.5000 - val_accuracy: 0.7788\n",
      "Epoch 9/30\n",
      "400/400 [==============================] - 2s 4ms/step - loss: 0.5292 - auc: 0.4828 - accuracy: 0.7787 - val_loss: 0.5287 - val_auc: 0.5000 - val_accuracy: 0.7788\n",
      "Epoch 10/30\n",
      "400/400 [==============================] - 1s 4ms/step - loss: 0.5269 - auc: 0.4972 - accuracy: 0.7801 - val_loss: 0.5286 - val_auc: 0.5000 - val_accuracy: 0.7788\n",
      "Epoch 11/30\n",
      "400/400 [==============================] - 1s 4ms/step - loss: 0.5378 - auc: 0.5025 - accuracy: 0.7717 - val_loss: 0.5290 - val_auc: 0.5000 - val_accuracy: 0.7788\n",
      "200/200 [==============================] - 0s 1ms/step - loss: 0.5278 - auc: 0.5000 - accuracy: 0.7797\n",
      "[CV] END learning_rate=0.0037633497709879315, n_hidden=45, n_neurons=83; total time=  21.4s\n",
      "Epoch 1/30\n",
      "400/400 [==============================] - 3s 3ms/step - loss: 0.9298 - auc: 0.4943 - accuracy: 0.7563 - val_loss: 1.0033 - val_auc: 0.4338 - val_accuracy: 0.3527\n",
      "Epoch 2/30\n",
      "400/400 [==============================] - 1s 3ms/step - loss: 0.5757 - auc: 0.5086 - accuracy: 0.7644 - val_loss: 0.5260 - val_auc: 0.5638 - val_accuracy: 0.7788\n",
      "Epoch 3/30\n",
      "400/400 [==============================] - 1s 3ms/step - loss: 0.5915 - auc: 0.5359 - accuracy: 0.7852 - val_loss: 0.5301 - val_auc: 0.5165 - val_accuracy: 0.7788\n",
      "Epoch 4/30\n",
      "400/400 [==============================] - 1s 3ms/step - loss: 0.5401 - auc: 0.5111 - accuracy: 0.7754 - val_loss: 0.5119 - val_auc: 0.5881 - val_accuracy: 0.7788\n",
      "Epoch 5/30\n",
      "400/400 [==============================] - 1s 2ms/step - loss: 0.7618 - auc: 0.5311 - accuracy: 0.7839 - val_loss: 0.5287 - val_auc: 0.4999 - val_accuracy: 0.7788\n",
      "Epoch 6/30\n",
      "400/400 [==============================] - 1s 3ms/step - loss: 0.5250 - auc: 0.4951 - accuracy: 0.7818 - val_loss: 0.5287 - val_auc: 0.5000 - val_accuracy: 0.7788\n",
      "Epoch 7/30\n",
      "400/400 [==============================] - 1s 3ms/step - loss: 0.5187 - auc: 0.4939 - accuracy: 0.7867 - val_loss: 0.5294 - val_auc: 0.5000 - val_accuracy: 0.7788\n",
      "Epoch 8/30\n",
      "400/400 [==============================] - 1s 2ms/step - loss: 0.5321 - auc: 0.5016 - accuracy: 0.7760 - val_loss: 0.5293 - val_auc: 0.5000 - val_accuracy: 0.7788\n",
      "Epoch 9/30\n",
      "400/400 [==============================] - 1s 3ms/step - loss: 0.5345 - auc: 0.4787 - accuracy: 0.7745 - val_loss: 0.5287 - val_auc: 0.5000 - val_accuracy: 0.7788\n",
      "Epoch 10/30\n",
      "400/400 [==============================] - 1s 2ms/step - loss: 0.5357 - auc: 0.4884 - accuracy: 0.7734 - val_loss: 0.5285 - val_auc: 0.5000 - val_accuracy: 0.7788\n",
      "Epoch 11/30\n",
      "400/400 [==============================] - 1s 2ms/step - loss: 0.5272 - auc: 0.4899 - accuracy: 0.7800 - val_loss: 0.5286 - val_auc: 0.5000 - val_accuracy: 0.7788\n",
      "Epoch 12/30\n",
      "400/400 [==============================] - 1s 2ms/step - loss: 0.5224 - auc: 0.5008 - accuracy: 0.7835 - val_loss: 0.5287 - val_auc: 0.5000 - val_accuracy: 0.7788\n",
      "Epoch 13/30\n",
      "400/400 [==============================] - 1s 3ms/step - loss: 0.5286 - auc: 0.4956 - accuracy: 0.7788 - val_loss: 0.5286 - val_auc: 0.5000 - val_accuracy: 0.7788\n",
      "Epoch 14/30\n",
      "400/400 [==============================] - 1s 2ms/step - loss: 0.5269 - auc: 0.4854 - accuracy: 0.7802 - val_loss: 0.5285 - val_auc: 0.5000 - val_accuracy: 0.7788\n",
      "200/200 [==============================] - 0s 786us/step - loss: 0.5318 - auc: 0.5000 - accuracy: 0.7761\n",
      "[CV] END learning_rate=0.0005846702538703273, n_hidden=15, n_neurons=125; total time=  16.4s\n",
      "Epoch 1/30\n",
      "400/400 [==============================] - 3s 3ms/step - loss: 0.6536 - auc: 0.4924 - accuracy: 0.7630 - val_loss: 0.5326 - val_auc: 0.5279 - val_accuracy: 0.7788\n",
      "Epoch 2/30\n",
      "400/400 [==============================] - 1s 2ms/step - loss: 1.4997 - auc: 0.5066 - accuracy: 0.7515 - val_loss: 0.5279 - val_auc: 0.5226 - val_accuracy: 0.7788\n",
      "Epoch 3/30\n",
      "400/400 [==============================] - 1s 2ms/step - loss: 0.5178 - auc: 0.6102 - accuracy: 0.7803 - val_loss: 0.5051 - val_auc: 0.7088 - val_accuracy: 0.7788\n",
      "Epoch 4/30\n",
      "400/400 [==============================] - 1s 3ms/step - loss: 0.4784 - auc: 0.7189 - accuracy: 0.7938 - val_loss: 0.4499 - val_auc: 0.7339 - val_accuracy: 0.8083\n",
      "Epoch 5/30\n",
      "400/400 [==============================] - 1s 2ms/step - loss: 0.4447 - auc: 0.7521 - accuracy: 0.8107 - val_loss: 0.4616 - val_auc: 0.7451 - val_accuracy: 0.8125\n",
      "Epoch 6/30\n",
      "400/400 [==============================] - 1s 2ms/step - loss: 0.4392 - auc: 0.7593 - accuracy: 0.8144 - val_loss: 0.4434 - val_auc: 0.7574 - val_accuracy: 0.8152\n",
      "Epoch 7/30\n",
      "400/400 [==============================] - 1s 2ms/step - loss: 0.4290 - auc: 0.7572 - accuracy: 0.8276 - val_loss: 0.4541 - val_auc: 0.7523 - val_accuracy: 0.8150\n",
      "Epoch 8/30\n",
      "400/400 [==============================] - 1s 2ms/step - loss: 0.4372 - auc: 0.7740 - accuracy: 0.8272 - val_loss: 0.4696 - val_auc: 0.7370 - val_accuracy: 0.7788\n",
      "Epoch 9/30\n",
      "400/400 [==============================] - 1s 2ms/step - loss: 0.4472 - auc: 0.7620 - accuracy: 0.8138 - val_loss: 0.4553 - val_auc: 0.7514 - val_accuracy: 0.8160\n",
      "Epoch 10/30\n",
      "400/400 [==============================] - 1s 2ms/step - loss: 0.4304 - auc: 0.7673 - accuracy: 0.8239 - val_loss: 0.4449 - val_auc: 0.7381 - val_accuracy: 0.8179\n",
      "Epoch 11/30\n",
      "400/400 [==============================] - 1s 2ms/step - loss: 0.4270 - auc: 0.7511 - accuracy: 0.8288 - val_loss: 0.4474 - val_auc: 0.7416 - val_accuracy: 0.8179\n",
      "Epoch 12/30\n",
      "400/400 [==============================] - 1s 2ms/step - loss: 0.4321 - auc: 0.7492 - accuracy: 0.8253 - val_loss: 0.4476 - val_auc: 0.7354 - val_accuracy: 0.8163\n",
      "Epoch 13/30\n",
      "400/400 [==============================] - 1s 2ms/step - loss: 0.4400 - auc: 0.7471 - accuracy: 0.8193 - val_loss: 0.4451 - val_auc: 0.7504 - val_accuracy: 0.8183\n",
      "Epoch 14/30\n",
      "400/400 [==============================] - 1s 2ms/step - loss: 0.4439 - auc: 0.7577 - accuracy: 0.8160 - val_loss: 0.4483 - val_auc: 0.7454 - val_accuracy: 0.8183\n",
      "Epoch 15/30\n",
      "400/400 [==============================] - 1s 2ms/step - loss: 0.4384 - auc: 0.7572 - accuracy: 0.8165 - val_loss: 0.4432 - val_auc: 0.7545 - val_accuracy: 0.8179\n",
      "Epoch 16/30\n",
      "400/400 [==============================] - 1s 2ms/step - loss: 0.4379 - auc: 0.7621 - accuracy: 0.8158 - val_loss: 0.4426 - val_auc: 0.7626 - val_accuracy: 0.8175\n",
      "200/200 [==============================] - 0s 807us/step - loss: 0.4414 - auc: 0.7646 - accuracy: 0.8170\n",
      "[CV] END learning_rate=0.0005846702538703273, n_hidden=15, n_neurons=125; total time=  17.9s\n",
      "Epoch 1/30\n",
      "400/400 [==============================] - 3s 4ms/step - loss: 0.8428 - auc: 0.5285 - accuracy: 0.7749 - val_loss: 0.5285 - val_auc: 0.4991 - val_accuracy: 0.7788\n",
      "Epoch 2/30\n",
      "400/400 [==============================] - 1s 2ms/step - loss: 0.6680 - auc: 0.5072 - accuracy: 0.7779 - val_loss: 0.5284 - val_auc: 0.4995 - val_accuracy: 0.7788\n",
      "Epoch 3/30\n",
      "400/400 [==============================] - 1s 2ms/step - loss: 0.5334 - auc: 0.5289 - accuracy: 0.7742 - val_loss: 0.5204 - val_auc: 0.6799 - val_accuracy: 0.7788\n",
      "Epoch 4/30\n",
      "400/400 [==============================] - 1s 2ms/step - loss: 0.5344 - auc: 0.5815 - accuracy: 0.7716 - val_loss: 0.5256 - val_auc: 0.5213 - val_accuracy: 0.7788\n",
      "Epoch 5/30\n",
      "400/400 [==============================] - 1s 2ms/step - loss: 0.5314 - auc: 0.4986 - accuracy: 0.7771 - val_loss: 0.5285 - val_auc: 0.5000 - val_accuracy: 0.7788\n",
      "Epoch 6/30\n",
      "400/400 [==============================] - 1s 2ms/step - loss: 0.5348 - auc: 0.4958 - accuracy: 0.7738 - val_loss: 0.5286 - val_auc: 0.5000 - val_accuracy: 0.7788\n",
      "Epoch 7/30\n",
      "400/400 [==============================] - 1s 3ms/step - loss: 0.5270 - auc: 0.4940 - accuracy: 0.7800 - val_loss: 0.5285 - val_auc: 0.5000 - val_accuracy: 0.7788\n",
      "Epoch 8/30\n",
      "400/400 [==============================] - 1s 2ms/step - loss: 0.5367 - auc: 0.4943 - accuracy: 0.7722 - val_loss: 0.5286 - val_auc: 0.5000 - val_accuracy: 0.7788\n",
      "Epoch 9/30\n",
      "400/400 [==============================] - 1s 2ms/step - loss: 0.5287 - auc: 0.4905 - accuracy: 0.7787 - val_loss: 0.5285 - val_auc: 0.5000 - val_accuracy: 0.7788\n",
      "Epoch 10/30\n",
      "400/400 [==============================] - 1s 2ms/step - loss: 0.5268 - auc: 0.4953 - accuracy: 0.7801 - val_loss: 0.5285 - val_auc: 0.5000 - val_accuracy: 0.7788\n",
      "Epoch 11/30\n",
      "400/400 [==============================] - 1s 2ms/step - loss: 0.5375 - auc: 0.4938 - accuracy: 0.7717 - val_loss: 0.5285 - val_auc: 0.5000 - val_accuracy: 0.7788\n",
      "Epoch 12/30\n",
      "400/400 [==============================] - 1s 2ms/step - loss: 0.5294 - auc: 0.4945 - accuracy: 0.7781 - val_loss: 0.5285 - val_auc: 0.5000 - val_accuracy: 0.7788\n",
      "Epoch 13/30\n",
      "400/400 [==============================] - 1s 2ms/step - loss: 0.5280 - auc: 0.4983 - accuracy: 0.7792 - val_loss: 0.5286 - val_auc: 0.5000 - val_accuracy: 0.7788\n",
      "200/200 [==============================] - 0s 818us/step - loss: 0.5274 - auc: 0.5000 - accuracy: 0.7797\n",
      "[CV] END learning_rate=0.0005846702538703273, n_hidden=15, n_neurons=125; total time=  15.1s\n",
      "Epoch 1/30\n",
      "400/400 [==============================] - 1s 2ms/step - loss: 0.5673 - auc: 0.6460 - accuracy: 0.7765 - val_loss: 0.4501 - val_auc: 0.7328 - val_accuracy: 0.8129\n",
      "Epoch 2/30\n",
      "400/400 [==============================] - 0s 1ms/step - loss: 0.4432 - auc: 0.7480 - accuracy: 0.8204 - val_loss: 0.4478 - val_auc: 0.7446 - val_accuracy: 0.8165\n",
      "Epoch 3/30\n",
      "400/400 [==============================] - 0s 1ms/step - loss: 0.4270 - auc: 0.7714 - accuracy: 0.8233 - val_loss: 0.4418 - val_auc: 0.7599 - val_accuracy: 0.8169\n",
      "Epoch 4/30\n",
      "400/400 [==============================] - 0s 1ms/step - loss: 0.4331 - auc: 0.7653 - accuracy: 0.8233 - val_loss: 0.4399 - val_auc: 0.7627 - val_accuracy: 0.8154\n",
      "Epoch 5/30\n",
      "400/400 [==============================] - 0s 1ms/step - loss: 0.4342 - auc: 0.7610 - accuracy: 0.8256 - val_loss: 0.4422 - val_auc: 0.7593 - val_accuracy: 0.8165\n",
      "Epoch 6/30\n",
      "400/400 [==============================] - 0s 1ms/step - loss: 0.4354 - auc: 0.7608 - accuracy: 0.8216 - val_loss: 0.4410 - val_auc: 0.7628 - val_accuracy: 0.8181\n",
      "Epoch 7/30\n",
      "400/400 [==============================] - 0s 1ms/step - loss: 0.4290 - auc: 0.7620 - accuracy: 0.8249 - val_loss: 0.4410 - val_auc: 0.7593 - val_accuracy: 0.8156\n",
      "Epoch 8/30\n",
      "400/400 [==============================] - 0s 1ms/step - loss: 0.4308 - auc: 0.7784 - accuracy: 0.8219 - val_loss: 0.4474 - val_auc: 0.7619 - val_accuracy: 0.8092\n",
      "Epoch 9/30\n",
      "400/400 [==============================] - 0s 1ms/step - loss: 0.4279 - auc: 0.7816 - accuracy: 0.8255 - val_loss: 0.4411 - val_auc: 0.7619 - val_accuracy: 0.8156\n",
      "Epoch 10/30\n",
      "400/400 [==============================] - 0s 1ms/step - loss: 0.4316 - auc: 0.7802 - accuracy: 0.8232 - val_loss: 0.4402 - val_auc: 0.7629 - val_accuracy: 0.8154\n"
     ]
    },
    {
     "name": "stdout",
     "output_type": "stream",
     "text": [
      "Epoch 11/30\n",
      "400/400 [==============================] - 0s 1ms/step - loss: 0.4161 - auc: 0.7875 - accuracy: 0.8318 - val_loss: 0.4403 - val_auc: 0.7626 - val_accuracy: 0.8152\n",
      "Epoch 12/30\n",
      "400/400 [==============================] - 0s 1ms/step - loss: 0.4181 - auc: 0.7851 - accuracy: 0.8280 - val_loss: 0.4418 - val_auc: 0.7606 - val_accuracy: 0.8158\n",
      "Epoch 13/30\n",
      "400/400 [==============================] - 0s 1ms/step - loss: 0.4294 - auc: 0.7738 - accuracy: 0.8246 - val_loss: 0.4430 - val_auc: 0.7611 - val_accuracy: 0.8175\n",
      "Epoch 14/30\n",
      "400/400 [==============================] - 0s 974us/step - loss: 0.4200 - auc: 0.7891 - accuracy: 0.8262 - val_loss: 0.4457 - val_auc: 0.7622 - val_accuracy: 0.8154\n",
      "200/200 [==============================] - 0s 553us/step - loss: 0.4407 - auc: 0.7762 - accuracy: 0.8156\n",
      "[CV] END learning_rate=0.001546374596250726, n_hidden=5, n_neurons=2; total time=   7.0s\n",
      "Epoch 1/30\n",
      "400/400 [==============================] - 1s 1ms/step - loss: 0.5675 - auc: 0.6290 - accuracy: 0.7846 - val_loss: 0.4459 - val_auc: 0.7507 - val_accuracy: 0.8192\n",
      "Epoch 2/30\n",
      "400/400 [==============================] - 0s 972us/step - loss: 0.4375 - auc: 0.7648 - accuracy: 0.8230 - val_loss: 0.4501 - val_auc: 0.7483 - val_accuracy: 0.8094\n",
      "Epoch 3/30\n",
      "400/400 [==============================] - 0s 973us/step - loss: 0.4311 - auc: 0.7740 - accuracy: 0.8226 - val_loss: 0.4506 - val_auc: 0.7392 - val_accuracy: 0.8177\n",
      "Epoch 4/30\n",
      "400/400 [==============================] - 0s 963us/step - loss: 0.4381 - auc: 0.7688 - accuracy: 0.8209 - val_loss: 0.4411 - val_auc: 0.7605 - val_accuracy: 0.8196\n",
      "Epoch 5/30\n",
      "400/400 [==============================] - 0s 961us/step - loss: 0.4327 - auc: 0.7717 - accuracy: 0.8202 - val_loss: 0.4429 - val_auc: 0.7626 - val_accuracy: 0.8169\n",
      "Epoch 6/30\n",
      "400/400 [==============================] - 0s 952us/step - loss: 0.4293 - auc: 0.7722 - accuracy: 0.8251 - val_loss: 0.4412 - val_auc: 0.7625 - val_accuracy: 0.8194\n",
      "Epoch 7/30\n",
      "400/400 [==============================] - 0s 955us/step - loss: 0.4248 - auc: 0.7655 - accuracy: 0.8306 - val_loss: 0.4410 - val_auc: 0.7609 - val_accuracy: 0.8165\n",
      "Epoch 8/30\n",
      "400/400 [==============================] - 0s 947us/step - loss: 0.4276 - auc: 0.7804 - accuracy: 0.8259 - val_loss: 0.4398 - val_auc: 0.7612 - val_accuracy: 0.8179\n",
      "Epoch 9/30\n",
      "400/400 [==============================] - 0s 971us/step - loss: 0.4352 - auc: 0.7792 - accuracy: 0.8206 - val_loss: 0.4394 - val_auc: 0.7626 - val_accuracy: 0.8167\n",
      "Epoch 10/30\n",
      "400/400 [==============================] - 0s 949us/step - loss: 0.4226 - auc: 0.7824 - accuracy: 0.8272 - val_loss: 0.4456 - val_auc: 0.7585 - val_accuracy: 0.8173\n",
      "Epoch 11/30\n",
      "400/400 [==============================] - 0s 941us/step - loss: 0.4181 - auc: 0.7894 - accuracy: 0.8297 - val_loss: 0.4416 - val_auc: 0.7584 - val_accuracy: 0.8177\n",
      "Epoch 12/30\n",
      "400/400 [==============================] - 0s 941us/step - loss: 0.4182 - auc: 0.7876 - accuracy: 0.8268 - val_loss: 0.4403 - val_auc: 0.7611 - val_accuracy: 0.8167\n",
      "Epoch 13/30\n",
      "400/400 [==============================] - 0s 952us/step - loss: 0.4242 - auc: 0.7842 - accuracy: 0.8258 - val_loss: 0.4414 - val_auc: 0.7619 - val_accuracy: 0.8181\n",
      "Epoch 14/30\n",
      "400/400 [==============================] - 0s 946us/step - loss: 0.4307 - auc: 0.7823 - accuracy: 0.8225 - val_loss: 0.4436 - val_auc: 0.7613 - val_accuracy: 0.8179\n",
      "Epoch 15/30\n",
      "400/400 [==============================] - 0s 949us/step - loss: 0.4278 - auc: 0.7791 - accuracy: 0.8242 - val_loss: 0.4436 - val_auc: 0.7630 - val_accuracy: 0.8173\n",
      "Epoch 16/30\n",
      "400/400 [==============================] - 0s 950us/step - loss: 0.4291 - auc: 0.7760 - accuracy: 0.8227 - val_loss: 0.4422 - val_auc: 0.7627 - val_accuracy: 0.8173\n",
      "Epoch 17/30\n",
      "400/400 [==============================] - 0s 950us/step - loss: 0.4265 - auc: 0.7848 - accuracy: 0.8241 - val_loss: 0.4447 - val_auc: 0.7562 - val_accuracy: 0.8179\n",
      "Epoch 18/30\n",
      "400/400 [==============================] - 0s 975us/step - loss: 0.4206 - auc: 0.7852 - accuracy: 0.8294 - val_loss: 0.4455 - val_auc: 0.7578 - val_accuracy: 0.8188\n",
      "200/200 [==============================] - 0s 539us/step - loss: 0.4437 - auc: 0.7581 - accuracy: 0.8181\n",
      "[CV] END learning_rate=0.001546374596250726, n_hidden=5, n_neurons=2; total time=   8.2s\n",
      "Epoch 1/30\n",
      "400/400 [==============================] - 1s 1ms/step - loss: 0.5896 - auc: 0.5025 - accuracy: 0.7716 - val_loss: 0.5285 - val_auc: 0.5000 - val_accuracy: 0.7788\n",
      "Epoch 2/30\n",
      "400/400 [==============================] - 0s 964us/step - loss: 0.5264 - auc: 0.4977 - accuracy: 0.7805 - val_loss: 0.5285 - val_auc: 0.5000 - val_accuracy: 0.7788\n",
      "Epoch 3/30\n",
      "400/400 [==============================] - 0s 971us/step - loss: 0.5319 - auc: 0.4983 - accuracy: 0.7761 - val_loss: 0.5285 - val_auc: 0.5000 - val_accuracy: 0.7788\n",
      "Epoch 4/30\n",
      "400/400 [==============================] - 0s 964us/step - loss: 0.5349 - auc: 0.5022 - accuracy: 0.7736 - val_loss: 0.5287 - val_auc: 0.5000 - val_accuracy: 0.7788\n",
      "Epoch 5/30\n",
      "400/400 [==============================] - 0s 969us/step - loss: 0.5307 - auc: 0.4879 - accuracy: 0.7772 - val_loss: 0.5285 - val_auc: 0.5000 - val_accuracy: 0.7788\n",
      "Epoch 6/30\n",
      "400/400 [==============================] - 0s 979us/step - loss: 0.5348 - auc: 0.4964 - accuracy: 0.7738 - val_loss: 0.5286 - val_auc: 0.5000 - val_accuracy: 0.7788\n",
      "Epoch 7/30\n",
      "400/400 [==============================] - 0s 967us/step - loss: 0.5270 - auc: 0.4950 - accuracy: 0.7800 - val_loss: 0.5285 - val_auc: 0.5000 - val_accuracy: 0.7788\n",
      "Epoch 8/30\n",
      "400/400 [==============================] - 0s 964us/step - loss: 0.5367 - auc: 0.4970 - accuracy: 0.7722 - val_loss: 0.5286 - val_auc: 0.5000 - val_accuracy: 0.7788\n",
      "Epoch 9/30\n",
      "400/400 [==============================] - 0s 974us/step - loss: 0.5287 - auc: 0.4854 - accuracy: 0.7787 - val_loss: 0.5285 - val_auc: 0.5000 - val_accuracy: 0.7788\n",
      "Epoch 10/30\n",
      "400/400 [==============================] - 0s 975us/step - loss: 0.5268 - auc: 0.4930 - accuracy: 0.7801 - val_loss: 0.5285 - val_auc: 0.5000 - val_accuracy: 0.7788\n",
      "Epoch 11/30\n",
      "400/400 [==============================] - 0s 972us/step - loss: 0.5375 - auc: 0.4938 - accuracy: 0.7717 - val_loss: 0.5285 - val_auc: 0.5000 - val_accuracy: 0.7788\n",
      "200/200 [==============================] - 0s 566us/step - loss: 0.5273 - auc: 0.5000 - accuracy: 0.7797\n",
      "[CV] END learning_rate=0.001546374596250726, n_hidden=5, n_neurons=2; total time=   5.5s\n",
      "Epoch 1/30\n",
      "400/400 [==============================] - 4s 4ms/step - loss: 2.9068 - auc: 0.4828 - accuracy: 0.7575 - val_loss: 0.5286 - val_auc: 0.4978 - val_accuracy: 0.7788\n",
      "Epoch 2/30\n",
      "400/400 [==============================] - 1s 3ms/step - loss: 0.6303 - auc: 0.4953 - accuracy: 0.7688 - val_loss: 0.5285 - val_auc: 0.5023 - val_accuracy: 0.7788\n",
      "Epoch 3/30\n",
      "400/400 [==============================] - 1s 3ms/step - loss: 0.5206 - auc: 0.4971 - accuracy: 0.7855 - val_loss: 0.5442 - val_auc: 0.4861 - val_accuracy: 0.7746\n",
      "Epoch 4/30\n",
      "400/400 [==============================] - 1s 3ms/step - loss: 0.5541 - auc: 0.4918 - accuracy: 0.7783 - val_loss: 0.5303 - val_auc: 0.4984 - val_accuracy: 0.7788\n",
      "Epoch 5/30\n",
      "400/400 [==============================] - 1s 3ms/step - loss: 0.5261 - auc: 0.4824 - accuracy: 0.7823 - val_loss: 0.5281 - val_auc: 0.5702 - val_accuracy: 0.7788\n",
      "Epoch 6/30\n",
      "400/400 [==============================] - 1s 3ms/step - loss: 0.5242 - auc: 0.5155 - accuracy: 0.7818 - val_loss: 0.5287 - val_auc: 0.5000 - val_accuracy: 0.7788\n",
      "Epoch 7/30\n",
      "400/400 [==============================] - 1s 3ms/step - loss: 0.5187 - auc: 0.4939 - accuracy: 0.7867 - val_loss: 0.5293 - val_auc: 0.5000 - val_accuracy: 0.7788\n",
      "Epoch 8/30\n",
      "400/400 [==============================] - 1s 3ms/step - loss: 0.5320 - auc: 0.5060 - accuracy: 0.7760 - val_loss: 0.5293 - val_auc: 0.5000 - val_accuracy: 0.7788\n",
      "Epoch 9/30\n",
      "400/400 [==============================] - 1s 3ms/step - loss: 0.5344 - auc: 0.4906 - accuracy: 0.7745 - val_loss: 0.5244 - val_auc: 0.5623 - val_accuracy: 0.7788\n",
      "Epoch 10/30\n",
      "400/400 [==============================] - 1s 3ms/step - loss: 0.5319 - auc: 0.5568 - accuracy: 0.7732 - val_loss: 0.5285 - val_auc: 0.5004 - val_accuracy: 0.7788\n",
      "Epoch 11/30\n",
      "400/400 [==============================] - 1s 3ms/step - loss: 0.5273 - auc: 0.4861 - accuracy: 0.7800 - val_loss: 0.5287 - val_auc: 0.4998 - val_accuracy: 0.7788\n",
      "Epoch 12/30\n",
      "400/400 [==============================] - 1s 3ms/step - loss: 0.5224 - auc: 0.5030 - accuracy: 0.7835 - val_loss: 0.5287 - val_auc: 0.5000 - val_accuracy: 0.7788\n",
      "Epoch 13/30\n",
      "400/400 [==============================] - 1s 3ms/step - loss: 0.5286 - auc: 0.4973 - accuracy: 0.7788 - val_loss: 0.5286 - val_auc: 0.5017 - val_accuracy: 0.7788\n",
      "Epoch 14/30\n",
      "400/400 [==============================] - 1s 3ms/step - loss: 0.5269 - auc: 0.4889 - accuracy: 0.7802 - val_loss: 0.5285 - val_auc: 0.5000 - val_accuracy: 0.7788\n",
      "Epoch 15/30\n",
      "400/400 [==============================] - 1s 3ms/step - loss: 0.5323 - auc: 0.4954 - accuracy: 0.7758 - val_loss: 0.5288 - val_auc: 0.5000 - val_accuracy: 0.7788\n",
      "Epoch 16/30\n",
      "400/400 [==============================] - 1s 3ms/step - loss: 0.5313 - auc: 0.4882 - accuracy: 0.7768 - val_loss: 0.5285 - val_auc: 0.5017 - val_accuracy: 0.7788\n",
      "Epoch 17/30\n",
      "400/400 [==============================] - 1s 3ms/step - loss: 0.5359 - auc: 0.4898 - accuracy: 0.7730 - val_loss: 0.5287 - val_auc: 0.5007 - val_accuracy: 0.7788\n",
      "Epoch 18/30\n",
      "400/400 [==============================] - 1s 3ms/step - loss: 0.5318 - auc: 0.4920 - accuracy: 0.7764 - val_loss: 0.5287 - val_auc: 0.4995 - val_accuracy: 0.7788\n",
      "Epoch 19/30\n",
      "400/400 [==============================] - 1s 3ms/step - loss: 0.5233 - auc: 0.4942 - accuracy: 0.7829 - val_loss: 0.5289 - val_auc: 0.5000 - val_accuracy: 0.7788\n",
      "200/200 [==============================] - 0s 881us/step - loss: 0.5321 - auc: 0.5000 - accuracy: 0.7761\n",
      "[CV] END learning_rate=0.0005571223849661637, n_hidden=25, n_neurons=101; total time=  26.4s\n",
      "Epoch 1/30\n",
      "400/400 [==============================] - 4s 4ms/step - loss: 2.2175 - auc: 0.4906 - accuracy: 0.7653 - val_loss: 0.5288 - val_auc: 0.5000 - val_accuracy: 0.7788\n",
      "Epoch 2/30\n",
      "400/400 [==============================] - 1s 3ms/step - loss: 0.5332 - auc: 0.4929 - accuracy: 0.7756 - val_loss: 0.5286 - val_auc: 0.5000 - val_accuracy: 0.7788\n",
      "Epoch 3/30\n",
      "400/400 [==============================] - 1s 3ms/step - loss: 0.5267 - auc: 0.4885 - accuracy: 0.7807 - val_loss: 0.5285 - val_auc: 0.5000 - val_accuracy: 0.7788\n",
      "Epoch 4/30\n",
      "400/400 [==============================] - 1s 3ms/step - loss: 0.5347 - auc: 0.5004 - accuracy: 0.7741 - val_loss: 0.5285 - val_auc: 0.5000 - val_accuracy: 0.7788\n",
      "Epoch 5/30\n",
      "400/400 [==============================] - 1s 3ms/step - loss: 0.5278 - auc: 0.4820 - accuracy: 0.7798 - val_loss: 0.5286 - val_auc: 0.5000 - val_accuracy: 0.7788\n",
      "Epoch 6/30\n",
      "400/400 [==============================] - 1s 3ms/step - loss: 0.5275 - auc: 0.4984 - accuracy: 0.7797 - val_loss: 0.5285 - val_auc: 0.5000 - val_accuracy: 0.7788\n",
      "Epoch 7/30\n",
      "400/400 [==============================] - 1s 3ms/step - loss: 0.5211 - auc: 0.5037 - accuracy: 0.7848 - val_loss: 0.5287 - val_auc: 0.5000 - val_accuracy: 0.7788\n",
      "Epoch 8/30\n",
      "400/400 [==============================] - 1s 3ms/step - loss: 0.5311 - auc: 0.5016 - accuracy: 0.7769 - val_loss: 0.5286 - val_auc: 0.5000 - val_accuracy: 0.7788\n",
      "Epoch 9/30\n",
      "400/400 [==============================] - 1s 3ms/step - loss: 0.5365 - auc: 0.4805 - accuracy: 0.7727 - val_loss: 0.5285 - val_auc: 0.5000 - val_accuracy: 0.7788\n",
      "Epoch 10/30\n",
      "400/400 [==============================] - 1s 3ms/step - loss: 0.5260 - auc: 0.4872 - accuracy: 0.7809 - val_loss: 0.5290 - val_auc: 0.5000 - val_accuracy: 0.7788\n",
      "Epoch 11/30\n",
      "400/400 [==============================] - 1s 3ms/step - loss: 0.5312 - auc: 0.4952 - accuracy: 0.7768 - val_loss: 0.5288 - val_auc: 0.5000 - val_accuracy: 0.7788\n",
      "200/200 [==============================] - 0s 896us/step - loss: 0.5266 - auc: 0.5000 - accuracy: 0.7806\n",
      "[CV] END learning_rate=0.0005571223849661637, n_hidden=25, n_neurons=101; total time=  16.9s\n",
      "Epoch 1/30\n",
      "400/400 [==============================] - 4s 4ms/step - loss: 1.7822 - auc: 0.4888 - accuracy: 0.7646 - val_loss: 0.5287 - val_auc: 0.5000 - val_accuracy: 0.7788\n",
      "Epoch 2/30\n",
      "400/400 [==============================] - 1s 3ms/step - loss: 0.5274 - auc: 0.5019 - accuracy: 0.7805 - val_loss: 0.5285 - val_auc: 0.5000 - val_accuracy: 0.7788\n",
      "Epoch 3/30\n",
      "400/400 [==============================] - 1s 3ms/step - loss: 0.5324 - auc: 0.4972 - accuracy: 0.7761 - val_loss: 0.5288 - val_auc: 0.5000 - val_accuracy: 0.7788\n",
      "Epoch 4/30\n",
      "400/400 [==============================] - 1s 3ms/step - loss: 0.5352 - auc: 0.5005 - accuracy: 0.7736 - val_loss: 0.5306 - val_auc: 0.5000 - val_accuracy: 0.7788\n",
      "Epoch 5/30\n",
      "400/400 [==============================] - 1s 3ms/step - loss: 0.5314 - auc: 0.4906 - accuracy: 0.7772 - val_loss: 0.5285 - val_auc: 0.5000 - val_accuracy: 0.7788\n",
      "Epoch 6/30\n",
      "400/400 [==============================] - 1s 3ms/step - loss: 0.5353 - auc: 0.4898 - accuracy: 0.7738 - val_loss: 0.5301 - val_auc: 0.5000 - val_accuracy: 0.7788\n",
      "Epoch 7/30\n",
      "400/400 [==============================] - 1s 3ms/step - loss: 0.5278 - auc: 0.4792 - accuracy: 0.7800 - val_loss: 0.5285 - val_auc: 0.5000 - val_accuracy: 0.7788\n",
      "Epoch 8/30\n",
      "400/400 [==============================] - 1s 3ms/step - loss: 0.5371 - auc: 0.4829 - accuracy: 0.7722 - val_loss: 0.5290 - val_auc: 0.5000 - val_accuracy: 0.7788\n",
      "Epoch 9/30\n",
      "400/400 [==============================] - 1s 3ms/step - loss: 0.5292 - auc: 0.4831 - accuracy: 0.7787 - val_loss: 0.5287 - val_auc: 0.5000 - val_accuracy: 0.7788\n",
      "Epoch 10/30\n",
      "400/400 [==============================] - 1s 3ms/step - loss: 0.5269 - auc: 0.4978 - accuracy: 0.7801 - val_loss: 0.5286 - val_auc: 0.5000 - val_accuracy: 0.7788\n",
      "Epoch 11/30\n",
      "400/400 [==============================] - 1s 3ms/step - loss: 0.5378 - auc: 0.4908 - accuracy: 0.7717 - val_loss: 0.5289 - val_auc: 0.5000 - val_accuracy: 0.7788\n",
      "200/200 [==============================] - 0s 863us/step - loss: 0.5277 - auc: 0.5000 - accuracy: 0.7797\n",
      "[CV] END learning_rate=0.0005571223849661637, n_hidden=25, n_neurons=101; total time=  17.1s\n",
      "Epoch 1/30\n",
      "400/400 [==============================] - 5s 5ms/step - loss: 10.2250 - auc: 0.4760 - accuracy: 0.7601 - val_loss: 0.5288 - val_auc: 0.5000 - val_accuracy: 0.7788\n",
      "Epoch 2/30\n",
      "400/400 [==============================] - 2s 4ms/step - loss: 0.5299 - auc: 0.4924 - accuracy: 0.7784 - val_loss: 0.5286 - val_auc: 0.5000 - val_accuracy: 0.7788\n",
      "Epoch 3/30\n",
      "400/400 [==============================] - 2s 4ms/step - loss: 0.5206 - auc: 0.4987 - accuracy: 0.7855 - val_loss: 0.5288 - val_auc: 0.5000 - val_accuracy: 0.7788\n",
      "Epoch 4/30\n",
      "400/400 [==============================] - 2s 4ms/step - loss: 0.5282 - auc: 0.4880 - accuracy: 0.7797 - val_loss: 0.5314 - val_auc: 0.5000 - val_accuracy: 0.7788\n",
      "Epoch 5/30\n",
      "400/400 [==============================] - 2s 4ms/step - loss: 0.5253 - auc: 0.4831 - accuracy: 0.7823 - val_loss: 0.5288 - val_auc: 0.5000 - val_accuracy: 0.7788\n",
      "Epoch 6/30\n",
      "400/400 [==============================] - 2s 4ms/step - loss: 0.5251 - auc: 0.4963 - accuracy: 0.7818 - val_loss: 0.5289 - val_auc: 0.5000 - val_accuracy: 0.7788\n",
      "Epoch 7/30\n",
      "400/400 [==============================] - 2s 4ms/step - loss: 0.5188 - auc: 0.4991 - accuracy: 0.7867 - val_loss: 0.5290 - val_auc: 0.5000 - val_accuracy: 0.7788\n",
      "Epoch 8/30\n",
      "400/400 [==============================] - 2s 4ms/step - loss: 0.5321 - auc: 0.5024 - accuracy: 0.7760 - val_loss: 0.5299 - val_auc: 0.5000 - val_accuracy: 0.7788\n",
      "Epoch 9/30\n",
      "400/400 [==============================] - 2s 4ms/step - loss: 0.5348 - auc: 0.4860 - accuracy: 0.7745 - val_loss: 0.5288 - val_auc: 0.5000 - val_accuracy: 0.7788\n",
      "Epoch 10/30\n",
      "400/400 [==============================] - 2s 4ms/step - loss: 0.5358 - auc: 0.4911 - accuracy: 0.7734 - val_loss: 0.5285 - val_auc: 0.5000 - val_accuracy: 0.7788\n",
      "Epoch 11/30\n",
      "400/400 [==============================] - 2s 4ms/step - loss: 0.5273 - auc: 0.4840 - accuracy: 0.7800 - val_loss: 0.5286 - val_auc: 0.5000 - val_accuracy: 0.7788\n",
      "200/200 [==============================] - 0s 1ms/step - loss: 0.5320 - auc: 0.5000 - accuracy: 0.7761\n",
      "[CV] END learning_rate=0.0010736841723078152, n_hidden=35, n_neurons=104; total time=  21.7s\n",
      "Epoch 1/30\n"
     ]
    },
    {
     "name": "stdout",
     "output_type": "stream",
     "text": [
      "400/400 [==============================] - 5s 5ms/step - loss: 0.9961 - auc: 0.4948 - accuracy: 0.7611 - val_loss: 0.6772 - val_auc: 0.6075 - val_accuracy: 0.7750\n",
      "Epoch 2/30\n",
      "400/400 [==============================] - 2s 4ms/step - loss: 12.5680 - auc: 0.5056 - accuracy: 0.7394 - val_loss: 0.6761 - val_auc: 0.4436 - val_accuracy: 0.7227\n",
      "Epoch 3/30\n",
      "400/400 [==============================] - 2s 4ms/step - loss: 0.7274 - auc: 0.4999 - accuracy: 0.7736 - val_loss: 0.5287 - val_auc: 0.5005 - val_accuracy: 0.7788\n",
      "Epoch 4/30\n",
      "400/400 [==============================] - 2s 4ms/step - loss: 0.5345 - auc: 0.4954 - accuracy: 0.7741 - val_loss: 0.5285 - val_auc: 0.5005 - val_accuracy: 0.7788\n",
      "Epoch 5/30\n",
      "400/400 [==============================] - 2s 4ms/step - loss: 0.5276 - auc: 0.4792 - accuracy: 0.7798 - val_loss: 0.5285 - val_auc: 0.5039 - val_accuracy: 0.7788\n",
      "Epoch 6/30\n",
      "400/400 [==============================] - 2s 4ms/step - loss: 0.5977 - auc: 0.5001 - accuracy: 0.7790 - val_loss: 0.5281 - val_auc: 0.5923 - val_accuracy: 0.7788\n",
      "Epoch 7/30\n",
      "400/400 [==============================] - 2s 4ms/step - loss: 0.5273 - auc: 0.5148 - accuracy: 0.7841 - val_loss: 0.5267 - val_auc: 0.5992 - val_accuracy: 0.7788\n",
      "Epoch 8/30\n",
      "400/400 [==============================] - 2s 4ms/step - loss: 0.5285 - auc: 0.5419 - accuracy: 0.7780 - val_loss: 0.5287 - val_auc: 0.5000 - val_accuracy: 0.7788\n",
      "Epoch 9/30\n",
      "400/400 [==============================] - 2s 4ms/step - loss: 0.5367 - auc: 0.4718 - accuracy: 0.7727 - val_loss: 0.5285 - val_auc: 0.5000 - val_accuracy: 0.7788\n",
      "Epoch 10/30\n",
      "400/400 [==============================] - 2s 4ms/step - loss: 0.5261 - auc: 0.4882 - accuracy: 0.7809 - val_loss: 0.5290 - val_auc: 0.5000 - val_accuracy: 0.7788\n",
      "Epoch 11/30\n",
      "400/400 [==============================] - 2s 4ms/step - loss: 0.5312 - auc: 0.4958 - accuracy: 0.7768 - val_loss: 0.5287 - val_auc: 0.5000 - val_accuracy: 0.7788\n",
      "Epoch 12/30\n",
      "400/400 [==============================] - 2s 4ms/step - loss: 0.5215 - auc: 0.5303 - accuracy: 0.7823 - val_loss: 0.5207 - val_auc: 0.5770 - val_accuracy: 0.7788\n",
      "Epoch 13/30\n",
      "400/400 [==============================] - 2s 4ms/step - loss: 0.5072 - auc: 0.6317 - accuracy: 0.7799 - val_loss: 0.4786 - val_auc: 0.7117 - val_accuracy: 0.7981\n",
      "Epoch 14/30\n",
      "400/400 [==============================] - 2s 4ms/step - loss: 0.4702 - auc: 0.7256 - accuracy: 0.7977 - val_loss: 0.4576 - val_auc: 0.7394 - val_accuracy: 0.8048\n",
      "Epoch 15/30\n",
      "400/400 [==============================] - 2s 4ms/step - loss: 0.4546 - auc: 0.7411 - accuracy: 0.8052 - val_loss: 0.4503 - val_auc: 0.7493 - val_accuracy: 0.8048\n",
      "Epoch 16/30\n",
      "400/400 [==============================] - 2s 4ms/step - loss: 0.4435 - auc: 0.7614 - accuracy: 0.8087 - val_loss: 0.4513 - val_auc: 0.7495 - val_accuracy: 0.8096\n",
      "Epoch 17/30\n",
      "400/400 [==============================] - 2s 4ms/step - loss: 0.4392 - auc: 0.7695 - accuracy: 0.8128 - val_loss: 0.4446 - val_auc: 0.7576 - val_accuracy: 0.8121\n",
      "Epoch 18/30\n",
      "400/400 [==============================] - 2s 4ms/step - loss: 0.4317 - auc: 0.7718 - accuracy: 0.8188 - val_loss: 0.4435 - val_auc: 0.7594 - val_accuracy: 0.8115\n",
      "Epoch 19/30\n",
      "400/400 [==============================] - 2s 4ms/step - loss: 0.4330 - auc: 0.7741 - accuracy: 0.8187 - val_loss: 0.4422 - val_auc: 0.7613 - val_accuracy: 0.8133\n",
      "Epoch 20/30\n",
      "400/400 [==============================] - 2s 4ms/step - loss: 0.4312 - auc: 0.7759 - accuracy: 0.8228 - val_loss: 0.4435 - val_auc: 0.7621 - val_accuracy: 0.8135\n",
      "Epoch 21/30\n",
      "400/400 [==============================] - 2s 4ms/step - loss: 0.4403 - auc: 0.7706 - accuracy: 0.8135 - val_loss: 0.4446 - val_auc: 0.7615 - val_accuracy: 0.8160\n",
      "Epoch 22/30\n",
      "400/400 [==============================] - 2s 4ms/step - loss: 0.4236 - auc: 0.7810 - accuracy: 0.8218 - val_loss: 0.4404 - val_auc: 0.7641 - val_accuracy: 0.8144\n",
      "Epoch 23/30\n",
      "400/400 [==============================] - 2s 4ms/step - loss: 0.4294 - auc: 0.7820 - accuracy: 0.8209 - val_loss: 0.4438 - val_auc: 0.7605 - val_accuracy: 0.8183\n",
      "Epoch 24/30\n",
      "400/400 [==============================] - 2s 4ms/step - loss: 0.4244 - auc: 0.7892 - accuracy: 0.8213 - val_loss: 0.4418 - val_auc: 0.7615 - val_accuracy: 0.8152\n",
      "Epoch 25/30\n",
      "400/400 [==============================] - 2s 4ms/step - loss: 0.4195 - auc: 0.7806 - accuracy: 0.8235 - val_loss: 0.4425 - val_auc: 0.7626 - val_accuracy: 0.8185\n",
      "Epoch 26/30\n",
      "400/400 [==============================] - 2s 4ms/step - loss: 0.4293 - auc: 0.7793 - accuracy: 0.8204 - val_loss: 0.4462 - val_auc: 0.7617 - val_accuracy: 0.8163\n",
      "Epoch 27/30\n",
      "400/400 [==============================] - 2s 4ms/step - loss: 0.4248 - auc: 0.7854 - accuracy: 0.8236 - val_loss: 0.4441 - val_auc: 0.7608 - val_accuracy: 0.8154\n",
      "Epoch 28/30\n",
      "400/400 [==============================] - 2s 4ms/step - loss: 0.4205 - auc: 0.7939 - accuracy: 0.8225 - val_loss: 0.4423 - val_auc: 0.7599 - val_accuracy: 0.8165\n",
      "Epoch 29/30\n",
      "400/400 [==============================] - 2s 4ms/step - loss: 0.4186 - auc: 0.7944 - accuracy: 0.8216 - val_loss: 0.4429 - val_auc: 0.7593 - val_accuracy: 0.8160\n",
      "Epoch 30/30\n",
      "400/400 [==============================] - 2s 4ms/step - loss: 0.4167 - auc: 0.7957 - accuracy: 0.8280 - val_loss: 0.4434 - val_auc: 0.7617 - val_accuracy: 0.8167\n",
      "200/200 [==============================] - 0s 1ms/step - loss: 0.4412 - auc: 0.7619 - accuracy: 0.8178\n",
      "[CV] END learning_rate=0.0010736841723078152, n_hidden=35, n_neurons=104; total time=  50.4s\n",
      "Epoch 1/30\n",
      "400/400 [==============================] - 5s 5ms/step - loss: 75.7699 - auc: 0.5057 - accuracy: 0.7677 - val_loss: 0.5288 - val_auc: 0.5001 - val_accuracy: 0.7788\n",
      "Epoch 2/30\n",
      "400/400 [==============================] - 2s 4ms/step - loss: 0.5275 - auc: 0.4988 - accuracy: 0.7805 - val_loss: 0.5353 - val_auc: 0.5000 - val_accuracy: 0.7788\n",
      "Epoch 3/30\n",
      "400/400 [==============================] - 2s 4ms/step - loss: 0.5336 - auc: 0.4941 - accuracy: 0.7761 - val_loss: 0.5290 - val_auc: 0.5000 - val_accuracy: 0.7788\n",
      "Epoch 4/30\n",
      "400/400 [==============================] - 2s 4ms/step - loss: 0.5354 - auc: 0.5008 - accuracy: 0.7736 - val_loss: 0.5316 - val_auc: 0.5000 - val_accuracy: 0.7788\n",
      "Epoch 5/30\n",
      "400/400 [==============================] - 2s 4ms/step - loss: 0.5317 - auc: 0.4845 - accuracy: 0.7772 - val_loss: 0.5285 - val_auc: 0.5000 - val_accuracy: 0.7788\n",
      "Epoch 6/30\n",
      "400/400 [==============================] - 2s 4ms/step - loss: 0.5354 - auc: 0.4920 - accuracy: 0.7738 - val_loss: 0.5308 - val_auc: 0.5000 - val_accuracy: 0.7788\n",
      "Epoch 7/30\n",
      "400/400 [==============================] - 2s 4ms/step - loss: 0.5280 - auc: 0.4807 - accuracy: 0.7800 - val_loss: 0.5285 - val_auc: 0.5000 - val_accuracy: 0.7788\n",
      "Epoch 8/30\n",
      "400/400 [==============================] - 2s 4ms/step - loss: 0.5372 - auc: 0.4827 - accuracy: 0.7722 - val_loss: 0.5291 - val_auc: 0.5000 - val_accuracy: 0.7788\n",
      "Epoch 9/30\n",
      "400/400 [==============================] - 2s 4ms/step - loss: 0.5293 - auc: 0.4842 - accuracy: 0.7787 - val_loss: 0.5288 - val_auc: 0.5000 - val_accuracy: 0.7788\n",
      "Epoch 10/30\n",
      "400/400 [==============================] - 2s 4ms/step - loss: 0.5270 - auc: 0.4964 - accuracy: 0.7801 - val_loss: 0.5287 - val_auc: 0.5000 - val_accuracy: 0.7788\n",
      "Epoch 11/30\n",
      "400/400 [==============================] - 2s 4ms/step - loss: 0.5378 - auc: 0.4917 - accuracy: 0.7717 - val_loss: 0.5288 - val_auc: 0.5000 - val_accuracy: 0.7788\n",
      "200/200 [==============================] - 0s 997us/step - loss: 0.5277 - auc: 0.5000 - accuracy: 0.7797\n",
      "[CV] END learning_rate=0.0010736841723078152, n_hidden=35, n_neurons=104; total time=  21.4s\n",
      "Epoch 1/30\n",
      "400/400 [==============================] - 4s 4ms/step - loss: 3.3752 - auc: 0.4915 - accuracy: 0.7679 - val_loss: 0.5289 - val_auc: 0.5000 - val_accuracy: 0.7788\n",
      "Epoch 2/30\n",
      "400/400 [==============================] - 1s 4ms/step - loss: 0.5301 - auc: 0.4901 - accuracy: 0.7784 - val_loss: 0.5287 - val_auc: 0.5000 - val_accuracy: 0.7788\n",
      "Epoch 3/30\n",
      "400/400 [==============================] - 1s 4ms/step - loss: 36.6741 - auc: 0.4994 - accuracy: 0.7784 - val_loss: 0.5332 - val_auc: 0.5134 - val_accuracy: 0.7794\n",
      "Epoch 4/30\n",
      "400/400 [==============================] - 2s 4ms/step - loss: 0.5608 - auc: 0.4981 - accuracy: 0.7816 - val_loss: 0.5322 - val_auc: 0.5273 - val_accuracy: 0.7788\n"
     ]
    },
    {
     "name": "stdout",
     "output_type": "stream",
     "text": [
      "Epoch 5/30\n",
      "400/400 [==============================] - 2s 4ms/step - loss: 0.5254 - auc: 0.4945 - accuracy: 0.7814 - val_loss: 0.5286 - val_auc: 0.5130 - val_accuracy: 0.7788\n",
      "Epoch 6/30\n",
      "400/400 [==============================] - 1s 4ms/step - loss: 0.5169 - auc: 0.5293 - accuracy: 0.7859 - val_loss: 0.4999 - val_auc: 0.6139 - val_accuracy: 0.7871\n",
      "Epoch 7/30\n",
      "400/400 [==============================] - 2s 5ms/step - loss: 0.4772 - auc: 0.6325 - accuracy: 0.8049 - val_loss: 0.4884 - val_auc: 0.6683 - val_accuracy: 0.7908\n",
      "Epoch 8/30\n",
      "400/400 [==============================] - 2s 5ms/step - loss: 0.5564 - auc: 0.5693 - accuracy: 0.7799 - val_loss: 0.5309 - val_auc: 0.5000 - val_accuracy: 0.7788\n",
      "Epoch 9/30\n",
      "400/400 [==============================] - 2s 4ms/step - loss: 0.5350 - auc: 0.4841 - accuracy: 0.7745 - val_loss: 0.5289 - val_auc: 0.5000 - val_accuracy: 0.7788\n",
      "Epoch 10/30\n",
      "400/400 [==============================] - 2s 4ms/step - loss: 0.5358 - auc: 0.4953 - accuracy: 0.7734 - val_loss: 0.5285 - val_auc: 0.5000 - val_accuracy: 0.7788\n",
      "Epoch 11/30\n",
      "400/400 [==============================] - 2s 4ms/step - loss: 0.5273 - auc: 0.4876 - accuracy: 0.7800 - val_loss: 0.5286 - val_auc: 0.5000 - val_accuracy: 0.7788\n",
      "Epoch 12/30\n",
      "400/400 [==============================] - 2s 4ms/step - loss: 0.5224 - auc: 0.5064 - accuracy: 0.7835 - val_loss: 0.5287 - val_auc: 0.5000 - val_accuracy: 0.7788\n",
      "Epoch 13/30\n",
      "400/400 [==============================] - 2s 4ms/step - loss: 0.5286 - auc: 0.4954 - accuracy: 0.7788 - val_loss: 0.5286 - val_auc: 0.5000 - val_accuracy: 0.7788\n",
      "Epoch 14/30\n",
      "400/400 [==============================] - 2s 4ms/step - loss: 0.5269 - auc: 0.4859 - accuracy: 0.7802 - val_loss: 0.5285 - val_auc: 0.5000 - val_accuracy: 0.7788\n",
      "Epoch 15/30\n",
      "400/400 [==============================] - 2s 4ms/step - loss: 0.5323 - auc: 0.4960 - accuracy: 0.7758 - val_loss: 0.5293 - val_auc: 0.5000 - val_accuracy: 0.7788\n",
      "Epoch 16/30\n",
      "400/400 [==============================] - 1s 4ms/step - loss: 0.5316 - auc: 0.4856 - accuracy: 0.7768 - val_loss: 0.5286 - val_auc: 0.5122 - val_accuracy: 0.7788\n",
      "Epoch 17/30\n",
      "400/400 [==============================] - 2s 4ms/step - loss: 0.5358 - auc: 0.5008 - accuracy: 0.7730 - val_loss: 0.5286 - val_auc: 0.5208 - val_accuracy: 0.7788\n",
      "200/200 [==============================] - 0s 1ms/step - loss: 0.5321 - auc: 0.5224 - accuracy: 0.7761\n",
      "[CV] END learning_rate=0.021809007705088816, n_hidden=25, n_neurons=132; total time=  30.4s\n",
      "Epoch 1/30\n",
      "400/400 [==============================] - 5s 4ms/step - loss: 3.2603 - auc: 0.4961 - accuracy: 0.7724 - val_loss: 0.5289 - val_auc: 0.5000 - val_accuracy: 0.7788\n",
      "Epoch 2/30\n",
      "400/400 [==============================] - 1s 3ms/step - loss: 0.5333 - auc: 0.4952 - accuracy: 0.7756 - val_loss: 0.5286 - val_auc: 0.5000 - val_accuracy: 0.7788\n",
      "Epoch 3/30\n",
      "400/400 [==============================] - 1s 3ms/step - loss: 1.5398 - auc: 0.4934 - accuracy: 0.7708 - val_loss: 4.9692 - val_auc: 0.5394 - val_accuracy: 0.7788\n",
      "Epoch 4/30\n",
      "400/400 [==============================] - 1s 3ms/step - loss: 0.5536 - auc: 0.5124 - accuracy: 0.7719 - val_loss: 0.5285 - val_auc: 0.5000 - val_accuracy: 0.7788\n",
      "Epoch 5/30\n",
      "400/400 [==============================] - 1s 3ms/step - loss: 0.5275 - auc: 0.4793 - accuracy: 0.7798 - val_loss: 0.5285 - val_auc: 0.5000 - val_accuracy: 0.7788\n",
      "Epoch 6/30\n",
      "400/400 [==============================] - 2s 4ms/step - loss: 0.5273 - auc: 0.5015 - accuracy: 0.7797 - val_loss: 0.5285 - val_auc: 0.5000 - val_accuracy: 0.7788\n",
      "Epoch 7/30\n",
      "400/400 [==============================] - 2s 4ms/step - loss: 0.5210 - auc: 0.5025 - accuracy: 0.7848 - val_loss: 0.5288 - val_auc: 0.5001 - val_accuracy: 0.7788\n",
      "Epoch 8/30\n",
      "400/400 [==============================] - 2s 4ms/step - loss: 0.5310 - auc: 0.5030 - accuracy: 0.7769 - val_loss: 0.5285 - val_auc: 0.5000 - val_accuracy: 0.7788\n",
      "Epoch 9/30\n",
      "400/400 [==============================] - 2s 5ms/step - loss: 0.5362 - auc: 0.4810 - accuracy: 0.7727 - val_loss: 0.5285 - val_auc: 0.5000 - val_accuracy: 0.7788\n",
      "Epoch 10/30\n",
      "400/400 [==============================] - 2s 4ms/step - loss: 0.5259 - auc: 0.4959 - accuracy: 0.7809 - val_loss: 0.5287 - val_auc: 0.5000 - val_accuracy: 0.7788\n",
      "Epoch 11/30\n",
      "400/400 [==============================] - 2s 4ms/step - loss: 0.5311 - auc: 0.5011 - accuracy: 0.7768 - val_loss: 0.5286 - val_auc: 0.5000 - val_accuracy: 0.7788\n",
      "200/200 [==============================] - 0s 977us/step - loss: 0.5263 - auc: 0.5000 - accuracy: 0.7806\n",
      "[CV] END learning_rate=0.021809007705088816, n_hidden=25, n_neurons=132; total time=  20.3s\n",
      "Epoch 1/30\n",
      "400/400 [==============================] - 5s 5ms/step - loss: 0.7767 - auc: 0.4926 - accuracy: 0.7586 - val_loss: 0.5288 - val_auc: 0.5000 - val_accuracy: 0.7788\n",
      "Epoch 2/30\n",
      "400/400 [==============================] - 2s 4ms/step - loss: 0.5273 - auc: 0.5008 - accuracy: 0.7805 - val_loss: 0.5285 - val_auc: 0.5000 - val_accuracy: 0.7788\n",
      "Epoch 3/30\n",
      "400/400 [==============================] - 1s 4ms/step - loss: 0.5326 - auc: 0.4975 - accuracy: 0.7761 - val_loss: 0.5289 - val_auc: 0.5000 - val_accuracy: 0.7788\n",
      "Epoch 4/30\n",
      "400/400 [==============================] - 1s 4ms/step - loss: 0.5353 - auc: 0.5023 - accuracy: 0.7736 - val_loss: 0.5311 - val_auc: 0.5000 - val_accuracy: 0.7788\n",
      "Epoch 5/30\n",
      "400/400 [==============================] - 2s 4ms/step - loss: 0.5315 - auc: 0.4866 - accuracy: 0.7772 - val_loss: 0.5285 - val_auc: 0.5000 - val_accuracy: 0.7788\n",
      "Epoch 6/30\n",
      "400/400 [==============================] - 2s 4ms/step - loss: 0.5354 - auc: 0.4916 - accuracy: 0.7738 - val_loss: 0.5310 - val_auc: 0.5000 - val_accuracy: 0.7788\n",
      "Epoch 7/30\n",
      "400/400 [==============================] - 2s 5ms/step - loss: 0.5281 - auc: 0.4815 - accuracy: 0.7800 - val_loss: 0.5285 - val_auc: 0.5000 - val_accuracy: 0.7788\n",
      "Epoch 8/30\n",
      "400/400 [==============================] - 2s 4ms/step - loss: 0.5373 - auc: 0.4843 - accuracy: 0.7722 - val_loss: 0.5291 - val_auc: 0.5000 - val_accuracy: 0.7788\n",
      "Epoch 9/30\n",
      "400/400 [==============================] - 2s 4ms/step - loss: 0.5294 - auc: 0.4860 - accuracy: 0.7787 - val_loss: 0.5289 - val_auc: 0.5000 - val_accuracy: 0.7788\n",
      "Epoch 10/30\n",
      "400/400 [==============================] - 2s 4ms/step - loss: 0.5270 - auc: 0.4960 - accuracy: 0.7801 - val_loss: 0.5286 - val_auc: 0.5000 - val_accuracy: 0.7788\n",
      "Epoch 11/30\n",
      "400/400 [==============================] - 2s 4ms/step - loss: 0.5378 - auc: 0.4962 - accuracy: 0.7717 - val_loss: 0.5289 - val_auc: 0.5000 - val_accuracy: 0.7788\n",
      "200/200 [==============================] - 0s 1ms/step - loss: 0.5278 - auc: 0.5000 - accuracy: 0.7797\n",
      "[CV] END learning_rate=0.021809007705088816, n_hidden=25, n_neurons=132; total time=  21.3s\n",
      "Epoch 1/30\n",
      "400/400 [==============================] - 5s 5ms/step - loss: 0.9812 - auc: 0.4799 - accuracy: 0.7560 - val_loss: 0.5289 - val_auc: 0.5000 - val_accuracy: 0.7788\n",
      "Epoch 2/30\n",
      "400/400 [==============================] - 1s 3ms/step - loss: 0.5301 - auc: 0.4929 - accuracy: 0.7784 - val_loss: 0.5288 - val_auc: 0.5000 - val_accuracy: 0.7788\n",
      "Epoch 3/30\n",
      "400/400 [==============================] - 1s 4ms/step - loss: 0.5207 - auc: 0.5013 - accuracy: 0.7855 - val_loss: 0.5285 - val_auc: 0.5000 - val_accuracy: 0.7788\n",
      "Epoch 4/30\n",
      "400/400 [==============================] - 2s 4ms/step - loss: 0.5284 - auc: 0.4871 - accuracy: 0.7797 - val_loss: 0.5327 - val_auc: 0.5000 - val_accuracy: 0.7788\n",
      "Epoch 5/30\n",
      "400/400 [==============================] - 1s 4ms/step - loss: 0.5256 - auc: 0.4833 - accuracy: 0.7823 - val_loss: 0.5288 - val_auc: 0.5000 - val_accuracy: 0.7788\n",
      "Epoch 6/30\n",
      "400/400 [==============================] - 1s 4ms/step - loss: 0.5252 - auc: 0.4988 - accuracy: 0.7818 - val_loss: 0.5292 - val_auc: 0.5000 - val_accuracy: 0.7788\n",
      "Epoch 7/30\n",
      "400/400 [==============================] - 1s 4ms/step - loss: 0.5188 - auc: 0.4967 - accuracy: 0.7867 - val_loss: 0.5290 - val_auc: 0.5000 - val_accuracy: 0.7788\n",
      "Epoch 8/30\n",
      "400/400 [==============================] - 1s 4ms/step - loss: 0.5321 - auc: 0.5057 - accuracy: 0.7760 - val_loss: 0.5312 - val_auc: 0.5000 - val_accuracy: 0.7788\n",
      "Epoch 9/30\n",
      "400/400 [==============================] - 1s 4ms/step - loss: 0.5352 - auc: 0.4743 - accuracy: 0.7745 - val_loss: 0.5292 - val_auc: 0.5000 - val_accuracy: 0.7788\n"
     ]
    },
    {
     "name": "stdout",
     "output_type": "stream",
     "text": [
      "Epoch 10/30\n",
      "400/400 [==============================] - 1s 4ms/step - loss: 0.5360 - auc: 0.4936 - accuracy: 0.7734 - val_loss: 0.5285 - val_auc: 0.5000 - val_accuracy: 0.7788\n",
      "Epoch 11/30\n",
      "400/400 [==============================] - 2s 4ms/step - loss: 0.5275 - auc: 0.4893 - accuracy: 0.7800 - val_loss: 0.5286 - val_auc: 0.5000 - val_accuracy: 0.7788\n",
      "200/200 [==============================] - 0s 1ms/step - loss: 0.5320 - auc: 0.5000 - accuracy: 0.7761\n",
      "[CV] END learning_rate=0.018803107621165455, n_hidden=25, n_neurons=121; total time=  19.6s\n",
      "Epoch 1/30\n",
      "400/400 [==============================] - 4s 4ms/step - loss: 0.9982 - auc: 0.4887 - accuracy: 0.7649 - val_loss: 0.5313 - val_auc: 0.5000 - val_accuracy: 0.7788\n",
      "Epoch 2/30\n",
      "400/400 [==============================] - 1s 3ms/step - loss: 0.5336 - auc: 0.4937 - accuracy: 0.7756 - val_loss: 980.0402 - val_auc: 0.5000 - val_accuracy: 0.2212\n",
      "Epoch 3/30\n",
      "400/400 [==============================] - 1s 4ms/step - loss: 339.8171 - auc: 0.5153 - accuracy: 0.7163 - val_loss: 0.5147 - val_auc: 0.6693 - val_accuracy: 0.7788\n",
      "Epoch 4/30\n",
      "400/400 [==============================] - 1s 3ms/step - loss: 0.6176 - auc: 0.5757 - accuracy: 0.7686 - val_loss: 0.5285 - val_auc: 0.5000 - val_accuracy: 0.7788\n",
      "Epoch 5/30\n",
      "400/400 [==============================] - 1s 3ms/step - loss: 0.5279 - auc: 0.4769 - accuracy: 0.7798 - val_loss: 0.5286 - val_auc: 0.5000 - val_accuracy: 0.7788\n",
      "Epoch 6/30\n",
      "400/400 [==============================] - 1s 3ms/step - loss: 0.5465 - auc: 0.5023 - accuracy: 0.7791 - val_loss: 0.5270 - val_auc: 0.5249 - val_accuracy: 0.7788\n",
      "Epoch 7/30\n",
      "400/400 [==============================] - 1s 3ms/step - loss: 0.5182 - auc: 0.5329 - accuracy: 0.7848 - val_loss: 0.5287 - val_auc: 0.5000 - val_accuracy: 0.7788\n",
      "Epoch 8/30\n",
      "400/400 [==============================] - 1s 3ms/step - loss: 0.5310 - auc: 0.4983 - accuracy: 0.7769 - val_loss: 0.5285 - val_auc: 0.5000 - val_accuracy: 0.7788\n",
      "Epoch 9/30\n",
      "400/400 [==============================] - 1s 3ms/step - loss: 0.5363 - auc: 0.4802 - accuracy: 0.7727 - val_loss: 0.5285 - val_auc: 0.5000 - val_accuracy: 0.7788\n",
      "Epoch 10/30\n",
      "400/400 [==============================] - 1s 3ms/step - loss: 0.5260 - auc: 0.4838 - accuracy: 0.7809 - val_loss: 0.5288 - val_auc: 0.5000 - val_accuracy: 0.7788\n",
      "Epoch 11/30\n",
      "400/400 [==============================] - 1s 3ms/step - loss: 0.5312 - auc: 0.4942 - accuracy: 0.7768 - val_loss: 0.5287 - val_auc: 0.5000 - val_accuracy: 0.7788\n",
      "Epoch 12/30\n",
      "400/400 [==============================] - 1s 3ms/step - loss: 0.5239 - auc: 0.5015 - accuracy: 0.7825 - val_loss: 0.5288 - val_auc: 0.5000 - val_accuracy: 0.7788\n",
      "Epoch 13/30\n",
      "400/400 [==============================] - 1s 3ms/step - loss: 0.5278 - auc: 0.5004 - accuracy: 0.7793 - val_loss: 0.5288 - val_auc: 0.5000 - val_accuracy: 0.7788\n",
      "200/200 [==============================] - 0s 963us/step - loss: 0.5265 - auc: 0.5000 - accuracy: 0.7806\n",
      "[CV] END learning_rate=0.018803107621165455, n_hidden=25, n_neurons=121; total time=  21.2s\n",
      "Epoch 1/30\n",
      "400/400 [==============================] - 4s 4ms/step - loss: 4.7755 - auc: 0.5014 - accuracy: 0.7558 - val_loss: 0.5308 - val_auc: 0.5118 - val_accuracy: 0.7788\n",
      "Epoch 2/30\n",
      "400/400 [==============================] - 1s 3ms/step - loss: 0.5279 - auc: 0.5046 - accuracy: 0.7803 - val_loss: 0.5285 - val_auc: 0.4999 - val_accuracy: 0.7788\n",
      "Epoch 3/30\n",
      "400/400 [==============================] - 1s 3ms/step - loss: 0.5322 - auc: 0.4967 - accuracy: 0.7761 - val_loss: 0.5317 - val_auc: 0.4489 - val_accuracy: 0.7788\n",
      "Epoch 4/30\n",
      "400/400 [==============================] - 1s 3ms/step - loss: 0.5427 - auc: 0.5293 - accuracy: 0.7732 - val_loss: 0.5302 - val_auc: 0.5000 - val_accuracy: 0.7788\n",
      "Epoch 5/30\n",
      "400/400 [==============================] - 1s 3ms/step - loss: 0.5312 - auc: 0.4898 - accuracy: 0.7772 - val_loss: 0.5285 - val_auc: 0.5000 - val_accuracy: 0.7788\n",
      "Epoch 6/30\n",
      "400/400 [==============================] - 1s 3ms/step - loss: 0.5350 - auc: 0.4941 - accuracy: 0.7738 - val_loss: 0.5289 - val_auc: 0.5000 - val_accuracy: 0.7788\n",
      "Epoch 7/30\n",
      "400/400 [==============================] - 1s 3ms/step - loss: 0.5274 - auc: 0.4865 - accuracy: 0.7800 - val_loss: 0.5285 - val_auc: 0.5000 - val_accuracy: 0.7788\n",
      "Epoch 8/30\n",
      "400/400 [==============================] - 1s 3ms/step - loss: 0.5369 - auc: 0.4838 - accuracy: 0.7722 - val_loss: 0.5290 - val_auc: 0.5000 - val_accuracy: 0.7788\n",
      "Epoch 9/30\n",
      "400/400 [==============================] - 1s 3ms/step - loss: 0.5290 - auc: 0.4849 - accuracy: 0.7787 - val_loss: 0.5286 - val_auc: 0.5000 - val_accuracy: 0.7788\n",
      "Epoch 10/30\n",
      "400/400 [==============================] - 1s 3ms/step - loss: 0.5269 - auc: 0.4940 - accuracy: 0.7801 - val_loss: 0.5286 - val_auc: 0.5000 - val_accuracy: 0.7788\n",
      "Epoch 11/30\n",
      "400/400 [==============================] - 1s 3ms/step - loss: 0.5377 - auc: 0.4846 - accuracy: 0.7717 - val_loss: 0.5287 - val_auc: 0.5000 - val_accuracy: 0.7788\n",
      "Epoch 12/30\n",
      "400/400 [==============================] - 1s 3ms/step - loss: 0.5295 - auc: 0.4936 - accuracy: 0.7781 - val_loss: 0.5286 - val_auc: 0.5000 - val_accuracy: 0.7788\n",
      "200/200 [==============================] - 0s 962us/step - loss: 0.5275 - auc: 0.5000 - accuracy: 0.7797\n",
      "[CV] END learning_rate=0.018803107621165455, n_hidden=25, n_neurons=121; total time=  19.8s\n",
      "Epoch 1/30\n",
      "400/400 [==============================] - 2s 2ms/step - loss: 0.4969 - auc: 0.7009 - accuracy: 0.7940 - val_loss: 0.4502 - val_auc: 0.7493 - val_accuracy: 0.8146\n",
      "Epoch 2/30\n",
      "400/400 [==============================] - 0s 1ms/step - loss: 0.4443 - auc: 0.7569 - accuracy: 0.8158 - val_loss: 0.4418 - val_auc: 0.7534 - val_accuracy: 0.8160\n",
      "Epoch 3/30\n",
      "400/400 [==============================] - 0s 1ms/step - loss: 0.4295 - auc: 0.7715 - accuracy: 0.8233 - val_loss: 0.4668 - val_auc: 0.7188 - val_accuracy: 0.8152\n",
      "Epoch 4/30\n",
      "400/400 [==============================] - 0s 1ms/step - loss: 0.4335 - auc: 0.7682 - accuracy: 0.8229 - val_loss: 0.4428 - val_auc: 0.7605 - val_accuracy: 0.8167\n",
      "Epoch 5/30\n",
      "400/400 [==============================] - 0s 1ms/step - loss: 0.4338 - auc: 0.7651 - accuracy: 0.8237 - val_loss: 0.4488 - val_auc: 0.7601 - val_accuracy: 0.8144\n",
      "Epoch 6/30\n",
      "400/400 [==============================] - 0s 1ms/step - loss: 0.4369 - auc: 0.7601 - accuracy: 0.8200 - val_loss: 0.4433 - val_auc: 0.7614 - val_accuracy: 0.8158\n",
      "Epoch 7/30\n",
      "400/400 [==============================] - 0s 1ms/step - loss: 0.4276 - auc: 0.7654 - accuracy: 0.8266 - val_loss: 0.4407 - val_auc: 0.7628 - val_accuracy: 0.8156\n",
      "Epoch 8/30\n",
      "400/400 [==============================] - 0s 1ms/step - loss: 0.4264 - auc: 0.7844 - accuracy: 0.8238 - val_loss: 0.4468 - val_auc: 0.7650 - val_accuracy: 0.8163\n",
      "Epoch 9/30\n",
      "400/400 [==============================] - 0s 1ms/step - loss: 0.4268 - auc: 0.7852 - accuracy: 0.8239 - val_loss: 0.4408 - val_auc: 0.7623 - val_accuracy: 0.8177\n",
      "Epoch 10/30\n",
      "400/400 [==============================] - 0s 1ms/step - loss: 0.4266 - auc: 0.7882 - accuracy: 0.8229 - val_loss: 0.4374 - val_auc: 0.7663 - val_accuracy: 0.8185\n",
      "Epoch 11/30\n",
      "400/400 [==============================] - 0s 1ms/step - loss: 0.4098 - auc: 0.8007 - accuracy: 0.8320 - val_loss: 0.4390 - val_auc: 0.7642 - val_accuracy: 0.8179\n",
      "Epoch 12/30\n",
      "400/400 [==============================] - 0s 1ms/step - loss: 0.4131 - auc: 0.7929 - accuracy: 0.8286 - val_loss: 0.4376 - val_auc: 0.7694 - val_accuracy: 0.8181\n",
      "Epoch 13/30\n",
      "400/400 [==============================] - 0s 1ms/step - loss: 0.4205 - auc: 0.7898 - accuracy: 0.8247 - val_loss: 0.4462 - val_auc: 0.7627 - val_accuracy: 0.8150\n",
      "Epoch 14/30\n",
      "400/400 [==============================] - 0s 1ms/step - loss: 0.4132 - auc: 0.7972 - accuracy: 0.8279 - val_loss: 0.4451 - val_auc: 0.7668 - val_accuracy: 0.8177\n",
      "Epoch 15/30\n",
      "400/400 [==============================] - 0s 1ms/step - loss: 0.4183 - auc: 0.7920 - accuracy: 0.8272 - val_loss: 0.4430 - val_auc: 0.7650 - val_accuracy: 0.8194\n",
      "Epoch 16/30\n",
      "400/400 [==============================] - 0s 1ms/step - loss: 0.4190 - auc: 0.7942 - accuracy: 0.8230 - val_loss: 0.4541 - val_auc: 0.7593 - val_accuracy: 0.8171\n",
      "Epoch 17/30\n",
      "400/400 [==============================] - 0s 1ms/step - loss: 0.4125 - auc: 0.8032 - accuracy: 0.8279 - val_loss: 0.4454 - val_auc: 0.7640 - val_accuracy: 0.8192\n",
      "Epoch 18/30\n",
      "400/400 [==============================] - 0s 1ms/step - loss: 0.4109 - auc: 0.8018 - accuracy: 0.8289 - val_loss: 0.4448 - val_auc: 0.7657 - val_accuracy: 0.8185\n",
      "Epoch 19/30\n",
      "400/400 [==============================] - 0s 1ms/step - loss: 0.4069 - auc: 0.8030 - accuracy: 0.8313 - val_loss: 0.4497 - val_auc: 0.7619 - val_accuracy: 0.8160\n",
      "Epoch 20/30\n",
      "400/400 [==============================] - 0s 1ms/step - loss: 0.4019 - auc: 0.8070 - accuracy: 0.8328 - val_loss: 0.4530 - val_auc: 0.7615 - val_accuracy: 0.8183\n",
      "200/200 [==============================] - 0s 547us/step - loss: 0.4454 - auc: 0.7670 - accuracy: 0.8169\n",
      "[CV] END learning_rate=0.0011137872537121593, n_hidden=5, n_neurons=47; total time=   9.9s\n",
      "Epoch 1/30\n",
      "400/400 [==============================] - 2s 2ms/step - loss: 0.5044 - auc: 0.6918 - accuracy: 0.7931 - val_loss: 0.4409 - val_auc: 0.7645 - val_accuracy: 0.8152\n",
      "Epoch 2/30\n",
      "400/400 [==============================] - 0s 1ms/step - loss: 0.4332 - auc: 0.7784 - accuracy: 0.8244 - val_loss: 0.4444 - val_auc: 0.7603 - val_accuracy: 0.8181\n",
      "Epoch 3/30\n",
      "400/400 [==============================] - 0s 1ms/step - loss: 0.4323 - auc: 0.7695 - accuracy: 0.8217 - val_loss: 0.4496 - val_auc: 0.7475 - val_accuracy: 0.8163\n",
      "Epoch 4/30\n",
      "400/400 [==============================] - 0s 1ms/step - loss: 0.4347 - auc: 0.7763 - accuracy: 0.8234 - val_loss: 0.4411 - val_auc: 0.7619 - val_accuracy: 0.8192\n",
      "Epoch 5/30\n",
      "400/400 [==============================] - 0s 1ms/step - loss: 0.4316 - auc: 0.7752 - accuracy: 0.8205 - val_loss: 0.4470 - val_auc: 0.7698 - val_accuracy: 0.8194\n",
      "Epoch 6/30\n",
      "400/400 [==============================] - 0s 1ms/step - loss: 0.4231 - auc: 0.7812 - accuracy: 0.8276 - val_loss: 0.4371 - val_auc: 0.7709 - val_accuracy: 0.8194\n",
      "Epoch 7/30\n",
      "400/400 [==============================] - 0s 1ms/step - loss: 0.4212 - auc: 0.7716 - accuracy: 0.8327 - val_loss: 0.4563 - val_auc: 0.7654 - val_accuracy: 0.8198\n",
      "Epoch 8/30\n",
      "400/400 [==============================] - 0s 1ms/step - loss: 0.4207 - auc: 0.7926 - accuracy: 0.8287 - val_loss: 0.4364 - val_auc: 0.7710 - val_accuracy: 0.8181\n",
      "Epoch 9/30\n",
      "400/400 [==============================] - 0s 1ms/step - loss: 0.4265 - auc: 0.7890 - accuracy: 0.8242 - val_loss: 0.4359 - val_auc: 0.7714 - val_accuracy: 0.8185\n",
      "Epoch 10/30\n",
      "400/400 [==============================] - 0s 1ms/step - loss: 0.4131 - auc: 0.7960 - accuracy: 0.8283 - val_loss: 0.4380 - val_auc: 0.7721 - val_accuracy: 0.8185\n",
      "Epoch 11/30\n",
      "400/400 [==============================] - 0s 1ms/step - loss: 0.4093 - auc: 0.8030 - accuracy: 0.8313 - val_loss: 0.4367 - val_auc: 0.7722 - val_accuracy: 0.8179\n",
      "Epoch 12/30\n",
      "400/400 [==============================] - 0s 1ms/step - loss: 0.4062 - auc: 0.8009 - accuracy: 0.8337 - val_loss: 0.4437 - val_auc: 0.7652 - val_accuracy: 0.8171\n",
      "Epoch 13/30\n",
      "400/400 [==============================] - 0s 1ms/step - loss: 0.4129 - auc: 0.7984 - accuracy: 0.8273 - val_loss: 0.4416 - val_auc: 0.7678 - val_accuracy: 0.8202\n",
      "Epoch 14/30\n",
      "400/400 [==============================] - 0s 1ms/step - loss: 0.4181 - auc: 0.7984 - accuracy: 0.8262 - val_loss: 0.4447 - val_auc: 0.7704 - val_accuracy: 0.8177\n",
      "Epoch 15/30\n",
      "400/400 [==============================] - 0s 1ms/step - loss: 0.4138 - auc: 0.7966 - accuracy: 0.8305 - val_loss: 0.4402 - val_auc: 0.7722 - val_accuracy: 0.8177\n",
      "Epoch 16/30\n",
      "400/400 [==============================] - 0s 1ms/step - loss: 0.4130 - auc: 0.7976 - accuracy: 0.8262 - val_loss: 0.4437 - val_auc: 0.7719 - val_accuracy: 0.8190\n",
      "Epoch 17/30\n",
      "400/400 [==============================] - 0s 1ms/step - loss: 0.4106 - auc: 0.8047 - accuracy: 0.8272 - val_loss: 0.4493 - val_auc: 0.7647 - val_accuracy: 0.8160\n",
      "Epoch 18/30\n",
      "400/400 [==============================] - 0s 1ms/step - loss: 0.4025 - auc: 0.8079 - accuracy: 0.8308 - val_loss: 0.4456 - val_auc: 0.7691 - val_accuracy: 0.8158\n",
      "Epoch 19/30\n",
      "400/400 [==============================] - 0s 1ms/step - loss: 0.4025 - auc: 0.8128 - accuracy: 0.8339 - val_loss: 0.4456 - val_auc: 0.7697 - val_accuracy: 0.8112\n",
      "200/200 [==============================] - 0s 570us/step - loss: 0.4400 - auc: 0.7688 - accuracy: 0.8170\n",
      "[CV] END learning_rate=0.0011137872537121593, n_hidden=5, n_neurons=47; total time=   9.7s\n",
      "Epoch 1/30\n",
      "400/400 [==============================] - 1s 2ms/step - loss: 0.4954 - auc: 0.6996 - accuracy: 0.7915 - val_loss: 0.4413 - val_auc: 0.7620 - val_accuracy: 0.8158\n",
      "Epoch 2/30\n",
      "400/400 [==============================] - 0s 1ms/step - loss: 0.4349 - auc: 0.7651 - accuracy: 0.8218 - val_loss: 0.4444 - val_auc: 0.7592 - val_accuracy: 0.8152\n",
      "Epoch 3/30\n",
      "400/400 [==============================] - 0s 1ms/step - loss: 0.4422 - auc: 0.7647 - accuracy: 0.8172 - val_loss: 0.4702 - val_auc: 0.7375 - val_accuracy: 0.8194\n",
      "Epoch 4/30\n",
      "400/400 [==============================] - 0s 1ms/step - loss: 0.4443 - auc: 0.7633 - accuracy: 0.8182 - val_loss: 0.4452 - val_auc: 0.7606 - val_accuracy: 0.8158\n",
      "Epoch 5/30\n",
      "400/400 [==============================] - 0s 1ms/step - loss: 0.4341 - auc: 0.7663 - accuracy: 0.8254 - val_loss: 0.4392 - val_auc: 0.7665 - val_accuracy: 0.8158\n",
      "Epoch 6/30\n",
      "400/400 [==============================] - 0s 1ms/step - loss: 0.4387 - auc: 0.7666 - accuracy: 0.8195 - val_loss: 0.4643 - val_auc: 0.7622 - val_accuracy: 0.8148\n",
      "Epoch 7/30\n",
      "400/400 [==============================] - 0s 1ms/step - loss: 0.4342 - auc: 0.7647 - accuracy: 0.8260 - val_loss: 0.4373 - val_auc: 0.7691 - val_accuracy: 0.8198\n",
      "Epoch 8/30\n",
      "400/400 [==============================] - 0s 1ms/step - loss: 0.4356 - auc: 0.7757 - accuracy: 0.8192 - val_loss: 0.4392 - val_auc: 0.7659 - val_accuracy: 0.8175\n",
      "Epoch 9/30\n",
      "400/400 [==============================] - 0s 1ms/step - loss: 0.4258 - auc: 0.7791 - accuracy: 0.8260 - val_loss: 0.4390 - val_auc: 0.7715 - val_accuracy: 0.8171\n",
      "Epoch 10/30\n",
      "400/400 [==============================] - 0s 1ms/step - loss: 0.4240 - auc: 0.7817 - accuracy: 0.8266 - val_loss: 0.4378 - val_auc: 0.7678 - val_accuracy: 0.8194\n",
      "Epoch 11/30\n",
      "400/400 [==============================] - 0s 1ms/step - loss: 0.4351 - auc: 0.7791 - accuracy: 0.8191 - val_loss: 0.4367 - val_auc: 0.7705 - val_accuracy: 0.8165\n",
      "Epoch 12/30\n",
      "400/400 [==============================] - 0s 1ms/step - loss: 0.4212 - auc: 0.7881 - accuracy: 0.8282 - val_loss: 0.4362 - val_auc: 0.7732 - val_accuracy: 0.8179\n",
      "Epoch 13/30\n",
      "400/400 [==============================] - 0s 1ms/step - loss: 0.4257 - auc: 0.7844 - accuracy: 0.8226 - val_loss: 0.4404 - val_auc: 0.7728 - val_accuracy: 0.8185\n",
      "Epoch 14/30\n",
      "400/400 [==============================] - 0s 1ms/step - loss: 0.4232 - auc: 0.7881 - accuracy: 0.8226 - val_loss: 0.4372 - val_auc: 0.7729 - val_accuracy: 0.8183\n",
      "Epoch 15/30\n",
      "400/400 [==============================] - 0s 1ms/step - loss: 0.4249 - auc: 0.7869 - accuracy: 0.8215 - val_loss: 0.4355 - val_auc: 0.7743 - val_accuracy: 0.8210\n",
      "Epoch 16/30\n",
      "400/400 [==============================] - 0s 1ms/step - loss: 0.4172 - auc: 0.7938 - accuracy: 0.8242 - val_loss: 0.4370 - val_auc: 0.7728 - val_accuracy: 0.8188\n",
      "Epoch 17/30\n",
      "400/400 [==============================] - 0s 1ms/step - loss: 0.4159 - auc: 0.7962 - accuracy: 0.8281 - val_loss: 0.4433 - val_auc: 0.7710 - val_accuracy: 0.8171\n",
      "Epoch 18/30\n",
      "400/400 [==============================] - 0s 1ms/step - loss: 0.4085 - auc: 0.8021 - accuracy: 0.8314 - val_loss: 0.4396 - val_auc: 0.7703 - val_accuracy: 0.8158\n",
      "Epoch 19/30\n",
      "400/400 [==============================] - 0s 1ms/step - loss: 0.4143 - auc: 0.7993 - accuracy: 0.8280 - val_loss: 0.4365 - val_auc: 0.7706 - val_accuracy: 0.8196\n",
      "Epoch 20/30\n",
      "400/400 [==============================] - 0s 1ms/step - loss: 0.4034 - auc: 0.8100 - accuracy: 0.8341 - val_loss: 0.4395 - val_auc: 0.7698 - val_accuracy: 0.8192\n",
      "Epoch 21/30\n",
      "400/400 [==============================] - 0s 1ms/step - loss: 0.4154 - auc: 0.7995 - accuracy: 0.8282 - val_loss: 0.4404 - val_auc: 0.7724 - val_accuracy: 0.8175\n",
      "Epoch 22/30\n",
      "400/400 [==============================] - 0s 1ms/step - loss: 0.4028 - auc: 0.8049 - accuracy: 0.8378 - val_loss: 0.4409 - val_auc: 0.7676 - val_accuracy: 0.8167\n"
     ]
    },
    {
     "name": "stdout",
     "output_type": "stream",
     "text": [
      "200/200 [==============================] - 0s 550us/step - loss: 0.4325 - auc: 0.7804 - accuracy: 0.8223\n",
      "[CV] END learning_rate=0.0011137872537121593, n_hidden=5, n_neurons=47; total time=  10.9s\n",
      "Epoch 1/30\n",
      "400/400 [==============================] - 7s 8ms/step - loss: 86.0492 - auc: 0.4890 - accuracy: 0.7668 - val_loss: 0.5289 - val_auc: 0.5000 - val_accuracy: 0.7788\n",
      "Epoch 2/30\n",
      "400/400 [==============================] - 3s 7ms/step - loss: 0.5309 - auc: 0.4861 - accuracy: 0.7784 - val_loss: 0.5286 - val_auc: 0.5000 - val_accuracy: 0.7788\n",
      "Epoch 3/30\n",
      "400/400 [==============================] - 3s 7ms/step - loss: 0.5206 - auc: 0.4984 - accuracy: 0.7855 - val_loss: 0.5286 - val_auc: 0.5000 - val_accuracy: 0.7788\n",
      "Epoch 4/30\n",
      "400/400 [==============================] - 3s 7ms/step - loss: 0.5283 - auc: 0.4861 - accuracy: 0.7797 - val_loss: 0.5322 - val_auc: 0.5000 - val_accuracy: 0.7788\n",
      "Epoch 5/30\n",
      "400/400 [==============================] - 3s 7ms/step - loss: 0.5255 - auc: 0.4837 - accuracy: 0.7823 - val_loss: 0.5288 - val_auc: 0.5000 - val_accuracy: 0.7788\n",
      "Epoch 6/30\n",
      "400/400 [==============================] - 3s 7ms/step - loss: 0.5251 - auc: 0.4989 - accuracy: 0.7818 - val_loss: 0.5290 - val_auc: 0.5000 - val_accuracy: 0.7788\n",
      "Epoch 7/30\n",
      "400/400 [==============================] - 3s 7ms/step - loss: 0.5188 - auc: 0.4940 - accuracy: 0.7867 - val_loss: 0.5290 - val_auc: 0.5000 - val_accuracy: 0.7788\n",
      "Epoch 8/30\n",
      "400/400 [==============================] - 3s 7ms/step - loss: 0.5321 - auc: 0.5026 - accuracy: 0.7760 - val_loss: 0.5302 - val_auc: 0.5000 - val_accuracy: 0.7788\n",
      "Epoch 9/30\n",
      "400/400 [==============================] - 3s 7ms/step - loss: 0.5349 - auc: 0.4825 - accuracy: 0.7745 - val_loss: 0.5289 - val_auc: 0.5000 - val_accuracy: 0.7788\n",
      "Epoch 10/30\n",
      "400/400 [==============================] - 3s 7ms/step - loss: 0.5359 - auc: 0.4910 - accuracy: 0.7734 - val_loss: 0.5285 - val_auc: 0.5000 - val_accuracy: 0.7788\n",
      "Epoch 11/30\n",
      "400/400 [==============================] - 3s 7ms/step - loss: 0.5273 - auc: 0.4866 - accuracy: 0.7800 - val_loss: 0.5286 - val_auc: 0.5000 - val_accuracy: 0.7788\n",
      "200/200 [==============================] - 0s 2ms/step - loss: 0.5320 - auc: 0.5000 - accuracy: 0.7761\n",
      "[CV] END learning_rate=0.009944363125584, n_hidden=35, n_neurons=174; total time=  33.7s\n",
      "Epoch 1/30\n",
      "400/400 [==============================] - 7s 8ms/step - loss: 2.9690 - auc: 0.4882 - accuracy: 0.7480 - val_loss: 0.5295 - val_auc: 0.5000 - val_accuracy: 0.7788\n",
      "Epoch 2/30\n",
      "400/400 [==============================] - 3s 7ms/step - loss: 0.5335 - auc: 0.4941 - accuracy: 0.7756 - val_loss: 0.5286 - val_auc: 0.5000 - val_accuracy: 0.7788\n",
      "Epoch 3/30\n",
      "400/400 [==============================] - 3s 7ms/step - loss: 0.5269 - auc: 0.4891 - accuracy: 0.7807 - val_loss: 0.5286 - val_auc: 0.5000 - val_accuracy: 0.7788\n",
      "Epoch 4/30\n",
      "400/400 [==============================] - 3s 7ms/step - loss: 0.5348 - auc: 0.4983 - accuracy: 0.7741 - val_loss: 0.5285 - val_auc: 0.5000 - val_accuracy: 0.7788\n",
      "Epoch 5/30\n",
      "400/400 [==============================] - 3s 7ms/step - loss: 0.5280 - auc: 0.4788 - accuracy: 0.7798 - val_loss: 0.5286 - val_auc: 0.5000 - val_accuracy: 0.7788\n",
      "Epoch 6/30\n",
      "400/400 [==============================] - 3s 7ms/step - loss: 0.5276 - auc: 0.4992 - accuracy: 0.7797 - val_loss: 0.5285 - val_auc: 0.5000 - val_accuracy: 0.7788\n",
      "Epoch 7/30\n",
      "400/400 [==============================] - 3s 7ms/step - loss: 0.5211 - auc: 0.5016 - accuracy: 0.7848 - val_loss: 0.5285 - val_auc: 0.5000 - val_accuracy: 0.7788\n",
      "Epoch 8/30\n",
      "400/400 [==============================] - 3s 7ms/step - loss: 0.5312 - auc: 0.5009 - accuracy: 0.7769 - val_loss: 0.5286 - val_auc: 0.5000 - val_accuracy: 0.7788\n",
      "Epoch 9/30\n",
      "400/400 [==============================] - 3s 7ms/step - loss: 0.5366 - auc: 0.4695 - accuracy: 0.7727 - val_loss: 0.5285 - val_auc: 0.5000 - val_accuracy: 0.7788\n",
      "Epoch 10/30\n",
      "400/400 [==============================] - 3s 7ms/step - loss: 0.5261 - auc: 0.4883 - accuracy: 0.7809 - val_loss: 0.5293 - val_auc: 0.5000 - val_accuracy: 0.7788\n",
      "Epoch 11/30\n",
      "400/400 [==============================] - 3s 7ms/step - loss: 0.5314 - auc: 0.4934 - accuracy: 0.7768 - val_loss: 0.5292 - val_auc: 0.5000 - val_accuracy: 0.7788\n",
      "Epoch 12/30\n",
      "400/400 [==============================] - 3s 7ms/step - loss: 0.5239 - auc: 0.5024 - accuracy: 0.7825 - val_loss: 0.5289 - val_auc: 0.5000 - val_accuracy: 0.7788\n",
      "Epoch 13/30\n",
      "400/400 [==============================] - 3s 7ms/step - loss: 0.5278 - auc: 0.5028 - accuracy: 0.7793 - val_loss: 0.5291 - val_auc: 0.5000 - val_accuracy: 0.7788\n",
      "Epoch 14/30\n",
      "400/400 [==============================] - 3s 8ms/step - loss: 0.5347 - auc: 0.4908 - accuracy: 0.7740 - val_loss: 0.5285 - val_auc: 0.5000 - val_accuracy: 0.7788\n",
      "200/200 [==============================] - 0s 2ms/step - loss: 0.5262 - auc: 0.5000 - accuracy: 0.7806\n",
      "[CV] END learning_rate=0.009944363125584, n_hidden=35, n_neurons=174; total time=  45.4s\n",
      "Epoch 1/30\n",
      "400/400 [==============================] - 7s 8ms/step - loss: 105.2186 - auc: 0.5030 - accuracy: 0.7653 - val_loss: 0.5287 - val_auc: 0.5000 - val_accuracy: 0.7788\n",
      "Epoch 2/30\n",
      "400/400 [==============================] - 3s 7ms/step - loss: 0.5304 - auc: 0.4976 - accuracy: 0.7805 - val_loss: 0.5285 - val_auc: 0.5000 - val_accuracy: 0.7788\n",
      "Epoch 3/30\n",
      "400/400 [==============================] - 3s 7ms/step - loss: 0.5323 - auc: 0.4960 - accuracy: 0.7761 - val_loss: 0.5287 - val_auc: 0.5000 - val_accuracy: 0.7788\n",
      "Epoch 4/30\n",
      "400/400 [==============================] - 3s 7ms/step - loss: 0.5352 - auc: 0.5005 - accuracy: 0.7736 - val_loss: 0.5299 - val_auc: 0.5000 - val_accuracy: 0.7788\n",
      "Epoch 5/30\n",
      "400/400 [==============================] - 3s 7ms/step - loss: 0.5312 - auc: 0.4929 - accuracy: 0.7772 - val_loss: 0.5285 - val_auc: 0.5000 - val_accuracy: 0.7788\n",
      "Epoch 6/30\n",
      "400/400 [==============================] - 3s 7ms/step - loss: 0.5351 - auc: 0.4912 - accuracy: 0.7738 - val_loss: 0.5293 - val_auc: 0.5000 - val_accuracy: 0.7788\n",
      "Epoch 7/30\n",
      "400/400 [==============================] - 3s 7ms/step - loss: 0.5275 - auc: 0.4830 - accuracy: 0.7800 - val_loss: 0.5285 - val_auc: 0.5000 - val_accuracy: 0.7788\n",
      "Epoch 8/30\n",
      "400/400 [==============================] - 3s 7ms/step - loss: 0.5370 - auc: 0.4840 - accuracy: 0.7722 - val_loss: 0.5290 - val_auc: 0.5000 - val_accuracy: 0.7788\n",
      "Epoch 9/30\n",
      "400/400 [==============================] - 3s 7ms/step - loss: 0.5291 - auc: 0.4873 - accuracy: 0.7787 - val_loss: 0.5286 - val_auc: 0.4999 - val_accuracy: 0.7788\n",
      "Epoch 10/30\n",
      "400/400 [==============================] - 3s 7ms/step - loss: 0.5309 - auc: 0.4942 - accuracy: 0.7801 - val_loss: 0.5287 - val_auc: 0.5000 - val_accuracy: 0.7788\n",
      "Epoch 11/30\n",
      "400/400 [==============================] - 3s 7ms/step - loss: 0.5378 - auc: 0.4892 - accuracy: 0.7717 - val_loss: 0.5288 - val_auc: 0.5000 - val_accuracy: 0.7788\n",
      "200/200 [==============================] - 0s 2ms/step - loss: 0.5276 - auc: 0.5001 - accuracy: 0.7797\n",
      "[CV] END learning_rate=0.009944363125584, n_hidden=35, n_neurons=174; total time=  35.0s\n",
      "Epoch 1/30\n",
      "400/400 [==============================] - 4s 2ms/step - loss: 0.5889 - auc: 0.5099 - accuracy: 0.7726 - val_loss: 0.5286 - val_auc: 0.5000 - val_accuracy: 0.7788\n",
      "Epoch 2/30\n",
      "400/400 [==============================] - 1s 2ms/step - loss: 0.5291 - auc: 0.4899 - accuracy: 0.7784 - val_loss: 0.5285 - val_auc: 0.5000 - val_accuracy: 0.7788\n",
      "Epoch 3/30\n",
      "400/400 [==============================] - 1s 2ms/step - loss: 0.5200 - auc: 0.4950 - accuracy: 0.7855 - val_loss: 0.5289 - val_auc: 0.5000 - val_accuracy: 0.7788\n",
      "Epoch 4/30\n",
      "400/400 [==============================] - 1s 2ms/step - loss: 0.5277 - auc: 0.4908 - accuracy: 0.7797 - val_loss: 0.5285 - val_auc: 0.5000 - val_accuracy: 0.7788\n",
      "Epoch 5/30\n",
      "400/400 [==============================] - 1s 2ms/step - loss: 0.5242 - auc: 0.4873 - accuracy: 0.7823 - val_loss: 0.5285 - val_auc: 0.5000 - val_accuracy: 0.7788\n",
      "Epoch 6/30\n",
      "400/400 [==============================] - 1s 2ms/step - loss: 0.5246 - auc: 0.4974 - accuracy: 0.7818 - val_loss: 0.5287 - val_auc: 0.5000 - val_accuracy: 0.7788\n",
      "Epoch 7/30\n",
      "400/400 [==============================] - 1s 2ms/step - loss: 0.5187 - auc: 0.4988 - accuracy: 0.7867 - val_loss: 0.5287 - val_auc: 0.5000 - val_accuracy: 0.7788\n",
      "Epoch 8/30\n",
      "400/400 [==============================] - 1s 2ms/step - loss: 0.5320 - auc: 0.4990 - accuracy: 0.7760 - val_loss: 0.5285 - val_auc: 0.5000 - val_accuracy: 0.7788\n",
      "Epoch 9/30\n",
      "400/400 [==============================] - 1s 2ms/step - loss: 0.5340 - auc: 0.4952 - accuracy: 0.7745 - val_loss: 0.5285 - val_auc: 0.5000 - val_accuracy: 0.7788\n",
      "Epoch 10/30\n",
      "400/400 [==============================] - 1s 2ms/step - loss: 0.5355 - auc: 0.4880 - accuracy: 0.7734 - val_loss: 0.5285 - val_auc: 0.5000 - val_accuracy: 0.7788\n",
      "Epoch 11/30\n",
      "400/400 [==============================] - 1s 2ms/step - loss: 0.5269 - auc: 0.4955 - accuracy: 0.7800 - val_loss: 0.5285 - val_auc: 0.5000 - val_accuracy: 0.7788\n",
      "200/200 [==============================] - 0s 643us/step - loss: 0.5319 - auc: 0.5000 - accuracy: 0.7761\n",
      "[CV] END learning_rate=0.026118062634914545, n_hidden=25, n_neurons=2; total time=  11.9s\n",
      "Epoch 1/30\n",
      "400/400 [==============================] - 3s 3ms/step - loss: 0.5904 - auc: 0.5023 - accuracy: 0.7749 - val_loss: 0.5285 - val_auc: 0.5000 - val_accuracy: 0.7788\n",
      "Epoch 2/30\n",
      "400/400 [==============================] - 1s 2ms/step - loss: 0.5326 - auc: 0.4943 - accuracy: 0.7756 - val_loss: 0.5285 - val_auc: 0.5000 - val_accuracy: 0.7788\n",
      "Epoch 3/30\n",
      "400/400 [==============================] - 1s 2ms/step - loss: 0.5262 - auc: 0.4908 - accuracy: 0.7807 - val_loss: 0.5287 - val_auc: 0.5000 - val_accuracy: 0.7788\n",
      "Epoch 4/30\n",
      "400/400 [==============================] - 1s 2ms/step - loss: 0.5344 - auc: 0.4988 - accuracy: 0.7741 - val_loss: 0.5285 - val_auc: 0.5000 - val_accuracy: 0.7788\n",
      "Epoch 5/30\n",
      "400/400 [==============================] - 1s 2ms/step - loss: 0.5273 - auc: 0.4805 - accuracy: 0.7798 - val_loss: 0.5285 - val_auc: 0.5000 - val_accuracy: 0.7788\n",
      "Epoch 6/30\n",
      "400/400 [==============================] - 1s 2ms/step - loss: 0.5272 - auc: 0.4983 - accuracy: 0.7797 - val_loss: 0.5285 - val_auc: 0.5000 - val_accuracy: 0.7788\n",
      "Epoch 7/30\n",
      "400/400 [==============================] - 1s 2ms/step - loss: 0.5210 - auc: 0.4975 - accuracy: 0.7848 - val_loss: 0.5287 - val_auc: 0.5000 - val_accuracy: 0.7788\n",
      "Epoch 8/30\n",
      "400/400 [==============================] - 1s 2ms/step - loss: 0.5309 - auc: 0.5004 - accuracy: 0.7769 - val_loss: 0.5285 - val_auc: 0.5000 - val_accuracy: 0.7788\n",
      "Epoch 9/30\n",
      "400/400 [==============================] - 1s 2ms/step - loss: 0.5361 - auc: 0.4923 - accuracy: 0.7727 - val_loss: 0.5285 - val_auc: 0.5000 - val_accuracy: 0.7788\n",
      "Epoch 10/30\n",
      "400/400 [==============================] - 1s 2ms/step - loss: 0.5258 - auc: 0.4948 - accuracy: 0.7809 - val_loss: 0.5285 - val_auc: 0.5000 - val_accuracy: 0.7788\n",
      "Epoch 11/30\n",
      "400/400 [==============================] - 1s 2ms/step - loss: 0.5310 - auc: 0.4979 - accuracy: 0.7768 - val_loss: 0.5285 - val_auc: 0.5000 - val_accuracy: 0.7788\n",
      "200/200 [==============================] - 0s 663us/step - loss: 0.5262 - auc: 0.5000 - accuracy: 0.7806\n",
      "[CV] END learning_rate=0.026118062634914545, n_hidden=25, n_neurons=2; total time=  11.8s\n",
      "Epoch 1/30\n",
      "400/400 [==============================] - 4s 2ms/step - loss: 0.5895 - auc: 0.5021 - accuracy: 0.7762 - val_loss: 0.5285 - val_auc: 0.5000 - val_accuracy: 0.7788\n",
      "Epoch 2/30\n",
      "400/400 [==============================] - 1s 2ms/step - loss: 0.5264 - auc: 0.4977 - accuracy: 0.7805 - val_loss: 0.5285 - val_auc: 0.5000 - val_accuracy: 0.7788\n",
      "Epoch 3/30\n",
      "400/400 [==============================] - 1s 2ms/step - loss: 0.5319 - auc: 0.4983 - accuracy: 0.7761 - val_loss: 0.5285 - val_auc: 0.5000 - val_accuracy: 0.7788\n",
      "Epoch 4/30\n",
      "400/400 [==============================] - 1s 2ms/step - loss: 0.5349 - auc: 0.5022 - accuracy: 0.7736 - val_loss: 0.5287 - val_auc: 0.5000 - val_accuracy: 0.7788\n",
      "Epoch 5/30\n",
      "400/400 [==============================] - 1s 2ms/step - loss: 0.5307 - auc: 0.4879 - accuracy: 0.7772 - val_loss: 0.5285 - val_auc: 0.5000 - val_accuracy: 0.7788\n",
      "Epoch 6/30\n",
      "400/400 [==============================] - 1s 2ms/step - loss: 0.5348 - auc: 0.4964 - accuracy: 0.7738 - val_loss: 0.5286 - val_auc: 0.5000 - val_accuracy: 0.7788\n",
      "Epoch 7/30\n",
      "400/400 [==============================] - 1s 2ms/step - loss: 0.5270 - auc: 0.4950 - accuracy: 0.7800 - val_loss: 0.5285 - val_auc: 0.5000 - val_accuracy: 0.7788\n",
      "Epoch 8/30\n",
      "400/400 [==============================] - 1s 2ms/step - loss: 0.5367 - auc: 0.4970 - accuracy: 0.7722 - val_loss: 0.5286 - val_auc: 0.5000 - val_accuracy: 0.7788\n",
      "Epoch 9/30\n",
      "400/400 [==============================] - 1s 2ms/step - loss: 0.5287 - auc: 0.4854 - accuracy: 0.7787 - val_loss: 0.5285 - val_auc: 0.5000 - val_accuracy: 0.7788\n",
      "Epoch 10/30\n",
      "400/400 [==============================] - 1s 2ms/step - loss: 0.5268 - auc: 0.4930 - accuracy: 0.7801 - val_loss: 0.5285 - val_auc: 0.5000 - val_accuracy: 0.7788\n",
      "Epoch 11/30\n",
      "400/400 [==============================] - 1s 2ms/step - loss: 0.5375 - auc: 0.4938 - accuracy: 0.7717 - val_loss: 0.5285 - val_auc: 0.5000 - val_accuracy: 0.7788\n",
      "200/200 [==============================] - 0s 630us/step - loss: 0.5273 - auc: 0.5000 - accuracy: 0.7797\n",
      "[CV] END learning_rate=0.026118062634914545, n_hidden=25, n_neurons=2; total time=  12.3s\n",
      "Epoch 1/30\n",
      "600/600 [==============================] - 2s 1ms/step - loss: 0.4730 - auc: 0.7232 - accuracy: 0.8059 - val_loss: 0.4513 - val_auc: 0.7660 - val_accuracy: 0.8183\n",
      "Epoch 2/30\n",
      "600/600 [==============================] - 1s 963us/step - loss: 0.4352 - auc: 0.7657 - accuracy: 0.8215 - val_loss: 0.4589 - val_auc: 0.7532 - val_accuracy: 0.8092\n",
      "Epoch 3/30\n",
      "600/600 [==============================] - 1s 965us/step - loss: 0.4409 - auc: 0.7621 - accuracy: 0.8193 - val_loss: 0.4400 - val_auc: 0.7592 - val_accuracy: 0.8190\n",
      "Epoch 4/30\n",
      "600/600 [==============================] - 1s 965us/step - loss: 0.4362 - auc: 0.7746 - accuracy: 0.8210 - val_loss: 0.4419 - val_auc: 0.7625 - val_accuracy: 0.8169\n",
      "Epoch 5/30\n",
      "600/600 [==============================] - 1s 969us/step - loss: 0.4291 - auc: 0.7790 - accuracy: 0.8231 - val_loss: 0.4484 - val_auc: 0.7634 - val_accuracy: 0.8175\n",
      "Epoch 6/30\n",
      "600/600 [==============================] - 1s 972us/step - loss: 0.4288 - auc: 0.7765 - accuracy: 0.8243 - val_loss: 0.4432 - val_auc: 0.7622 - val_accuracy: 0.8175\n",
      "Epoch 7/30\n",
      "600/600 [==============================] - 1s 974us/step - loss: 0.4296 - auc: 0.7772 - accuracy: 0.8216 - val_loss: 0.4443 - val_auc: 0.7696 - val_accuracy: 0.8196\n",
      "Epoch 8/30\n",
      "600/600 [==============================] - 1s 989us/step - loss: 0.4320 - auc: 0.7761 - accuracy: 0.8200 - val_loss: 0.4345 - val_auc: 0.7745 - val_accuracy: 0.8208\n",
      "Epoch 9/30\n",
      "600/600 [==============================] - 1s 981us/step - loss: 0.4171 - auc: 0.7889 - accuracy: 0.8267 - val_loss: 0.4402 - val_auc: 0.7719 - val_accuracy: 0.8190\n",
      "Epoch 10/30\n",
      "600/600 [==============================] - 1s 988us/step - loss: 0.4255 - auc: 0.7829 - accuracy: 0.8243 - val_loss: 0.4486 - val_auc: 0.7705 - val_accuracy: 0.8200\n",
      "Epoch 11/30\n",
      "600/600 [==============================] - 1s 1ms/step - loss: 0.4212 - auc: 0.7831 - accuracy: 0.8277 - val_loss: 0.4437 - val_auc: 0.7635 - val_accuracy: 0.8183\n",
      "Epoch 12/30\n",
      "600/600 [==============================] - 1s 997us/step - loss: 0.4183 - auc: 0.7873 - accuracy: 0.8295 - val_loss: 0.4368 - val_auc: 0.7702 - val_accuracy: 0.8175\n",
      "Epoch 13/30\n",
      "600/600 [==============================] - 1s 975us/step - loss: 0.4256 - auc: 0.7828 - accuracy: 0.8227 - val_loss: 0.4373 - val_auc: 0.7705 - val_accuracy: 0.8177\n",
      "Epoch 14/30\n",
      "600/600 [==============================] - 1s 958us/step - loss: 0.4299 - auc: 0.7797 - accuracy: 0.8221 - val_loss: 0.4430 - val_auc: 0.7684 - val_accuracy: 0.8135\n",
      "Epoch 15/30\n",
      "600/600 [==============================] - 1s 958us/step - loss: 0.4109 - auc: 0.8000 - accuracy: 0.8300 - val_loss: 0.4364 - val_auc: 0.7729 - val_accuracy: 0.8169\n",
      "Epoch 16/30\n",
      "600/600 [==============================] - 1s 977us/step - loss: 0.4127 - auc: 0.8009 - accuracy: 0.8271 - val_loss: 0.4352 - val_auc: 0.7734 - val_accuracy: 0.8190\n",
      "Epoch 17/30\n"
     ]
    },
    {
     "name": "stdout",
     "output_type": "stream",
     "text": [
      "600/600 [==============================] - 1s 990us/step - loss: 0.4200 - auc: 0.7902 - accuracy: 0.8262 - val_loss: 0.4343 - val_auc: 0.7706 - val_accuracy: 0.8192\n",
      "Epoch 18/30\n",
      "600/600 [==============================] - 1s 981us/step - loss: 0.4181 - auc: 0.7897 - accuracy: 0.8259 - val_loss: 0.4384 - val_auc: 0.7697 - val_accuracy: 0.8181\n"
     ]
    },
    {
     "data": {
      "text/plain": [
       "RandomizedSearchCV(cv=3,\n",
       "                   estimator=<tensorflow.python.keras.wrappers.scikit_learn.KerasRegressor object at 0x7ff8ad0cceb0>,\n",
       "                   param_distributions={'learning_rate': [0.001683454924600351,\n",
       "                                                          0.02390836445593178,\n",
       "                                                          0.008731907739399206,\n",
       "                                                          0.004725396149933917,\n",
       "                                                          0.0006154014789262348,\n",
       "                                                          0.0006153331256530192,\n",
       "                                                          0.0003920021771415983,\n",
       "                                                          0.01619845322936229,\n",
       "                                                          0.004779156784872302,\n",
       "                                                          0.0...\n",
       "                                                          0.005021425736625637,\n",
       "                                                          0.0005703073595961105,\n",
       "                                                          0.001151888789941251,\n",
       "                                                          0.001621231156394198,\n",
       "                                                          0.0024505367684280487,\n",
       "                                                          0.011155092541719619,\n",
       "                                                          0.0007524347058135697,\n",
       "                                                          0.0032032448128444043,\n",
       "                                                          0.004591455636549438,\n",
       "                                                          0.0003715541189658278, ...],\n",
       "                                        'n_hidden': [5, 15, 25, 35, 45],\n",
       "                                        'n_neurons': [1, 2, 3, 4, 5, 6, 7, 8, 9,\n",
       "                                                      10, 11, 12, 13, 14, 15,\n",
       "                                                      16, 17, 18, 19, 20, 21,\n",
       "                                                      22, 23, 24, 25, 26, 27,\n",
       "                                                      28, 29, 30, ...]},\n",
       "                   verbose=2)"
      ]
     },
     "execution_count": 5,
     "metadata": {},
     "output_type": "execute_result"
    }
   ],
   "source": [
    "reset_session()\n",
    "\n",
    "def build_model(n_hidden=1, n_neurons=30, learning_rate=3e-3):\n",
    "    model = keras.models.Sequential()\n",
    "    model.add(keras.layers.Dense(91))\n",
    "    for layer in range(n_hidden):\n",
    "        model.add(keras.layers.Dense(n_neurons, activation=\"relu\",kernel_initializer=\"he_normal\"))\n",
    "    model.add(keras.layers.Dense(1, activation = \"sigmoid\"))\n",
    "    \n",
    "    model.compile(loss=\"binary_crossentropy\", optimizer=\"nadam\", metrics = [\"AUC\",\"accuracy\"])\n",
    "    return model\n",
    "\n",
    "model = keras.wrappers.scikit_learn.KerasRegressor(build_model)\n",
    "\n",
    "from scipy.stats import reciprocal\n",
    "from sklearn.model_selection import RandomizedSearchCV\n",
    "\n",
    "param_distribs = {\n",
    "    \"n_hidden\": [5, 15, 25, 35, 45],\n",
    "    \"n_neurons\": np.arange(1, 200)               .tolist(),\n",
    "    \"learning_rate\": reciprocal(3e-4, 3e-2)      .rvs(1000).tolist()\n",
    "}\n",
    "\n",
    "rnd_search_cv = RandomizedSearchCV(model, param_distribs, n_iter=10, cv=3, verbose=2)\n",
    "\n",
    "\n",
    "lr_scheduler = keras.callbacks.LearningRateScheduler(exponential_decay(lr0=0.01, s=20))\n",
    "early_stopping_cb = keras.callbacks.EarlyStopping(patience=10,\n",
    "                                                  min_delta=0.001)\n",
    "\n",
    "rnd_search_cv.fit(X_train_scale, y_train, epochs=30,\n",
    "                  validation_data=(X_valid_scale, y_valid),\n",
    "                  callbacks=[lr_scheduler,early_stopping_cb])\n",
    "        \n"
   ]
  },
  {
   "cell_type": "code",
   "execution_count": 6,
   "id": "a5f3b73c",
   "metadata": {},
   "outputs": [
    {
     "data": {
      "text/plain": [
       "{'n_neurons': 47, 'n_hidden': 5, 'learning_rate': 0.0011137872537121593}"
      ]
     },
     "execution_count": 6,
     "metadata": {},
     "output_type": "execute_result"
    }
   ],
   "source": [
    "rnd_search_cv.best_params_"
   ]
  },
  {
   "cell_type": "code",
   "execution_count": 7,
   "id": "4911f1f4",
   "metadata": {
    "ExecuteTime": {
     "end_time": "2021-05-26T15:30:43.154799Z",
     "start_time": "2021-05-26T15:29:45.074676Z"
    }
   },
   "outputs": [
    {
     "name": "stdout",
     "output_type": "stream",
     "text": [
      "Epoch 1/200\n",
      "600/600 [==============================] - 1s 1ms/step - loss: 0.4391 - auc: 0.7681 - accuracy: 0.8197 - val_loss: 0.4438 - val_auc: 0.7686 - val_accuracy: 0.8179\n",
      "Epoch 2/200\n",
      "600/600 [==============================] - 1s 989us/step - loss: 0.4320 - auc: 0.7740 - accuracy: 0.8230 - val_loss: 0.4387 - val_auc: 0.7712 - val_accuracy: 0.8181\n",
      "Epoch 3/200\n",
      "600/600 [==============================] - 1s 1ms/step - loss: 0.4321 - auc: 0.7760 - accuracy: 0.8220 - val_loss: 0.4409 - val_auc: 0.7661 - val_accuracy: 0.8171\n",
      "Epoch 4/200\n",
      "600/600 [==============================] - 1s 992us/step - loss: 0.4344 - auc: 0.7720 - accuracy: 0.8229 - val_loss: 0.4396 - val_auc: 0.7647 - val_accuracy: 0.8190\n",
      "Epoch 5/200\n",
      "600/600 [==============================] - 1s 995us/step - loss: 0.4374 - auc: 0.7765 - accuracy: 0.8052 - val_loss: 0.4583 - val_auc: 0.7675 - val_accuracy: 0.7785\n",
      "Epoch 6/200\n",
      "600/600 [==============================] - 1s 1ms/step - loss: 0.4375 - auc: 0.7747 - accuracy: 0.8166 - val_loss: 0.4468 - val_auc: 0.7696 - val_accuracy: 0.8152\n",
      "Epoch 7/200\n",
      "600/600 [==============================] - 1s 1ms/step - loss: 0.4310 - auc: 0.7787 - accuracy: 0.8220 - val_loss: 0.4435 - val_auc: 0.7720 - val_accuracy: 0.8177\n",
      "Epoch 8/200\n",
      "600/600 [==============================] - 1s 1ms/step - loss: 0.4278 - auc: 0.7831 - accuracy: 0.8230 - val_loss: 0.4355 - val_auc: 0.7740 - val_accuracy: 0.8160\n",
      "Epoch 9/200\n",
      "600/600 [==============================] - 1s 1ms/step - loss: 0.4254 - auc: 0.7840 - accuracy: 0.8239 - val_loss: 0.4401 - val_auc: 0.7727 - val_accuracy: 0.8183\n",
      "Epoch 10/200\n",
      "600/600 [==============================] - 1s 1ms/step - loss: 0.4261 - auc: 0.7846 - accuracy: 0.8221 - val_loss: 0.4534 - val_auc: 0.7734 - val_accuracy: 0.8169\n",
      "Epoch 11/200\n",
      "600/600 [==============================] - 1s 1ms/step - loss: 0.4256 - auc: 0.7849 - accuracy: 0.8233 - val_loss: 0.4399 - val_auc: 0.7684 - val_accuracy: 0.8156\n",
      "Epoch 12/200\n",
      "600/600 [==============================] - 1s 1ms/step - loss: 0.4252 - auc: 0.7865 - accuracy: 0.8220 - val_loss: 0.4349 - val_auc: 0.7725 - val_accuracy: 0.8177\n",
      "Epoch 13/200\n",
      "600/600 [==============================] - 1s 1ms/step - loss: 0.4236 - auc: 0.7884 - accuracy: 0.8243 - val_loss: 0.4383 - val_auc: 0.7674 - val_accuracy: 0.8181\n",
      "Epoch 14/200\n",
      "600/600 [==============================] - 1s 1ms/step - loss: 0.4241 - auc: 0.7874 - accuracy: 0.8227 - val_loss: 0.4382 - val_auc: 0.7723 - val_accuracy: 0.8169\n",
      "Epoch 15/200\n",
      "600/600 [==============================] - 1s 1ms/step - loss: 0.4224 - auc: 0.7894 - accuracy: 0.8239 - val_loss: 0.4358 - val_auc: 0.7722 - val_accuracy: 0.8188\n",
      "Epoch 16/200\n",
      "600/600 [==============================] - 1s 1ms/step - loss: 0.4220 - auc: 0.7910 - accuracy: 0.8242 - val_loss: 0.4367 - val_auc: 0.7724 - val_accuracy: 0.8188\n",
      "Epoch 17/200\n",
      "600/600 [==============================] - 1s 1ms/step - loss: 0.4211 - auc: 0.7912 - accuracy: 0.8257 - val_loss: 0.4357 - val_auc: 0.7724 - val_accuracy: 0.8194\n",
      "Epoch 18/200\n",
      "600/600 [==============================] - 1s 1ms/step - loss: 0.4203 - auc: 0.7917 - accuracy: 0.8252 - val_loss: 0.4371 - val_auc: 0.7712 - val_accuracy: 0.8190\n"
     ]
    }
   ],
   "source": [
    "model = rnd_search_cv.best_estimator_.model\n",
    "run = model.fit(X_train_scale, y_train, epochs=200,\n",
    "                validation_data=(X_valid_scale, y_valid),\n",
    "                callbacks=[early_stopping_cb, lr_scheduler])"
   ]
  },
  {
   "cell_type": "code",
   "execution_count": 8,
   "id": "4cf510f6",
   "metadata": {
    "ExecuteTime": {
     "end_time": "2021-05-26T15:30:47.114464Z",
     "start_time": "2021-05-26T15:30:47.106472Z"
    }
   },
   "outputs": [
    {
     "data": {
      "text/plain": [
       "0.7740323543548584"
      ]
     },
     "execution_count": 8,
     "metadata": {},
     "output_type": "execute_result"
    }
   ],
   "source": [
    "max(run.history[\"val_auc\"])"
   ]
  },
  {
   "cell_type": "code",
   "execution_count": 10,
   "id": "1fc91c63",
   "metadata": {
    "ExecuteTime": {
     "end_time": "2021-05-26T15:30:50.259549Z",
     "start_time": "2021-05-26T15:30:50.042461Z"
    }
   },
   "outputs": [
    {
     "data": {
      "image/png": "[encoded data removed]",
      "text/plain": [
       "<Figure size 576x360 with 2 Axes>"
      ]
     },
     "metadata": {
      "needs_background": "light"
     },
     "output_type": "display_data"
    }
   ],
   "source": [
    "import matplotlib.pyplot as plt\n",
    "\n",
    "plt.figure(figsize=(8,5))\n",
    "ln1=plt.plot(run.epoch, run.history[\"val_loss\"], \"g-\", label='val_loss')\n",
    "ln2=plt.plot(run.epoch, run.history[\"loss\"], \"b-\", label='loss')\n",
    "ln3=plt.plot(run.epoch, run.history[\"auc\"], \"-\", color='orange', label='auc')\n",
    "ln4=plt.plot(run.epoch, run.history[\"val_auc\"], \"r-\", label='val_auc')\n",
    "plt.xlabel(\"Epoch\")\n",
    "plt.ylabel(\"Loss\", color='b')\n",
    "plt.tick_params('y', colors='b')\n",
    "plt.gca().set_xlim(0, None)\n",
    "plt.gca().set_ylim(0, 1)\n",
    "plt.grid(True)\n",
    "\n",
    "ax2 = plt.gca().twinx()\n",
    "ln5 = ax2.plot(run.epoch, run.history[\"lr\"], \"^-\", color='purple', label='lr')\n",
    "ax2.set_ylabel(\"Learning Rate\", color='purple')\n",
    "ax2.tick_params('y', colors='purple')\n",
    "\n",
    "lns = ln1+ln2+ln3+ln4+ln5\n",
    "labs = [l.get_label() for l in lns]\n",
    "plt.legend(lns, labs, loc=(1.2,0), fontsize=16)\n",
    "plt.show()"
   ]
  },
  {
   "cell_type": "markdown",
   "id": "ef019bee",
   "metadata": {},
   "source": [
    "ANN gives the best out-of sample auc."
   ]
  },
  {
   "cell_type": "markdown",
   "id": "2084d150",
   "metadata": {},
   "source": [
    "<h2>Performance on Test set</h2>"
   ]
  },
  {
   "cell_type": "markdown",
   "id": "e5e7799a",
   "metadata": {},
   "source": [
    "<h3>SGD</h3>"
   ]
  },
  {
   "cell_type": "code",
   "execution_count": 64,
   "id": "6c1d458b",
   "metadata": {
    "ExecuteTime": {
     "end_time": "2021-05-25T15:26:54.943524Z",
     "start_time": "2021-05-25T15:26:54.911541Z"
    }
   },
   "outputs": [
    {
     "data": {
      "text/plain": [
       "0.8165"
      ]
     },
     "execution_count": 64,
     "metadata": {},
     "output_type": "execute_result"
    }
   ],
   "source": [
    "# check on test set\n",
    "X_test_scale = final_pipeline.transform(X_test)\n",
    "\n",
    "#SGD Classifier\n",
    "sgd_test_pred = sgd_rnSearch.best_estimator_.predict(X_test_scale)\n",
    "accuracy_score(y_test,sgd_test_pred)"
   ]
  },
  {
   "cell_type": "markdown",
   "id": "96eddf3e",
   "metadata": {},
   "source": [
    "<h3>Random Forest</h3>"
   ]
  },
  {
   "cell_type": "code",
   "execution_count": 65,
   "id": "9a25db2b",
   "metadata": {
    "ExecuteTime": {
     "end_time": "2021-05-25T15:29:02.473170Z",
     "start_time": "2021-05-25T15:29:02.393773Z"
    }
   },
   "outputs": [
    {
     "data": {
      "text/plain": [
       "0.8155"
      ]
     },
     "execution_count": 65,
     "metadata": {},
     "output_type": "execute_result"
    }
   ],
   "source": [
    "#Random Forest \n",
    "forest_test_pred = forest_rnSearch.best_estimator_.predict(X_test_scale)\n",
    "accuracy_score(y_test,forest_test_pred)"
   ]
  },
  {
   "cell_type": "markdown",
   "id": "2c8c094b",
   "metadata": {},
   "source": [
    "<h3>Adaboost</h3>"
   ]
  },
  {
   "cell_type": "code",
   "execution_count": 66,
   "id": "93e2c97e",
   "metadata": {
    "ExecuteTime": {
     "end_time": "2021-05-25T15:29:52.140210Z",
     "start_time": "2021-05-25T15:29:51.964615Z"
    }
   },
   "outputs": [
    {
     "data": {
      "text/plain": [
       "0.8151666666666667"
      ]
     },
     "execution_count": 66,
     "metadata": {},
     "output_type": "execute_result"
    }
   ],
   "source": [
    "# Adaboost\n",
    "ada_test_pred = ada_rnSearch.best_estimator_.predict(X_test_scale)\n",
    "accuracy_score(y_test,ada_test_pred)"
   ]
  },
  {
   "cell_type": "markdown",
   "id": "39b1704b",
   "metadata": {},
   "source": [
    "<h3>Gradient Boosting</h3>"
   ]
  },
  {
   "cell_type": "code",
   "execution_count": 67,
   "id": "b3192c0b",
   "metadata": {
    "ExecuteTime": {
     "end_time": "2021-05-25T15:37:25.242209Z",
     "start_time": "2021-05-25T15:37:25.220226Z"
    }
   },
   "outputs": [
    {
     "data": {
      "text/plain": [
       "0.8168333333333333"
      ]
     },
     "execution_count": 67,
     "metadata": {},
     "output_type": "execute_result"
    }
   ],
   "source": [
    "# gradient boosting\n",
    "gradientBoosting_test_pred = gradientBoost_rnSearch.best_estimator_.predict(X_test_scale)\n",
    "accuracy_score(y_test,gradientBoosting_test_pred)"
   ]
  },
  {
   "cell_type": "markdown",
   "id": "4d000940",
   "metadata": {},
   "source": [
    "<h3>ANN</h3>"
   ]
  },
  {
   "cell_type": "code",
   "execution_count": 12,
   "id": "fa8cbdf2",
   "metadata": {
    "ExecuteTime": {
     "end_time": "2021-05-26T15:30:55.059942Z",
     "start_time": "2021-05-26T15:30:54.634445Z"
    }
   },
   "outputs": [
    {
     "data": {
      "text/plain": [
       "0.817"
      ]
     },
     "execution_count": 12,
     "metadata": {},
     "output_type": "execute_result"
    }
   ],
   "source": [
    "#ANN\n",
    "from sklearn.metrics import accuracy_score\n",
    "ANN_test_pred_score = run.model.predict(X_test_scale)\n",
    "ANN_test_pred = ANN_test_pred_score>0.5\n",
    "accuracy_score(y_test,ANN_test_pred)"
   ]
  },
  {
   "cell_type": "markdown",
   "id": "6945244b",
   "metadata": {},
   "source": [
    "ANN gives the best test-set accuracy, although they are all very close."
   ]
  },
  {
   "cell_type": "markdown",
   "id": "4a62e9fa",
   "metadata": {},
   "source": [
    "<h2>Conclusion & Reflection</h2>"
   ]
  },
  {
   "cell_type": "markdown",
   "id": "bcba2fd0",
   "metadata": {},
   "source": [
    "<h3>Conclusion</h3>\n",
    "\n",
    "1. In terms of accuracy, currently there is no algorithm that can significantly outperform the default assumption (No one defaults).\n",
    "\n",
    "\n",
    "2. Though the predicting accuracy of our models are not so high, it does not mean these models have no predicting power on credit cards defaults at all because it is a bias datasets and we should not judge our models on accuracy. Actually, according to 'Area Under Curve' metric of these models, SVC with Gaussian kernel achieves 0.720, Random Forest's AUC is 0.759963, SGD Classifier's is a little higher and achieves 0.7645, Logistic Regression's AUC is 0.7718, and ANN has the best AUC score, which is 0.7740. We can see that all of them are significantly higher than 0.5, so these models do have predicting power on credit cards defaults.\n",
    "\n",
    "\n",
    "3. Major algorithms reach simlar performance, ANN with specified structure ourperforms the rest by a small margin.\n",
    "\n",
    "<h3>Reflection</h3>\n",
    "\n",
    "1. The observed period is too short (only 6 months). 6 months of information may not be sufficient.\n",
    "\n",
    "\n",
    "2. Maybe the selected features are not representative (innate flaws of the data set).\n",
    "\n",
    "\n",
    "3. To achieve more accurate prediction on credit card defaults, perhaps we need to add more informative explaining variables into the model."
   ]
  },
  {
   "cell_type": "markdown",
   "id": "ef0d9bd1",
   "metadata": {},
   "source": [
    "<h2>Reference</h2>\n",
    "\n",
    "1. http://archive.ics.uci.edu/ml/datasets/default+of+credit+card+clients\n",
    "\n",
    "\n",
    "2. Yeh, I. C., & Lien, C. H. (2009). The comparisons of data mining techniques for the predictive accuracy of probability of default of credit card clients. Expert Systems with Applications, 36(2), 2473-2480.\n",
    "\n",
    "\n",
    "3. https://scikit-learn.org/stable/modules/generated/sklearn.metrics.f1_score.html#sklearn.metrics.f1_score"
   ]
  },
  {
   "cell_type": "markdown",
   "id": "35278d70",
   "metadata": {},
   "source": [
    "<h2>Contribution of Group Members</h2>"
   ]
  },
  {
   "cell_type": "markdown",
   "id": "48f5d007",
   "metadata": {},
   "source": [
    "<h3>Haotian Zhang:</h3>\n",
    "\n",
    "**Model develope and analysis:** \n",
    "\n",
    "1. Linear SVM Classifier\n",
    "\n",
    "2. SGD Classifier  \n",
    "\n",
    "3. Adaboost  \n",
    "\n",
    "4. Gradient Boosting  \n",
    "\n",
    "5. Artificial Neuron Network\n",
    "\n",
    "**Other:** \n",
    "\n",
    "1. Data context and variables descriptions \n",
    "\n",
    "2. Draw conclusions \n",
    "\n",
    "3. Format adjustment\n",
    "\n",
    "\n",
    "<h3>Zepei Zhu:</h3> \n",
    "\n",
    "**Model develope and analysis:**\n",
    "\n",
    "1. Logistic regression \n",
    "\n",
    "2. SVM with Gaussian kernel\n",
    "\n",
    "3. Random Forest\n",
    "\n",
    "4. Hard voting Classifier\n",
    "\n",
    "5. Soft voting Classifier\n",
    "\n",
    "**Other:**\n",
    "\n",
    "1. Data preprocessing\n",
    "\n",
    "2. Evaluate metrics selection\n",
    "\n",
    "3. Evaluate models on test set"
   ]
  },
  {
   "cell_type": "code",
   "execution_count": null,
   "id": "8cd17953",
   "metadata": {},
   "outputs": [],
   "source": []
  }
 ],
 "metadata": {
  "kernelspec": {
   "display_name": "Python 3",
   "language": "python",
   "name": "python3"
  },
  "language_info": {
   "codemirror_mode": {
    "name": "ipython",
    "version": 3
   },
   "file_extension": ".py",
   "mimetype": "text/x-python",
   "name": "python",
   "nbconvert_exporter": "python",
   "pygments_lexer": "ipython3",
   "version": "3.9.1"
  }
 },
 "nbformat": 4,
 "nbformat_minor": 5
}
